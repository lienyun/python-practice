{
 "cells": [
  {
   "cell_type": "code",
   "execution_count": 1,
   "id": "f5b41cea",
   "metadata": {},
   "outputs": [
    {
     "name": "stdout",
     "output_type": "stream",
     "text": [
      "time max:  2262-04-11 23:47:16.854775807\n",
      "time min:  1677-09-21 00:12:43.145224193\n"
     ]
    }
   ],
   "source": [
    "import pandas as pd\n",
    "print('time max: ',pd.Timestamp.max)\n",
    "print('time min: ',pd.Timestamp.min)"
   ]
  },
  {
   "cell_type": "code",
   "execution_count": 3,
   "id": "5f3b237c",
   "metadata": {},
   "outputs": [
    {
     "data": {
      "text/plain": [
       "2022-01-01      9\n",
       "2022-01-02    100\n",
       "2022-01-03     15\n",
       "2022-01-04     64\n",
       "2022-01-05     28\n",
       "2022-01-06     89\n",
       "2022-01-07     93\n",
       "2022-01-08     29\n",
       "2022-01-09      8\n",
       "2022-01-10     73\n",
       "Freq: D, dtype: int32"
      ]
     },
     "execution_count": 3,
     "metadata": {},
     "output_type": "execute_result"
    }
   ],
   "source": [
    "import numpy as np\n",
    "\n",
    "# 產生含日期的資料\n",
    "np.random.seed(10)\n",
    "s = pd.Series(np.random.randint(101, size = 10),\n",
    "             index = pd.date_range('2022-01-01', periods = 10, freq = 'D'))\n",
    "s"
   ]
  },
  {
   "cell_type": "code",
   "execution_count": 4,
   "id": "c85463b8",
   "metadata": {},
   "outputs": [
    {
     "data": {
      "text/plain": [
       "15"
      ]
     },
     "execution_count": 4,
     "metadata": {},
     "output_type": "execute_result"
    }
   ],
   "source": [
    "# 取日期\n",
    "s['2022-01-03']"
   ]
  },
  {
   "cell_type": "code",
   "execution_count": 5,
   "id": "22330611",
   "metadata": {},
   "outputs": [
    {
     "data": {
      "text/plain": [
       "2022-01-03    15\n",
       "2022-01-04    64\n",
       "2022-01-05    28\n",
       "2022-01-06    89\n",
       "Freq: D, dtype: int32"
      ]
     },
     "execution_count": 5,
     "metadata": {},
     "output_type": "execute_result"
    }
   ],
   "source": [
    "s['2022-01-03':'2022-01-06']"
   ]
  },
  {
   "cell_type": "code",
   "execution_count": 6,
   "id": "8eac4f7a",
   "metadata": {},
   "outputs": [
    {
     "data": {
      "text/plain": [
       "2022-01-03    15\n",
       "2022-01-04    64\n",
       "2022-01-05    28\n",
       "2022-01-06    89\n",
       "Freq: D, dtype: int32"
      ]
     },
     "execution_count": 6,
     "metadata": {},
     "output_type": "execute_result"
    }
   ],
   "source": [
    "s.loc['2022-01-03':'2022-01-06']"
   ]
  },
  {
   "cell_type": "code",
   "execution_count": 7,
   "id": "2b4e14a5",
   "metadata": {},
   "outputs": [
    {
     "data": {
      "text/plain": [
       "2022-01-03    15\n",
       "2022-01-04    64\n",
       "2022-01-05    28\n",
       "2022-01-06    89\n",
       "Freq: D, dtype: int32"
      ]
     },
     "execution_count": 7,
     "metadata": {},
     "output_type": "execute_result"
    }
   ],
   "source": [
    "# 不能用iloc，沒有索引值\n",
    "s.iloc[2:6]"
   ]
  },
  {
   "cell_type": "code",
   "execution_count": 21,
   "id": "323623b7",
   "metadata": {},
   "outputs": [
    {
     "data": {
      "text/plain": [
       "2022-01-01      9\n",
       "2022-01-02    100\n",
       "2022-01-03     15\n",
       "2022-01-04     64\n",
       "2022-01-05     28\n",
       "             ... \n",
       "2022-04-06     45\n",
       "2022-04-07     40\n",
       "2022-04-08     89\n",
       "2022-04-09     73\n",
       "2022-04-10     37\n",
       "Freq: D, Length: 100, dtype: int32"
      ]
     },
     "execution_count": 21,
     "metadata": {},
     "output_type": "execute_result"
    }
   ],
   "source": [
    "# 增加到200組\n",
    "import pandas as pd\n",
    "import numpy as np\n",
    "\n",
    "# 產生含日期的資料\n",
    "np.random.seed(10)\n",
    "s = pd.Series(np.random.randint(101, size = 100),\n",
    "             index = pd.date_range('2022-01-01', periods = 100, freq = 'D'))\n",
    "s"
   ]
  },
  {
   "cell_type": "code",
   "execution_count": 22,
   "id": "e066d1b4",
   "metadata": {},
   "outputs": [
    {
     "data": {
      "text/plain": [
       "2022-02-01    92\n",
       "2022-02-02    86\n",
       "2022-02-03    30\n",
       "2022-02-04    30\n",
       "2022-02-05    89\n",
       "              ..\n",
       "2022-04-06    45\n",
       "2022-04-07    40\n",
       "2022-04-08    89\n",
       "2022-04-09    73\n",
       "2022-04-10    37\n",
       "Freq: D, Length: 69, dtype: int32"
      ]
     },
     "execution_count": 22,
     "metadata": {},
     "output_type": "execute_result"
    }
   ],
   "source": [
    "# 只取二月份\n",
    "s['2022-02']\n",
    "\n",
    "# 取2-6月\n",
    "s['2022-02':'2022-06']\n",
    "\n",
    "# loc\n",
    "s.loc['2022-02':'2022-06']"
   ]
  },
  {
   "cell_type": "code",
   "execution_count": 24,
   "id": "744464d6",
   "metadata": {},
   "outputs": [
    {
     "data": {
      "text/plain": [
       "2019-01-01      9\n",
       "2019-01-02    100\n",
       "2019-01-03     15\n",
       "2019-01-04     64\n",
       "2019-01-05     28\n",
       "             ... \n",
       "2021-09-22     62\n",
       "2021-09-23      4\n",
       "2021-09-24     84\n",
       "2021-09-25      9\n",
       "2021-09-26     75\n",
       "Freq: D, Length: 1000, dtype: int32"
      ]
     },
     "execution_count": 24,
     "metadata": {},
     "output_type": "execute_result"
    }
   ],
   "source": [
    "# 增加到1000組\n",
    "import pandas as pd\n",
    "import numpy as np\n",
    "\n",
    "# 產生含日期的資料\n",
    "np.random.seed(10)\n",
    "s = pd.Series(np.random.randint(101, size = 1000),\n",
    "             index = pd.date_range('2019-01-01', periods = 1000, freq = 'D'))\n",
    "s"
   ]
  },
  {
   "cell_type": "code",
   "execution_count": 25,
   "id": "53f2b27e",
   "metadata": {},
   "outputs": [
    {
     "data": {
      "text/plain": [
       "2019-01-01      9\n",
       "2019-01-02    100\n",
       "2019-01-03     15\n",
       "2019-01-04     64\n",
       "2019-01-05     28\n",
       "             ... \n",
       "2019-12-27     64\n",
       "2019-12-28     49\n",
       "2019-12-29     90\n",
       "2019-12-30      9\n",
       "2019-12-31     27\n",
       "Freq: D, Length: 365, dtype: int32"
      ]
     },
     "execution_count": 25,
     "metadata": {},
     "output_type": "execute_result"
    }
   ],
   "source": [
    "s['2019']"
   ]
  },
  {
   "cell_type": "code",
   "execution_count": 27,
   "id": "76fc8a2c",
   "metadata": {},
   "outputs": [
    {
     "data": {
      "text/plain": [
       "2019-01-06    89\n",
       "2019-01-13    36\n",
       "2019-01-20    33\n",
       "2019-01-27    77\n",
       "2019-02-03    30\n",
       "              ..\n",
       "2021-08-29    37\n",
       "2021-09-05    54\n",
       "2021-09-12    99\n",
       "2021-09-19    96\n",
       "2021-09-26    75\n",
       "Freq: W-SUN, Length: 143, dtype: int32"
      ]
     },
     "execution_count": 27,
     "metadata": {},
     "output_type": "execute_result"
    }
   ],
   "source": [
    "s.resample('W').last()"
   ]
  },
  {
   "cell_type": "code",
   "execution_count": 28,
   "id": "6d29bd94",
   "metadata": {},
   "outputs": [
    {
     "data": {
      "text/plain": [
       "2019-01-06     9\n",
       "2019-01-13    93\n",
       "2019-01-20    16\n",
       "2019-01-27    72\n",
       "2019-02-03    69\n",
       "              ..\n",
       "2021-08-29    67\n",
       "2021-09-05     3\n",
       "2021-09-12    19\n",
       "2021-09-19    95\n",
       "2021-09-26     8\n",
       "Freq: W-SUN, Length: 143, dtype: int32"
      ]
     },
     "execution_count": 28,
     "metadata": {},
     "output_type": "execute_result"
    }
   ],
   "source": [
    "s.resample('W').first()"
   ]
  },
  {
   "cell_type": "code",
   "execution_count": 29,
   "id": "064dcd95",
   "metadata": {},
   "outputs": [
    {
     "data": {
      "text/plain": [
       "2019-01-06    100\n",
       "2019-01-13     93\n",
       "2019-01-20    100\n",
       "2019-01-27    100\n",
       "2019-02-03     92\n",
       "             ... \n",
       "2021-08-29     71\n",
       "2021-09-05     99\n",
       "2021-09-12     99\n",
       "2021-09-19     96\n",
       "2021-09-26     88\n",
       "Freq: W-SUN, Length: 143, dtype: int32"
      ]
     },
     "execution_count": 29,
     "metadata": {},
     "output_type": "execute_result"
    }
   ],
   "source": [
    "s.resample('W').max()"
   ]
  },
  {
   "cell_type": "code",
   "execution_count": 30,
   "id": "bbefda34",
   "metadata": {},
   "outputs": [
    {
     "data": {
      "text/plain": [
       "2019-01-06     9\n",
       "2019-01-13     0\n",
       "2019-01-20    11\n",
       "2019-01-27    49\n",
       "2019-02-03    13\n",
       "              ..\n",
       "2021-08-29    37\n",
       "2021-09-05     3\n",
       "2021-09-12     2\n",
       "2021-09-19     1\n",
       "2021-09-26     4\n",
       "Freq: W-SUN, Length: 143, dtype: int32"
      ]
     },
     "execution_count": 30,
     "metadata": {},
     "output_type": "execute_result"
    }
   ],
   "source": [
    "s.resample('W').min()"
   ]
  },
  {
   "cell_type": "code",
   "execution_count": 31,
   "id": "53474d5d",
   "metadata": {},
   "outputs": [
    {
     "data": {
      "text/plain": [
       "2019-01-06    50.833333\n",
       "2019-01-13    39.857143\n",
       "2019-01-20    52.000000\n",
       "2019-01-27    68.714286\n",
       "2019-02-03    46.857143\n",
       "                ...    \n",
       "2021-08-29    54.714286\n",
       "2021-09-05    44.714286\n",
       "2021-09-12    53.714286\n",
       "2021-09-19    58.000000\n",
       "2021-09-26    47.142857\n",
       "Freq: W-SUN, Length: 143, dtype: float64"
      ]
     },
     "execution_count": 31,
     "metadata": {},
     "output_type": "execute_result"
    }
   ],
   "source": [
    "s.resample('W').mean()"
   ]
  },
  {
   "cell_type": "code",
   "execution_count": 32,
   "id": "5b9a5904",
   "metadata": {},
   "outputs": [
    {
     "data": {
      "text/plain": [
       "2019-01-06    305\n",
       "2019-01-13    279\n",
       "2019-01-20    364\n",
       "2019-01-27    481\n",
       "2019-02-03    328\n",
       "             ... \n",
       "2021-08-29    383\n",
       "2021-09-05    313\n",
       "2021-09-12    376\n",
       "2021-09-19    406\n",
       "2021-09-26    330\n",
       "Freq: W-SUN, Length: 143, dtype: int32"
      ]
     },
     "execution_count": 32,
     "metadata": {},
     "output_type": "execute_result"
    }
   ],
   "source": [
    "s.resample('W').sum()"
   ]
  },
  {
   "cell_type": "code",
   "execution_count": 33,
   "id": "85516359",
   "metadata": {},
   "outputs": [
    {
     "data": {
      "text/plain": [
       "2019-01-06    6\n",
       "2019-01-13    7\n",
       "2019-01-20    7\n",
       "2019-01-27    7\n",
       "2019-02-03    7\n",
       "             ..\n",
       "2021-08-29    7\n",
       "2021-09-05    7\n",
       "2021-09-12    7\n",
       "2021-09-19    7\n",
       "2021-09-26    7\n",
       "Freq: W-SUN, Length: 143, dtype: int64"
      ]
     },
     "execution_count": 33,
     "metadata": {},
     "output_type": "execute_result"
    }
   ],
   "source": [
    "s.resample('W').count()\n",
    "# 會有六天可能是因為跨年"
   ]
  },
  {
   "cell_type": "code",
   "execution_count": 34,
   "id": "49e29e37",
   "metadata": {},
   "outputs": [
    {
     "data": {
      "text/plain": [
       "2022-01-01      9\n",
       "2022-01-02    100\n",
       "2022-01-03     15\n",
       "2022-01-04     64\n",
       "2022-01-05     28\n",
       "             ... \n",
       "2023-05-11     38\n",
       "2023-05-12     27\n",
       "2023-05-13     96\n",
       "2023-05-14     87\n",
       "2023-05-15     98\n",
       "Freq: D, Length: 500, dtype: int32"
      ]
     },
     "execution_count": 34,
     "metadata": {},
     "output_type": "execute_result"
    }
   ],
   "source": [
    "# 回到500組\n",
    "import pandas as pd\n",
    "import numpy as np\n",
    "\n",
    "# 產生含日期的資料\n",
    "np.random.seed(10)\n",
    "s = pd.Series(np.random.randint(101, size = 500),\n",
    "             index = pd.date_range('2022-01-01', periods = 500, freq = 'D'))\n",
    "s"
   ]
  },
  {
   "cell_type": "code",
   "execution_count": 38,
   "id": "c255f5f6",
   "metadata": {},
   "outputs": [],
   "source": [
    "s.to_csv('每日記錄.csv', header = False)"
   ]
  },
  {
   "cell_type": "code",
   "execution_count": 36,
   "id": "76738906",
   "metadata": {},
   "outputs": [
    {
     "data": {
      "text/plain": [
       "'C:\\\\Users\\\\wendy.c\\\\Desktop\\\\python'"
      ]
     },
     "execution_count": 36,
     "metadata": {},
     "output_type": "execute_result"
    }
   ],
   "source": [
    "# 查詢資料位置\n",
    "%pwd"
   ]
  },
  {
   "cell_type": "code",
   "execution_count": 39,
   "id": "f4ffe48f",
   "metadata": {},
   "outputs": [
    {
     "name": "stdout",
     "output_type": "stream",
     "text": [
      "<class 'pandas.core.series.Series'>\n",
      "DatetimeIndex: 500 entries, 2022-01-01 to 2023-05-15\n",
      "Freq: D\n",
      "Series name: None\n",
      "Non-Null Count  Dtype\n",
      "--------------  -----\n",
      "500 non-null    int32\n",
      "dtypes: int32(1)\n",
      "memory usage: 5.9 KB\n"
     ]
    }
   ],
   "source": [
    "s.info()"
   ]
  },
  {
   "cell_type": "code",
   "execution_count": 40,
   "id": "7aea2160",
   "metadata": {},
   "outputs": [
    {
     "data": {
      "text/plain": [
       "DatetimeIndex(['2022-01-01', '2022-01-02', '2022-01-03', '2022-01-04',\n",
       "               '2022-01-05', '2022-01-06', '2022-01-07', '2022-01-08',\n",
       "               '2022-01-09', '2022-01-10',\n",
       "               ...\n",
       "               '2023-05-06', '2023-05-07', '2023-05-08', '2023-05-09',\n",
       "               '2023-05-10', '2023-05-11', '2023-05-12', '2023-05-13',\n",
       "               '2023-05-14', '2023-05-15'],\n",
       "              dtype='datetime64[ns]', length=500, freq='D')"
      ]
     },
     "execution_count": 40,
     "metadata": {},
     "output_type": "execute_result"
    }
   ],
   "source": [
    "s.index"
   ]
  },
  {
   "cell_type": "code",
   "execution_count": 75,
   "id": "ff8a428f",
   "metadata": {},
   "outputs": [
    {
     "data": {
      "text/html": [
       "<div>\n",
       "<style scoped>\n",
       "    .dataframe tbody tr th:only-of-type {\n",
       "        vertical-align: middle;\n",
       "    }\n",
       "\n",
       "    .dataframe tbody tr th {\n",
       "        vertical-align: top;\n",
       "    }\n",
       "\n",
       "    .dataframe thead th {\n",
       "        text-align: right;\n",
       "    }\n",
       "</style>\n",
       "<table border=\"1\" class=\"dataframe\">\n",
       "  <thead>\n",
       "    <tr style=\"text-align: right;\">\n",
       "      <th></th>\n",
       "      <th>2022-01-01</th>\n",
       "      <th>9</th>\n",
       "    </tr>\n",
       "  </thead>\n",
       "  <tbody>\n",
       "    <tr>\n",
       "      <th>0</th>\n",
       "      <td>2022-01-02</td>\n",
       "      <td>100</td>\n",
       "    </tr>\n",
       "    <tr>\n",
       "      <th>1</th>\n",
       "      <td>2022-01-03</td>\n",
       "      <td>15</td>\n",
       "    </tr>\n",
       "    <tr>\n",
       "      <th>2</th>\n",
       "      <td>2022-01-04</td>\n",
       "      <td>64</td>\n",
       "    </tr>\n",
       "    <tr>\n",
       "      <th>3</th>\n",
       "      <td>2022-01-05</td>\n",
       "      <td>28</td>\n",
       "    </tr>\n",
       "    <tr>\n",
       "      <th>4</th>\n",
       "      <td>2022-01-06</td>\n",
       "      <td>89</td>\n",
       "    </tr>\n",
       "    <tr>\n",
       "      <th>...</th>\n",
       "      <td>...</td>\n",
       "      <td>...</td>\n",
       "    </tr>\n",
       "    <tr>\n",
       "      <th>494</th>\n",
       "      <td>2023-05-11</td>\n",
       "      <td>38</td>\n",
       "    </tr>\n",
       "    <tr>\n",
       "      <th>495</th>\n",
       "      <td>2023-05-12</td>\n",
       "      <td>27</td>\n",
       "    </tr>\n",
       "    <tr>\n",
       "      <th>496</th>\n",
       "      <td>2023-05-13</td>\n",
       "      <td>96</td>\n",
       "    </tr>\n",
       "    <tr>\n",
       "      <th>497</th>\n",
       "      <td>2023-05-14</td>\n",
       "      <td>87</td>\n",
       "    </tr>\n",
       "    <tr>\n",
       "      <th>498</th>\n",
       "      <td>2023-05-15</td>\n",
       "      <td>98</td>\n",
       "    </tr>\n",
       "  </tbody>\n",
       "</table>\n",
       "<p>499 rows × 2 columns</p>\n",
       "</div>"
      ],
      "text/plain": [
       "     2022-01-01    9\n",
       "0    2022-01-02  100\n",
       "1    2022-01-03   15\n",
       "2    2022-01-04   64\n",
       "3    2022-01-05   28\n",
       "4    2022-01-06   89\n",
       "..          ...  ...\n",
       "494  2023-05-11   38\n",
       "495  2023-05-12   27\n",
       "496  2023-05-13   96\n",
       "497  2023-05-14   87\n",
       "498  2023-05-15   98\n",
       "\n",
       "[499 rows x 2 columns]"
      ]
     },
     "execution_count": 75,
     "metadata": {},
     "output_type": "execute_result"
    }
   ],
   "source": [
    "s1 = pd.read_csv('每日記錄.csv')\n",
    "s1"
   ]
  },
  {
   "cell_type": "code",
   "execution_count": 69,
   "id": "de11c953",
   "metadata": {},
   "outputs": [
    {
     "data": {
      "text/html": [
       "<div>\n",
       "<style scoped>\n",
       "    .dataframe tbody tr th:only-of-type {\n",
       "        vertical-align: middle;\n",
       "    }\n",
       "\n",
       "    .dataframe tbody tr th {\n",
       "        vertical-align: top;\n",
       "    }\n",
       "\n",
       "    .dataframe thead th {\n",
       "        text-align: right;\n",
       "    }\n",
       "</style>\n",
       "<table border=\"1\" class=\"dataframe\">\n",
       "  <thead>\n",
       "    <tr style=\"text-align: right;\">\n",
       "      <th></th>\n",
       "      <th>日期</th>\n",
       "      <th>數值</th>\n",
       "    </tr>\n",
       "  </thead>\n",
       "  <tbody>\n",
       "    <tr>\n",
       "      <th>0</th>\n",
       "      <td>2022-01-01</td>\n",
       "      <td>9</td>\n",
       "    </tr>\n",
       "    <tr>\n",
       "      <th>1</th>\n",
       "      <td>2022-01-02</td>\n",
       "      <td>100</td>\n",
       "    </tr>\n",
       "    <tr>\n",
       "      <th>2</th>\n",
       "      <td>2022-01-03</td>\n",
       "      <td>15</td>\n",
       "    </tr>\n",
       "    <tr>\n",
       "      <th>3</th>\n",
       "      <td>2022-01-04</td>\n",
       "      <td>64</td>\n",
       "    </tr>\n",
       "    <tr>\n",
       "      <th>4</th>\n",
       "      <td>2022-01-05</td>\n",
       "      <td>28</td>\n",
       "    </tr>\n",
       "    <tr>\n",
       "      <th>...</th>\n",
       "      <td>...</td>\n",
       "      <td>...</td>\n",
       "    </tr>\n",
       "    <tr>\n",
       "      <th>495</th>\n",
       "      <td>2023-05-11</td>\n",
       "      <td>38</td>\n",
       "    </tr>\n",
       "    <tr>\n",
       "      <th>496</th>\n",
       "      <td>2023-05-12</td>\n",
       "      <td>27</td>\n",
       "    </tr>\n",
       "    <tr>\n",
       "      <th>497</th>\n",
       "      <td>2023-05-13</td>\n",
       "      <td>96</td>\n",
       "    </tr>\n",
       "    <tr>\n",
       "      <th>498</th>\n",
       "      <td>2023-05-14</td>\n",
       "      <td>87</td>\n",
       "    </tr>\n",
       "    <tr>\n",
       "      <th>499</th>\n",
       "      <td>2023-05-15</td>\n",
       "      <td>98</td>\n",
       "    </tr>\n",
       "  </tbody>\n",
       "</table>\n",
       "<p>500 rows × 2 columns</p>\n",
       "</div>"
      ],
      "text/plain": [
       "             日期   數值\n",
       "0    2022-01-01    9\n",
       "1    2022-01-02  100\n",
       "2    2022-01-03   15\n",
       "3    2022-01-04   64\n",
       "4    2022-01-05   28\n",
       "..          ...  ...\n",
       "495  2023-05-11   38\n",
       "496  2023-05-12   27\n",
       "497  2023-05-13   96\n",
       "498  2023-05-14   87\n",
       "499  2023-05-15   98\n",
       "\n",
       "[500 rows x 2 columns]"
      ]
     },
     "execution_count": 69,
     "metadata": {},
     "output_type": "execute_result"
    }
   ],
   "source": [
    "# 製作header\n",
    "s1 = pd.read_csv('每日記錄.csv',names = ['日期','數值'])\n",
    "s1"
   ]
  },
  {
   "cell_type": "code",
   "execution_count": 46,
   "id": "767b87e3",
   "metadata": {},
   "outputs": [
    {
     "data": {
      "text/html": [
       "<div>\n",
       "<style scoped>\n",
       "    .dataframe tbody tr th:only-of-type {\n",
       "        vertical-align: middle;\n",
       "    }\n",
       "\n",
       "    .dataframe tbody tr th {\n",
       "        vertical-align: top;\n",
       "    }\n",
       "\n",
       "    .dataframe thead th {\n",
       "        text-align: right;\n",
       "    }\n",
       "</style>\n",
       "<table border=\"1\" class=\"dataframe\">\n",
       "  <thead>\n",
       "    <tr style=\"text-align: right;\">\n",
       "      <th></th>\n",
       "      <th>日期</th>\n",
       "      <th>數值</th>\n",
       "    </tr>\n",
       "    <tr>\n",
       "      <th>日期</th>\n",
       "      <th></th>\n",
       "      <th></th>\n",
       "    </tr>\n",
       "  </thead>\n",
       "  <tbody>\n",
       "    <tr>\n",
       "      <th>2022-01-01</th>\n",
       "      <td>2022-01-01</td>\n",
       "      <td>9</td>\n",
       "    </tr>\n",
       "    <tr>\n",
       "      <th>2022-01-02</th>\n",
       "      <td>2022-01-02</td>\n",
       "      <td>100</td>\n",
       "    </tr>\n",
       "    <tr>\n",
       "      <th>2022-01-03</th>\n",
       "      <td>2022-01-03</td>\n",
       "      <td>15</td>\n",
       "    </tr>\n",
       "    <tr>\n",
       "      <th>2022-01-04</th>\n",
       "      <td>2022-01-04</td>\n",
       "      <td>64</td>\n",
       "    </tr>\n",
       "    <tr>\n",
       "      <th>2022-01-05</th>\n",
       "      <td>2022-01-05</td>\n",
       "      <td>28</td>\n",
       "    </tr>\n",
       "    <tr>\n",
       "      <th>...</th>\n",
       "      <td>...</td>\n",
       "      <td>...</td>\n",
       "    </tr>\n",
       "    <tr>\n",
       "      <th>2023-05-11</th>\n",
       "      <td>2023-05-11</td>\n",
       "      <td>38</td>\n",
       "    </tr>\n",
       "    <tr>\n",
       "      <th>2023-05-12</th>\n",
       "      <td>2023-05-12</td>\n",
       "      <td>27</td>\n",
       "    </tr>\n",
       "    <tr>\n",
       "      <th>2023-05-13</th>\n",
       "      <td>2023-05-13</td>\n",
       "      <td>96</td>\n",
       "    </tr>\n",
       "    <tr>\n",
       "      <th>2023-05-14</th>\n",
       "      <td>2023-05-14</td>\n",
       "      <td>87</td>\n",
       "    </tr>\n",
       "    <tr>\n",
       "      <th>2023-05-15</th>\n",
       "      <td>2023-05-15</td>\n",
       "      <td>98</td>\n",
       "    </tr>\n",
       "  </tbody>\n",
       "</table>\n",
       "<p>500 rows × 2 columns</p>\n",
       "</div>"
      ],
      "text/plain": [
       "                    日期   數值\n",
       "日期                         \n",
       "2022-01-01  2022-01-01    9\n",
       "2022-01-02  2022-01-02  100\n",
       "2022-01-03  2022-01-03   15\n",
       "2022-01-04  2022-01-04   64\n",
       "2022-01-05  2022-01-05   28\n",
       "...                ...  ...\n",
       "2023-05-11  2023-05-11   38\n",
       "2023-05-12  2023-05-12   27\n",
       "2023-05-13  2023-05-13   96\n",
       "2023-05-14  2023-05-14   87\n",
       "2023-05-15  2023-05-15   98\n",
       "\n",
       "[500 rows x 2 columns]"
      ]
     },
     "execution_count": 46,
     "metadata": {},
     "output_type": "execute_result"
    }
   ],
   "source": [
    "s1.index = s1['日期']\n",
    "s1"
   ]
  },
  {
   "cell_type": "code",
   "execution_count": 47,
   "id": "a799664c",
   "metadata": {},
   "outputs": [
    {
     "ename": "KeyError",
     "evalue": "\"['日期'] not found in axis\"",
     "output_type": "error",
     "traceback": [
      "\u001b[1;31m---------------------------------------------------------------------------\u001b[0m",
      "\u001b[1;31mKeyError\u001b[0m                                  Traceback (most recent call last)",
      "Cell \u001b[1;32mIn[47], line 1\u001b[0m\n\u001b[1;32m----> 1\u001b[0m s1\u001b[38;5;241m.\u001b[39mdrop(\u001b[38;5;124m'\u001b[39m\u001b[38;5;124m日期\u001b[39m\u001b[38;5;124m'\u001b[39m)\n",
      "File \u001b[1;32m~\\AppData\\Roaming\\Python\\Python311\\site-packages\\pandas\\core\\frame.py:5344\u001b[0m, in \u001b[0;36mDataFrame.drop\u001b[1;34m(self, labels, axis, index, columns, level, inplace, errors)\u001b[0m\n\u001b[0;32m   5196\u001b[0m \u001b[38;5;28;01mdef\u001b[39;00m \u001b[38;5;21mdrop\u001b[39m(\n\u001b[0;32m   5197\u001b[0m     \u001b[38;5;28mself\u001b[39m,\n\u001b[0;32m   5198\u001b[0m     labels: IndexLabel \u001b[38;5;241m|\u001b[39m \u001b[38;5;28;01mNone\u001b[39;00m \u001b[38;5;241m=\u001b[39m \u001b[38;5;28;01mNone\u001b[39;00m,\n\u001b[1;32m   (...)\u001b[0m\n\u001b[0;32m   5205\u001b[0m     errors: IgnoreRaise \u001b[38;5;241m=\u001b[39m \u001b[38;5;124m\"\u001b[39m\u001b[38;5;124mraise\u001b[39m\u001b[38;5;124m\"\u001b[39m,\n\u001b[0;32m   5206\u001b[0m ) \u001b[38;5;241m-\u001b[39m\u001b[38;5;241m>\u001b[39m DataFrame \u001b[38;5;241m|\u001b[39m \u001b[38;5;28;01mNone\u001b[39;00m:\n\u001b[0;32m   5207\u001b[0m \u001b[38;5;250m    \u001b[39m\u001b[38;5;124;03m\"\"\"\u001b[39;00m\n\u001b[0;32m   5208\u001b[0m \u001b[38;5;124;03m    Drop specified labels from rows or columns.\u001b[39;00m\n\u001b[0;32m   5209\u001b[0m \n\u001b[1;32m   (...)\u001b[0m\n\u001b[0;32m   5342\u001b[0m \u001b[38;5;124;03m            weight  1.0     0.8\u001b[39;00m\n\u001b[0;32m   5343\u001b[0m \u001b[38;5;124;03m    \"\"\"\u001b[39;00m\n\u001b[1;32m-> 5344\u001b[0m     \u001b[38;5;28;01mreturn\u001b[39;00m \u001b[38;5;28msuper\u001b[39m()\u001b[38;5;241m.\u001b[39mdrop(\n\u001b[0;32m   5345\u001b[0m         labels\u001b[38;5;241m=\u001b[39mlabels,\n\u001b[0;32m   5346\u001b[0m         axis\u001b[38;5;241m=\u001b[39maxis,\n\u001b[0;32m   5347\u001b[0m         index\u001b[38;5;241m=\u001b[39mindex,\n\u001b[0;32m   5348\u001b[0m         columns\u001b[38;5;241m=\u001b[39mcolumns,\n\u001b[0;32m   5349\u001b[0m         level\u001b[38;5;241m=\u001b[39mlevel,\n\u001b[0;32m   5350\u001b[0m         inplace\u001b[38;5;241m=\u001b[39minplace,\n\u001b[0;32m   5351\u001b[0m         errors\u001b[38;5;241m=\u001b[39merrors,\n\u001b[0;32m   5352\u001b[0m     )\n",
      "File \u001b[1;32m~\\AppData\\Roaming\\Python\\Python311\\site-packages\\pandas\\core\\generic.py:4711\u001b[0m, in \u001b[0;36mNDFrame.drop\u001b[1;34m(self, labels, axis, index, columns, level, inplace, errors)\u001b[0m\n\u001b[0;32m   4709\u001b[0m \u001b[38;5;28;01mfor\u001b[39;00m axis, labels \u001b[38;5;129;01min\u001b[39;00m axes\u001b[38;5;241m.\u001b[39mitems():\n\u001b[0;32m   4710\u001b[0m     \u001b[38;5;28;01mif\u001b[39;00m labels \u001b[38;5;129;01mis\u001b[39;00m \u001b[38;5;129;01mnot\u001b[39;00m \u001b[38;5;28;01mNone\u001b[39;00m:\n\u001b[1;32m-> 4711\u001b[0m         obj \u001b[38;5;241m=\u001b[39m obj\u001b[38;5;241m.\u001b[39m_drop_axis(labels, axis, level\u001b[38;5;241m=\u001b[39mlevel, errors\u001b[38;5;241m=\u001b[39merrors)\n\u001b[0;32m   4713\u001b[0m \u001b[38;5;28;01mif\u001b[39;00m inplace:\n\u001b[0;32m   4714\u001b[0m     \u001b[38;5;28mself\u001b[39m\u001b[38;5;241m.\u001b[39m_update_inplace(obj)\n",
      "File \u001b[1;32m~\\AppData\\Roaming\\Python\\Python311\\site-packages\\pandas\\core\\generic.py:4753\u001b[0m, in \u001b[0;36mNDFrame._drop_axis\u001b[1;34m(self, labels, axis, level, errors, only_slice)\u001b[0m\n\u001b[0;32m   4751\u001b[0m         new_axis \u001b[38;5;241m=\u001b[39m axis\u001b[38;5;241m.\u001b[39mdrop(labels, level\u001b[38;5;241m=\u001b[39mlevel, errors\u001b[38;5;241m=\u001b[39merrors)\n\u001b[0;32m   4752\u001b[0m     \u001b[38;5;28;01melse\u001b[39;00m:\n\u001b[1;32m-> 4753\u001b[0m         new_axis \u001b[38;5;241m=\u001b[39m axis\u001b[38;5;241m.\u001b[39mdrop(labels, errors\u001b[38;5;241m=\u001b[39merrors)\n\u001b[0;32m   4754\u001b[0m     indexer \u001b[38;5;241m=\u001b[39m axis\u001b[38;5;241m.\u001b[39mget_indexer(new_axis)\n\u001b[0;32m   4756\u001b[0m \u001b[38;5;66;03m# Case for non-unique axis\u001b[39;00m\n\u001b[0;32m   4757\u001b[0m \u001b[38;5;28;01melse\u001b[39;00m:\n",
      "File \u001b[1;32m~\\AppData\\Roaming\\Python\\Python311\\site-packages\\pandas\\core\\indexes\\base.py:7000\u001b[0m, in \u001b[0;36mIndex.drop\u001b[1;34m(self, labels, errors)\u001b[0m\n\u001b[0;32m   6998\u001b[0m \u001b[38;5;28;01mif\u001b[39;00m mask\u001b[38;5;241m.\u001b[39many():\n\u001b[0;32m   6999\u001b[0m     \u001b[38;5;28;01mif\u001b[39;00m errors \u001b[38;5;241m!=\u001b[39m \u001b[38;5;124m\"\u001b[39m\u001b[38;5;124mignore\u001b[39m\u001b[38;5;124m\"\u001b[39m:\n\u001b[1;32m-> 7000\u001b[0m         \u001b[38;5;28;01mraise\u001b[39;00m \u001b[38;5;167;01mKeyError\u001b[39;00m(\u001b[38;5;124mf\u001b[39m\u001b[38;5;124m\"\u001b[39m\u001b[38;5;132;01m{\u001b[39;00mlabels[mask]\u001b[38;5;241m.\u001b[39mtolist()\u001b[38;5;132;01m}\u001b[39;00m\u001b[38;5;124m not found in axis\u001b[39m\u001b[38;5;124m\"\u001b[39m)\n\u001b[0;32m   7001\u001b[0m     indexer \u001b[38;5;241m=\u001b[39m indexer[\u001b[38;5;241m~\u001b[39mmask]\n\u001b[0;32m   7002\u001b[0m \u001b[38;5;28;01mreturn\u001b[39;00m \u001b[38;5;28mself\u001b[39m\u001b[38;5;241m.\u001b[39mdelete(indexer)\n",
      "\u001b[1;31mKeyError\u001b[0m: \"['日期'] not found in axis\""
     ]
    }
   ],
   "source": [
    "s1.drop('日期')\n",
    "# error 日期是垂直向下，必須設定為 axis = 1"
   ]
  },
  {
   "cell_type": "code",
   "execution_count": 58,
   "id": "e86b5933",
   "metadata": {},
   "outputs": [
    {
     "data": {
      "text/html": [
       "<div>\n",
       "<style scoped>\n",
       "    .dataframe tbody tr th:only-of-type {\n",
       "        vertical-align: middle;\n",
       "    }\n",
       "\n",
       "    .dataframe tbody tr th {\n",
       "        vertical-align: top;\n",
       "    }\n",
       "\n",
       "    .dataframe thead th {\n",
       "        text-align: right;\n",
       "    }\n",
       "</style>\n",
       "<table border=\"1\" class=\"dataframe\">\n",
       "  <thead>\n",
       "    <tr style=\"text-align: right;\">\n",
       "      <th></th>\n",
       "      <th>數值</th>\n",
       "    </tr>\n",
       "    <tr>\n",
       "      <th></th>\n",
       "      <th></th>\n",
       "    </tr>\n",
       "  </thead>\n",
       "  <tbody>\n",
       "    <tr>\n",
       "      <th>2022-01-01</th>\n",
       "      <td>9</td>\n",
       "    </tr>\n",
       "    <tr>\n",
       "      <th>2022-01-02</th>\n",
       "      <td>100</td>\n",
       "    </tr>\n",
       "    <tr>\n",
       "      <th>2022-01-03</th>\n",
       "      <td>15</td>\n",
       "    </tr>\n",
       "    <tr>\n",
       "      <th>2022-01-04</th>\n",
       "      <td>64</td>\n",
       "    </tr>\n",
       "    <tr>\n",
       "      <th>2022-01-05</th>\n",
       "      <td>28</td>\n",
       "    </tr>\n",
       "    <tr>\n",
       "      <th>...</th>\n",
       "      <td>...</td>\n",
       "    </tr>\n",
       "    <tr>\n",
       "      <th>2023-05-11</th>\n",
       "      <td>38</td>\n",
       "    </tr>\n",
       "    <tr>\n",
       "      <th>2023-05-12</th>\n",
       "      <td>27</td>\n",
       "    </tr>\n",
       "    <tr>\n",
       "      <th>2023-05-13</th>\n",
       "      <td>96</td>\n",
       "    </tr>\n",
       "    <tr>\n",
       "      <th>2023-05-14</th>\n",
       "      <td>87</td>\n",
       "    </tr>\n",
       "    <tr>\n",
       "      <th>2023-05-15</th>\n",
       "      <td>98</td>\n",
       "    </tr>\n",
       "  </tbody>\n",
       "</table>\n",
       "<p>500 rows × 1 columns</p>\n",
       "</div>"
      ],
      "text/plain": [
       "             數值\n",
       "               \n",
       "2022-01-01    9\n",
       "2022-01-02  100\n",
       "2022-01-03   15\n",
       "2022-01-04   64\n",
       "2022-01-05   28\n",
       "...         ...\n",
       "2023-05-11   38\n",
       "2023-05-12   27\n",
       "2023-05-13   96\n",
       "2023-05-14   87\n",
       "2023-05-15   98\n",
       "\n",
       "[500 rows x 1 columns]"
      ]
     },
     "execution_count": 58,
     "metadata": {},
     "output_type": "execute_result"
    }
   ],
   "source": [
    "# 不會覆寫s1\n",
    "s1.drop('日期', axis = 1)\n",
    "\n",
    "# 法1\n",
    "s1.drop('日期', axis = 1, inplace = True)\n",
    "\n",
    "# 法2\n",
    "#s1 = s1.drop('日期', axis = 1)\n",
    "\n",
    "# 法3\n",
    "#del s1['日期']\n",
    "s1"
   ]
  },
  {
   "cell_type": "code",
   "execution_count": 59,
   "id": "1236eb84",
   "metadata": {},
   "outputs": [
    {
     "data": {
      "text/plain": [
       "pandas.core.frame.DataFrame"
      ]
     },
     "execution_count": 59,
     "metadata": {},
     "output_type": "execute_result"
    }
   ],
   "source": [
    "type(s1)"
   ]
  },
  {
   "cell_type": "code",
   "execution_count": 70,
   "id": "247caafa",
   "metadata": {},
   "outputs": [
    {
     "data": {
      "text/html": [
       "<div>\n",
       "<style scoped>\n",
       "    .dataframe tbody tr th:only-of-type {\n",
       "        vertical-align: middle;\n",
       "    }\n",
       "\n",
       "    .dataframe tbody tr th {\n",
       "        vertical-align: top;\n",
       "    }\n",
       "\n",
       "    .dataframe thead th {\n",
       "        text-align: right;\n",
       "    }\n",
       "</style>\n",
       "<table border=\"1\" class=\"dataframe\">\n",
       "  <thead>\n",
       "    <tr style=\"text-align: right;\">\n",
       "      <th></th>\n",
       "      <th>數值</th>\n",
       "    </tr>\n",
       "    <tr>\n",
       "      <th>日期</th>\n",
       "      <th></th>\n",
       "    </tr>\n",
       "  </thead>\n",
       "  <tbody>\n",
       "    <tr>\n",
       "      <th>2022-01-01</th>\n",
       "      <td>9</td>\n",
       "    </tr>\n",
       "    <tr>\n",
       "      <th>2022-01-02</th>\n",
       "      <td>100</td>\n",
       "    </tr>\n",
       "    <tr>\n",
       "      <th>2022-01-03</th>\n",
       "      <td>15</td>\n",
       "    </tr>\n",
       "    <tr>\n",
       "      <th>2022-01-04</th>\n",
       "      <td>64</td>\n",
       "    </tr>\n",
       "    <tr>\n",
       "      <th>2022-01-05</th>\n",
       "      <td>28</td>\n",
       "    </tr>\n",
       "    <tr>\n",
       "      <th>...</th>\n",
       "      <td>...</td>\n",
       "    </tr>\n",
       "    <tr>\n",
       "      <th>2023-05-11</th>\n",
       "      <td>38</td>\n",
       "    </tr>\n",
       "    <tr>\n",
       "      <th>2023-05-12</th>\n",
       "      <td>27</td>\n",
       "    </tr>\n",
       "    <tr>\n",
       "      <th>2023-05-13</th>\n",
       "      <td>96</td>\n",
       "    </tr>\n",
       "    <tr>\n",
       "      <th>2023-05-14</th>\n",
       "      <td>87</td>\n",
       "    </tr>\n",
       "    <tr>\n",
       "      <th>2023-05-15</th>\n",
       "      <td>98</td>\n",
       "    </tr>\n",
       "  </tbody>\n",
       "</table>\n",
       "<p>500 rows × 1 columns</p>\n",
       "</div>"
      ],
      "text/plain": [
       "             數值\n",
       "日期             \n",
       "2022-01-01    9\n",
       "2022-01-02  100\n",
       "2022-01-03   15\n",
       "2022-01-04   64\n",
       "2022-01-05   28\n",
       "...         ...\n",
       "2023-05-11   38\n",
       "2023-05-12   27\n",
       "2023-05-13   96\n",
       "2023-05-14   87\n",
       "2023-05-15   98\n",
       "\n",
       "[500 rows x 1 columns]"
      ]
     },
     "execution_count": 70,
     "metadata": {},
     "output_type": "execute_result"
    }
   ],
   "source": [
    "s1.set_index('日期')"
   ]
  },
  {
   "cell_type": "code",
   "execution_count": 63,
   "id": "c6d468ef",
   "metadata": {},
   "outputs": [
    {
     "data": {
      "text/plain": [
       "\n",
       "2022-01-01      9\n",
       "2022-01-02    100\n",
       "2022-01-03     15\n",
       "2022-01-04     64\n",
       "2022-01-05     28\n",
       "             ... \n",
       "2023-05-11     38\n",
       "2023-05-12     27\n",
       "2023-05-13     96\n",
       "2023-05-14     87\n",
       "2023-05-15     98\n",
       "Name: 數值, Length: 500, dtype: int64"
      ]
     },
     "execution_count": 63,
     "metadata": {},
     "output_type": "execute_result"
    }
   ],
   "source": [
    "# 二維轉一維\n",
    "s1.squeeze()"
   ]
  },
  {
   "cell_type": "code",
   "execution_count": 71,
   "id": "5e0da80d",
   "metadata": {},
   "outputs": [
    {
     "data": {
      "text/html": [
       "<div>\n",
       "<style scoped>\n",
       "    .dataframe tbody tr th:only-of-type {\n",
       "        vertical-align: middle;\n",
       "    }\n",
       "\n",
       "    .dataframe tbody tr th {\n",
       "        vertical-align: top;\n",
       "    }\n",
       "\n",
       "    .dataframe thead th {\n",
       "        text-align: right;\n",
       "    }\n",
       "</style>\n",
       "<table border=\"1\" class=\"dataframe\">\n",
       "  <thead>\n",
       "    <tr style=\"text-align: right;\">\n",
       "      <th></th>\n",
       "      <th>日期</th>\n",
       "      <th>數值</th>\n",
       "    </tr>\n",
       "    <tr>\n",
       "      <th></th>\n",
       "      <th></th>\n",
       "      <th></th>\n",
       "    </tr>\n",
       "  </thead>\n",
       "  <tbody>\n",
       "    <tr>\n",
       "      <th>0</th>\n",
       "      <td>2022-01-01</td>\n",
       "      <td>9</td>\n",
       "    </tr>\n",
       "    <tr>\n",
       "      <th>1</th>\n",
       "      <td>2022-01-02</td>\n",
       "      <td>100</td>\n",
       "    </tr>\n",
       "    <tr>\n",
       "      <th>2</th>\n",
       "      <td>2022-01-03</td>\n",
       "      <td>15</td>\n",
       "    </tr>\n",
       "    <tr>\n",
       "      <th>3</th>\n",
       "      <td>2022-01-04</td>\n",
       "      <td>64</td>\n",
       "    </tr>\n",
       "    <tr>\n",
       "      <th>4</th>\n",
       "      <td>2022-01-05</td>\n",
       "      <td>28</td>\n",
       "    </tr>\n",
       "    <tr>\n",
       "      <th>...</th>\n",
       "      <td>...</td>\n",
       "      <td>...</td>\n",
       "    </tr>\n",
       "    <tr>\n",
       "      <th>495</th>\n",
       "      <td>2023-05-11</td>\n",
       "      <td>38</td>\n",
       "    </tr>\n",
       "    <tr>\n",
       "      <th>496</th>\n",
       "      <td>2023-05-12</td>\n",
       "      <td>27</td>\n",
       "    </tr>\n",
       "    <tr>\n",
       "      <th>497</th>\n",
       "      <td>2023-05-13</td>\n",
       "      <td>96</td>\n",
       "    </tr>\n",
       "    <tr>\n",
       "      <th>498</th>\n",
       "      <td>2023-05-14</td>\n",
       "      <td>87</td>\n",
       "    </tr>\n",
       "    <tr>\n",
       "      <th>499</th>\n",
       "      <td>2023-05-15</td>\n",
       "      <td>98</td>\n",
       "    </tr>\n",
       "  </tbody>\n",
       "</table>\n",
       "<p>500 rows × 2 columns</p>\n",
       "</div>"
      ],
      "text/plain": [
       "             日期   數值\n",
       "                    \n",
       "0    2022-01-01    9\n",
       "1    2022-01-02  100\n",
       "2    2022-01-03   15\n",
       "3    2022-01-04   64\n",
       "4    2022-01-05   28\n",
       "..          ...  ...\n",
       "495  2023-05-11   38\n",
       "496  2023-05-12   27\n",
       "497  2023-05-13   96\n",
       "498  2023-05-14   87\n",
       "499  2023-05-15   98\n",
       "\n",
       "[500 rows x 2 columns]"
      ]
     },
     "execution_count": 71,
     "metadata": {},
     "output_type": "execute_result"
    }
   ],
   "source": [
    "#移除索引名稱\n",
    "s1.index.name = ''\n",
    "s1"
   ]
  },
  {
   "cell_type": "code",
   "execution_count": 72,
   "id": "c37d2122",
   "metadata": {},
   "outputs": [
    {
     "data": {
      "text/plain": [
       "日期\n",
       "2022-01-01      9\n",
       "2022-01-02    100\n",
       "2022-01-03     15\n",
       "2022-01-04     64\n",
       "2022-01-05     28\n",
       "             ... \n",
       "2023-05-11     38\n",
       "2023-05-12     27\n",
       "2023-05-13     96\n",
       "2023-05-14     87\n",
       "2023-05-15     98\n",
       "Name: 數值, Length: 500, dtype: int64"
      ]
     },
     "execution_count": 72,
     "metadata": {},
     "output_type": "execute_result"
    }
   ],
   "source": [
    "s1 = pd.read_csv('每日記錄.csv',names = ['日期','數值'], index_col = ['日期'])\n",
    "s1.squeeze()"
   ]
  },
  {
   "cell_type": "code",
   "execution_count": 67,
   "id": "0303a20d",
   "metadata": {},
   "outputs": [
    {
     "name": "stdout",
     "output_type": "stream",
     "text": [
      "<class 'pandas.core.frame.DataFrame'>\n",
      "Index: 500 entries, 2022-01-01 to 2023-05-15\n",
      "Data columns (total 1 columns):\n",
      " #   Column  Non-Null Count  Dtype\n",
      "---  ------  --------------  -----\n",
      " 0   數值      500 non-null    int64\n",
      "dtypes: int64(1)\n",
      "memory usage: 24.0+ KB\n"
     ]
    }
   ],
   "source": [
    "s1.info()\n",
    " # 壓縮的s1大Series四倍"
   ]
  },
  {
   "cell_type": "code",
   "execution_count": 68,
   "id": "2d96dabe",
   "metadata": {},
   "outputs": [
    {
     "name": "stdout",
     "output_type": "stream",
     "text": [
      "<class 'pandas.core.series.Series'>\n",
      "DatetimeIndex: 500 entries, 2022-01-01 to 2023-05-15\n",
      "Freq: D\n",
      "Series name: None\n",
      "Non-Null Count  Dtype\n",
      "--------------  -----\n",
      "500 non-null    int32\n",
      "dtypes: int32(1)\n",
      "memory usage: 5.9 KB\n"
     ]
    }
   ],
   "source": [
    "s.info()"
   ]
  },
  {
   "cell_type": "code",
   "execution_count": 77,
   "id": "f5f7ddce",
   "metadata": {},
   "outputs": [
    {
     "data": {
      "text/html": [
       "<div>\n",
       "<style scoped>\n",
       "    .dataframe tbody tr th:only-of-type {\n",
       "        vertical-align: middle;\n",
       "    }\n",
       "\n",
       "    .dataframe tbody tr th {\n",
       "        vertical-align: top;\n",
       "    }\n",
       "\n",
       "    .dataframe thead th {\n",
       "        text-align: right;\n",
       "    }\n",
       "</style>\n",
       "<table border=\"1\" class=\"dataframe\">\n",
       "  <thead>\n",
       "    <tr style=\"text-align: right;\">\n",
       "      <th></th>\n",
       "      <th>數值</th>\n",
       "    </tr>\n",
       "    <tr>\n",
       "      <th>日期</th>\n",
       "      <th></th>\n",
       "    </tr>\n",
       "  </thead>\n",
       "  <tbody>\n",
       "    <tr>\n",
       "      <th>2022-01-01</th>\n",
       "      <td>9</td>\n",
       "    </tr>\n",
       "    <tr>\n",
       "      <th>2022-01-02</th>\n",
       "      <td>100</td>\n",
       "    </tr>\n",
       "    <tr>\n",
       "      <th>2022-01-03</th>\n",
       "      <td>15</td>\n",
       "    </tr>\n",
       "    <tr>\n",
       "      <th>2022-01-04</th>\n",
       "      <td>64</td>\n",
       "    </tr>\n",
       "    <tr>\n",
       "      <th>2022-01-05</th>\n",
       "      <td>28</td>\n",
       "    </tr>\n",
       "    <tr>\n",
       "      <th>...</th>\n",
       "      <td>...</td>\n",
       "    </tr>\n",
       "    <tr>\n",
       "      <th>2023-05-11</th>\n",
       "      <td>38</td>\n",
       "    </tr>\n",
       "    <tr>\n",
       "      <th>2023-05-12</th>\n",
       "      <td>27</td>\n",
       "    </tr>\n",
       "    <tr>\n",
       "      <th>2023-05-13</th>\n",
       "      <td>96</td>\n",
       "    </tr>\n",
       "    <tr>\n",
       "      <th>2023-05-14</th>\n",
       "      <td>87</td>\n",
       "    </tr>\n",
       "    <tr>\n",
       "      <th>2023-05-15</th>\n",
       "      <td>98</td>\n",
       "    </tr>\n",
       "  </tbody>\n",
       "</table>\n",
       "<p>500 rows × 1 columns</p>\n",
       "</div>"
      ],
      "text/plain": [
       "             數值\n",
       "日期             \n",
       "2022-01-01    9\n",
       "2022-01-02  100\n",
       "2022-01-03   15\n",
       "2022-01-04   64\n",
       "2022-01-05   28\n",
       "...         ...\n",
       "2023-05-11   38\n",
       "2023-05-12   27\n",
       "2023-05-13   96\n",
       "2023-05-14   87\n",
       "2023-05-15   98\n",
       "\n",
       "[500 rows x 1 columns]"
      ]
     },
     "execution_count": 77,
     "metadata": {},
     "output_type": "execute_result"
    }
   ],
   "source": [
    "# 修改數值型別\n",
    "s1 = pd.read_csv('每日記錄.csv',names = ['日期','數值'], index_col = ['日期'], dtype = {'數值': 'int32'})\n",
    "s1\n",
    "# 日期無法在dtype中調整 只能在讀取中調整"
   ]
  },
  {
   "cell_type": "markdown",
   "id": "c55c5409",
   "metadata": {},
   "source": [
    "## int8 表示範圍\n",
    "-128~127\n",
    "## int16 表示範圍\n",
    "-32768~32767\n",
    "## int32 表示範圍\n",
    "很大"
   ]
  },
  {
   "cell_type": "code",
   "execution_count": 78,
   "id": "08348c66",
   "metadata": {},
   "outputs": [
    {
     "data": {
      "text/plain": [
       "Index(['2022-01-01', '2022-01-02', '2022-01-03', '2022-01-04', '2022-01-05',\n",
       "       '2022-01-06', '2022-01-07', '2022-01-08', '2022-01-09', '2022-01-10',\n",
       "       ...\n",
       "       '2023-05-06', '2023-05-07', '2023-05-08', '2023-05-09', '2023-05-10',\n",
       "       '2023-05-11', '2023-05-12', '2023-05-13', '2023-05-14', '2023-05-15'],\n",
       "      dtype='object', name='日期', length=500)"
      ]
     },
     "execution_count": 78,
     "metadata": {},
     "output_type": "execute_result"
    }
   ],
   "source": [
    "s1.index\n",
    "# index現在是object"
   ]
  },
  {
   "cell_type": "code",
   "execution_count": 81,
   "id": "1e1c0452",
   "metadata": {},
   "outputs": [
    {
     "data": {
      "text/html": [
       "<div>\n",
       "<style scoped>\n",
       "    .dataframe tbody tr th:only-of-type {\n",
       "        vertical-align: middle;\n",
       "    }\n",
       "\n",
       "    .dataframe tbody tr th {\n",
       "        vertical-align: top;\n",
       "    }\n",
       "\n",
       "    .dataframe thead th {\n",
       "        text-align: right;\n",
       "    }\n",
       "</style>\n",
       "<table border=\"1\" class=\"dataframe\">\n",
       "  <thead>\n",
       "    <tr style=\"text-align: right;\">\n",
       "      <th></th>\n",
       "      <th>數值</th>\n",
       "    </tr>\n",
       "    <tr>\n",
       "      <th>日期</th>\n",
       "      <th></th>\n",
       "    </tr>\n",
       "  </thead>\n",
       "  <tbody>\n",
       "    <tr>\n",
       "      <th>2022-01-01</th>\n",
       "      <td>9</td>\n",
       "    </tr>\n",
       "    <tr>\n",
       "      <th>2022-01-02</th>\n",
       "      <td>100</td>\n",
       "    </tr>\n",
       "    <tr>\n",
       "      <th>2022-01-03</th>\n",
       "      <td>15</td>\n",
       "    </tr>\n",
       "    <tr>\n",
       "      <th>2022-01-04</th>\n",
       "      <td>64</td>\n",
       "    </tr>\n",
       "    <tr>\n",
       "      <th>2022-01-05</th>\n",
       "      <td>28</td>\n",
       "    </tr>\n",
       "    <tr>\n",
       "      <th>...</th>\n",
       "      <td>...</td>\n",
       "    </tr>\n",
       "    <tr>\n",
       "      <th>2023-05-11</th>\n",
       "      <td>38</td>\n",
       "    </tr>\n",
       "    <tr>\n",
       "      <th>2023-05-12</th>\n",
       "      <td>27</td>\n",
       "    </tr>\n",
       "    <tr>\n",
       "      <th>2023-05-13</th>\n",
       "      <td>96</td>\n",
       "    </tr>\n",
       "    <tr>\n",
       "      <th>2023-05-14</th>\n",
       "      <td>87</td>\n",
       "    </tr>\n",
       "    <tr>\n",
       "      <th>2023-05-15</th>\n",
       "      <td>98</td>\n",
       "    </tr>\n",
       "  </tbody>\n",
       "</table>\n",
       "<p>500 rows × 1 columns</p>\n",
       "</div>"
      ],
      "text/plain": [
       "             數值\n",
       "日期             \n",
       "2022-01-01    9\n",
       "2022-01-02  100\n",
       "2022-01-03   15\n",
       "2022-01-04   64\n",
       "2022-01-05   28\n",
       "...         ...\n",
       "2023-05-11   38\n",
       "2023-05-12   27\n",
       "2023-05-13   96\n",
       "2023-05-14   87\n",
       "2023-05-15   98\n",
       "\n",
       "[500 rows x 1 columns]"
      ]
     },
     "execution_count": 81,
     "metadata": {},
     "output_type": "execute_result"
    }
   ],
   "source": [
    "# 將index轉換為字串\n",
    "s1 = pd.read_csv('每日記錄.csv',names = ['日期','數值'], index_col = ['日期'], dtype = {'數值': 'int8'}, parse_dates = ['日期'])\n",
    "s1"
   ]
  },
  {
   "cell_type": "code",
   "execution_count": 82,
   "id": "187521b1",
   "metadata": {},
   "outputs": [
    {
     "name": "stdout",
     "output_type": "stream",
     "text": [
      "<class 'pandas.core.series.Series'>\n",
      "DatetimeIndex: 500 entries, 2022-01-01 to 2023-05-15\n",
      "Series name: \n",
      "Non-Null Count  Dtype\n",
      "--------------  -----\n",
      "500 non-null    int8 \n",
      "dtypes: int8(1)\n",
      "memory usage: 4.4 KB\n"
     ]
    }
   ],
   "source": [
    "s1.index.name = ''\n",
    "s1.columns = ['']\n",
    "s1.squeeze().info()"
   ]
  },
  {
   "cell_type": "code",
   "execution_count": 83,
   "id": "100916e0",
   "metadata": {},
   "outputs": [
    {
     "data": {
      "text/html": [
       "<div>\n",
       "<style scoped>\n",
       "    .dataframe tbody tr th:only-of-type {\n",
       "        vertical-align: middle;\n",
       "    }\n",
       "\n",
       "    .dataframe tbody tr th {\n",
       "        vertical-align: top;\n",
       "    }\n",
       "\n",
       "    .dataframe thead th {\n",
       "        text-align: right;\n",
       "    }\n",
       "</style>\n",
       "<table border=\"1\" class=\"dataframe\">\n",
       "  <thead>\n",
       "    <tr style=\"text-align: right;\">\n",
       "      <th></th>\n",
       "      <th>數值</th>\n",
       "    </tr>\n",
       "    <tr>\n",
       "      <th>日期</th>\n",
       "      <th></th>\n",
       "    </tr>\n",
       "  </thead>\n",
       "  <tbody>\n",
       "    <tr>\n",
       "      <th>2022-01-01</th>\n",
       "      <td>9</td>\n",
       "    </tr>\n",
       "    <tr>\n",
       "      <th>2022-01-02</th>\n",
       "      <td>100</td>\n",
       "    </tr>\n",
       "    <tr>\n",
       "      <th>2022-01-03</th>\n",
       "      <td>15</td>\n",
       "    </tr>\n",
       "    <tr>\n",
       "      <th>2022-01-04</th>\n",
       "      <td>64</td>\n",
       "    </tr>\n",
       "    <tr>\n",
       "      <th>2022-01-05</th>\n",
       "      <td>28</td>\n",
       "    </tr>\n",
       "    <tr>\n",
       "      <th>...</th>\n",
       "      <td>...</td>\n",
       "    </tr>\n",
       "    <tr>\n",
       "      <th>2023-05-11</th>\n",
       "      <td>38</td>\n",
       "    </tr>\n",
       "    <tr>\n",
       "      <th>2023-05-12</th>\n",
       "      <td>27</td>\n",
       "    </tr>\n",
       "    <tr>\n",
       "      <th>2023-05-13</th>\n",
       "      <td>96</td>\n",
       "    </tr>\n",
       "    <tr>\n",
       "      <th>2023-05-14</th>\n",
       "      <td>87</td>\n",
       "    </tr>\n",
       "    <tr>\n",
       "      <th>2023-05-15</th>\n",
       "      <td>98</td>\n",
       "    </tr>\n",
       "  </tbody>\n",
       "</table>\n",
       "<p>500 rows × 1 columns</p>\n",
       "</div>"
      ],
      "text/plain": [
       "             數值\n",
       "日期             \n",
       "2022-01-01    9\n",
       "2022-01-02  100\n",
       "2022-01-03   15\n",
       "2022-01-04   64\n",
       "2022-01-05   28\n",
       "...         ...\n",
       "2023-05-11   38\n",
       "2023-05-12   27\n",
       "2023-05-13   96\n",
       "2023-05-14   87\n",
       "2023-05-15   98\n",
       "\n",
       "[500 rows x 1 columns]"
      ]
     },
     "execution_count": 83,
     "metadata": {},
     "output_type": "execute_result"
    }
   ],
   "source": [
    "s1 = pd.read_csv('每日記錄.csv',names = ['日期','數值'], index_col = ['日期'], dtype = {'數值': 'int8'})\n",
    "s1"
   ]
  },
  {
   "cell_type": "code",
   "execution_count": 84,
   "id": "31aeab44",
   "metadata": {},
   "outputs": [
    {
     "data": {
      "text/plain": [
       "Index(['2022-01-01', '2022-01-02', '2022-01-03', '2022-01-04', '2022-01-05',\n",
       "       '2022-01-06', '2022-01-07', '2022-01-08', '2022-01-09', '2022-01-10',\n",
       "       ...\n",
       "       '2023-05-06', '2023-05-07', '2023-05-08', '2023-05-09', '2023-05-10',\n",
       "       '2023-05-11', '2023-05-12', '2023-05-13', '2023-05-14', '2023-05-15'],\n",
       "      dtype='object', name='日期', length=500)"
      ]
     },
     "execution_count": 84,
     "metadata": {},
     "output_type": "execute_result"
    }
   ],
   "source": [
    "s1.index"
   ]
  },
  {
   "cell_type": "code",
   "execution_count": 88,
   "id": "7f0444f3",
   "metadata": {},
   "outputs": [
    {
     "data": {
      "text/html": [
       "<div>\n",
       "<style scoped>\n",
       "    .dataframe tbody tr th:only-of-type {\n",
       "        vertical-align: middle;\n",
       "    }\n",
       "\n",
       "    .dataframe tbody tr th {\n",
       "        vertical-align: top;\n",
       "    }\n",
       "\n",
       "    .dataframe thead th {\n",
       "        text-align: right;\n",
       "    }\n",
       "</style>\n",
       "<table border=\"1\" class=\"dataframe\">\n",
       "  <thead>\n",
       "    <tr style=\"text-align: right;\">\n",
       "      <th></th>\n",
       "      <th>數值</th>\n",
       "    </tr>\n",
       "    <tr>\n",
       "      <th>日期</th>\n",
       "      <th></th>\n",
       "    </tr>\n",
       "  </thead>\n",
       "  <tbody>\n",
       "    <tr>\n",
       "      <th>2022-01-01</th>\n",
       "      <td>9</td>\n",
       "    </tr>\n",
       "    <tr>\n",
       "      <th>2022-01-02</th>\n",
       "      <td>100</td>\n",
       "    </tr>\n",
       "    <tr>\n",
       "      <th>2022-01-03</th>\n",
       "      <td>15</td>\n",
       "    </tr>\n",
       "    <tr>\n",
       "      <th>2022-01-04</th>\n",
       "      <td>64</td>\n",
       "    </tr>\n",
       "    <tr>\n",
       "      <th>2022-01-05</th>\n",
       "      <td>28</td>\n",
       "    </tr>\n",
       "    <tr>\n",
       "      <th>...</th>\n",
       "      <td>...</td>\n",
       "    </tr>\n",
       "    <tr>\n",
       "      <th>2023-05-11</th>\n",
       "      <td>38</td>\n",
       "    </tr>\n",
       "    <tr>\n",
       "      <th>2023-05-12</th>\n",
       "      <td>27</td>\n",
       "    </tr>\n",
       "    <tr>\n",
       "      <th>2023-05-13</th>\n",
       "      <td>96</td>\n",
       "    </tr>\n",
       "    <tr>\n",
       "      <th>2023-05-14</th>\n",
       "      <td>87</td>\n",
       "    </tr>\n",
       "    <tr>\n",
       "      <th>2023-05-15</th>\n",
       "      <td>98</td>\n",
       "    </tr>\n",
       "  </tbody>\n",
       "</table>\n",
       "<p>500 rows × 1 columns</p>\n",
       "</div>"
      ],
      "text/plain": [
       "             數值\n",
       "日期             \n",
       "2022-01-01    9\n",
       "2022-01-02  100\n",
       "2022-01-03   15\n",
       "2022-01-04   64\n",
       "2022-01-05   28\n",
       "...         ...\n",
       "2023-05-11   38\n",
       "2023-05-12   27\n",
       "2023-05-13   96\n",
       "2023-05-14   87\n",
       "2023-05-15   98\n",
       "\n",
       "[500 rows x 1 columns]"
      ]
     },
     "execution_count": 88,
     "metadata": {},
     "output_type": "execute_result"
    }
   ],
   "source": [
    "# dtype: object換成datetime64日期時間格式\n",
    "pd.to_datetime(s1.index)\n",
    "s1.index = pd.to_datetime(s1.index)\n",
    "s1"
   ]
  },
  {
   "cell_type": "code",
   "execution_count": 103,
   "id": "22889093",
   "metadata": {},
   "outputs": [
    {
     "name": "stdout",
     "output_type": "stream",
     "text": [
      "<class 'pandas.core.frame.DataFrame'>\n",
      "Index: 500 entries, 2022-01-01 to 2023-05-15\n",
      "Data columns (total 1 columns):\n",
      " #   Column  Non-Null Count  Dtype\n",
      "---  ------  --------------  -----\n",
      " 0   數值      500 non-null    int8 \n",
      "dtypes: int8(1)\n",
      "memory usage: 4.4+ KB\n"
     ]
    }
   ],
   "source": [
    "s1 = pd.read_csv('每日記錄.csv',names = ['日期','數值'], index_col = ['日期'], dtype = {'數值': 'int8'})\n",
    "s1.info()"
   ]
  },
  {
   "cell_type": "code",
   "execution_count": 104,
   "id": "172a5ce3",
   "metadata": {},
   "outputs": [
    {
     "data": {
      "text/plain": [
       "Index(['2022-01-01', '2022-01-02', '2022-01-03', '2022-01-04', '2022-01-05',\n",
       "       '2022-01-06', '2022-01-07', '2022-01-08', '2022-01-09', '2022-01-10',\n",
       "       ...\n",
       "       '2023-05-06', '2023-05-07', '2023-05-08', '2023-05-09', '2023-05-10',\n",
       "       '2023-05-11', '2023-05-12', '2023-05-13', '2023-05-14', '2023-05-15'],\n",
       "      dtype='object', name='日期', length=500)"
      ]
     },
     "execution_count": 104,
     "metadata": {},
     "output_type": "execute_result"
    }
   ],
   "source": [
    "import datetime as dt\n",
    "s1.index"
   ]
  },
  {
   "cell_type": "code",
   "execution_count": 105,
   "id": "29c31f23",
   "metadata": {},
   "outputs": [
    {
     "data": {
      "text/html": [
       "<div>\n",
       "<style scoped>\n",
       "    .dataframe tbody tr th:only-of-type {\n",
       "        vertical-align: middle;\n",
       "    }\n",
       "\n",
       "    .dataframe tbody tr th {\n",
       "        vertical-align: top;\n",
       "    }\n",
       "\n",
       "    .dataframe thead th {\n",
       "        text-align: right;\n",
       "    }\n",
       "</style>\n",
       "<table border=\"1\" class=\"dataframe\">\n",
       "  <thead>\n",
       "    <tr style=\"text-align: right;\">\n",
       "      <th></th>\n",
       "      <th>數值</th>\n",
       "    </tr>\n",
       "  </thead>\n",
       "  <tbody>\n",
       "    <tr>\n",
       "      <th>2022-01-01</th>\n",
       "      <td>9</td>\n",
       "    </tr>\n",
       "    <tr>\n",
       "      <th>2022-01-02</th>\n",
       "      <td>100</td>\n",
       "    </tr>\n",
       "    <tr>\n",
       "      <th>2022-01-03</th>\n",
       "      <td>15</td>\n",
       "    </tr>\n",
       "    <tr>\n",
       "      <th>2022-01-04</th>\n",
       "      <td>64</td>\n",
       "    </tr>\n",
       "    <tr>\n",
       "      <th>2022-01-05</th>\n",
       "      <td>28</td>\n",
       "    </tr>\n",
       "    <tr>\n",
       "      <th>...</th>\n",
       "      <td>...</td>\n",
       "    </tr>\n",
       "    <tr>\n",
       "      <th>2023-05-11</th>\n",
       "      <td>38</td>\n",
       "    </tr>\n",
       "    <tr>\n",
       "      <th>2023-05-12</th>\n",
       "      <td>27</td>\n",
       "    </tr>\n",
       "    <tr>\n",
       "      <th>2023-05-13</th>\n",
       "      <td>96</td>\n",
       "    </tr>\n",
       "    <tr>\n",
       "      <th>2023-05-14</th>\n",
       "      <td>87</td>\n",
       "    </tr>\n",
       "    <tr>\n",
       "      <th>2023-05-15</th>\n",
       "      <td>98</td>\n",
       "    </tr>\n",
       "  </tbody>\n",
       "</table>\n",
       "<p>500 rows × 1 columns</p>\n",
       "</div>"
      ],
      "text/plain": [
       "             數值\n",
       "2022-01-01    9\n",
       "2022-01-02  100\n",
       "2022-01-03   15\n",
       "2022-01-04   64\n",
       "2022-01-05   28\n",
       "...         ...\n",
       "2023-05-11   38\n",
       "2023-05-12   27\n",
       "2023-05-13   96\n",
       "2023-05-14   87\n",
       "2023-05-15   98\n",
       "\n",
       "[500 rows x 1 columns]"
      ]
     },
     "execution_count": 105,
     "metadata": {},
     "output_type": "execute_result"
    }
   ],
   "source": [
    "datelist = []\n",
    "for i in s1.index:\n",
    "    datelist.append(dt.datetime.strptime(i,\"%Y-%m-%d\"))\n",
    "s1.index = datelist\n",
    "s1\n",
    "# 太長了 => List列表推導式"
   ]
  },
  {
   "cell_type": "code",
   "execution_count": 113,
   "id": "bc7ec321",
   "metadata": {},
   "outputs": [
    {
     "name": "stdout",
     "output_type": "stream",
     "text": [
      "<class 'pandas.core.frame.DataFrame'>\n",
      "Index: 500 entries, 2022-01-01 to 2023-05-15\n",
      "Data columns (total 1 columns):\n",
      " #   Column  Non-Null Count  Dtype\n",
      "---  ------  --------------  -----\n",
      " 0   數值      500 non-null    int8 \n",
      "dtypes: int8(1)\n",
      "memory usage: 4.4+ KB\n"
     ]
    }
   ],
   "source": [
    "s1 = pd.read_csv('每日記錄.csv',names = ['日期','數值'], index_col = ['日期'], dtype = {'數值': 'int8'})\n",
    "# List列表推導式\n",
    "[dt.datetime.strptime(i,\"%Y-%m-%d\") for i in s1.index]\n",
    "s1.info()"
   ]
  },
  {
   "cell_type": "code",
   "execution_count": 118,
   "id": "68b189ef",
   "metadata": {},
   "outputs": [
    {
     "data": {
      "text/html": [
       "<div>\n",
       "<style scoped>\n",
       "    .dataframe tbody tr th:only-of-type {\n",
       "        vertical-align: middle;\n",
       "    }\n",
       "\n",
       "    .dataframe tbody tr th {\n",
       "        vertical-align: top;\n",
       "    }\n",
       "\n",
       "    .dataframe thead th {\n",
       "        text-align: right;\n",
       "    }\n",
       "</style>\n",
       "<table border=\"1\" class=\"dataframe\">\n",
       "  <thead>\n",
       "    <tr style=\"text-align: right;\">\n",
       "      <th></th>\n",
       "      <th>日期</th>\n",
       "      <th>數值</th>\n",
       "    </tr>\n",
       "  </thead>\n",
       "  <tbody>\n",
       "    <tr>\n",
       "      <th>0</th>\n",
       "      <td>2022-01-01</td>\n",
       "      <td>9</td>\n",
       "    </tr>\n",
       "    <tr>\n",
       "      <th>1</th>\n",
       "      <td>2022-01-02</td>\n",
       "      <td>100</td>\n",
       "    </tr>\n",
       "    <tr>\n",
       "      <th>2</th>\n",
       "      <td>2022-01-03</td>\n",
       "      <td>15</td>\n",
       "    </tr>\n",
       "    <tr>\n",
       "      <th>3</th>\n",
       "      <td>2022-01-04</td>\n",
       "      <td>64</td>\n",
       "    </tr>\n",
       "    <tr>\n",
       "      <th>4</th>\n",
       "      <td>2022-01-05</td>\n",
       "      <td>28</td>\n",
       "    </tr>\n",
       "    <tr>\n",
       "      <th>...</th>\n",
       "      <td>...</td>\n",
       "      <td>...</td>\n",
       "    </tr>\n",
       "    <tr>\n",
       "      <th>495</th>\n",
       "      <td>2023-05-11</td>\n",
       "      <td>38</td>\n",
       "    </tr>\n",
       "    <tr>\n",
       "      <th>496</th>\n",
       "      <td>2023-05-12</td>\n",
       "      <td>27</td>\n",
       "    </tr>\n",
       "    <tr>\n",
       "      <th>497</th>\n",
       "      <td>2023-05-13</td>\n",
       "      <td>96</td>\n",
       "    </tr>\n",
       "    <tr>\n",
       "      <th>498</th>\n",
       "      <td>2023-05-14</td>\n",
       "      <td>87</td>\n",
       "    </tr>\n",
       "    <tr>\n",
       "      <th>499</th>\n",
       "      <td>2023-05-15</td>\n",
       "      <td>98</td>\n",
       "    </tr>\n",
       "  </tbody>\n",
       "</table>\n",
       "<p>500 rows × 2 columns</p>\n",
       "</div>"
      ],
      "text/plain": [
       "            日期   數值\n",
       "0   2022-01-01    9\n",
       "1   2022-01-02  100\n",
       "2   2022-01-03   15\n",
       "3   2022-01-04   64\n",
       "4   2022-01-05   28\n",
       "..         ...  ...\n",
       "495 2023-05-11   38\n",
       "496 2023-05-12   27\n",
       "497 2023-05-13   96\n",
       "498 2023-05-14   87\n",
       "499 2023-05-15   98\n",
       "\n",
       "[500 rows x 2 columns]"
      ]
     },
     "execution_count": 118,
     "metadata": {},
     "output_type": "execute_result"
    }
   ],
   "source": [
    "# 使用dt.datetime.strptime搭配pandas的apply函數\n",
    "s1 = pd.read_csv('每日記錄.csv',names = ['日期','數值'], dtype = {'數值': 'int8'})\n",
    "# apply=跑迴圈\n",
    "s1['日期'] = s1['日期'].apply(lambda x:dt.datetime.strptime(x,\"%Y-%m-%d\"))\n",
    "s1"
   ]
  },
  {
   "cell_type": "code",
   "execution_count": 134,
   "id": "a853e1ca",
   "metadata": {
    "scrolled": true
   },
   "outputs": [],
   "source": [
    "import pandas as pd\n",
    "import numpy as np\n",
    "\n",
    "# 產生含日期的資料\n",
    "np.random.seed(10)\n",
    "s = pd.Series(np.random.randint(101, size = 500))\n",
    "#s.to_csv('數值列表.csv',header = False, index = False)"
   ]
  },
  {
   "cell_type": "code",
   "execution_count": 3,
   "id": "970c4274",
   "metadata": {
    "scrolled": true
   },
   "outputs": [
    {
     "data": {
      "text/html": [
       "<div>\n",
       "<style scoped>\n",
       "    .dataframe tbody tr th:only-of-type {\n",
       "        vertical-align: middle;\n",
       "    }\n",
       "\n",
       "    .dataframe tbody tr th {\n",
       "        vertical-align: top;\n",
       "    }\n",
       "\n",
       "    .dataframe thead th {\n",
       "        text-align: right;\n",
       "    }\n",
       "</style>\n",
       "<table border=\"1\" class=\"dataframe\">\n",
       "  <thead>\n",
       "    <tr style=\"text-align: right;\">\n",
       "      <th></th>\n",
       "      <th>年齡</th>\n",
       "      <th>分布狀態</th>\n",
       "    </tr>\n",
       "  </thead>\n",
       "  <tbody>\n",
       "    <tr>\n",
       "      <th>0</th>\n",
       "      <td>9</td>\n",
       "      <td>青少年</td>\n",
       "    </tr>\n",
       "    <tr>\n",
       "      <th>1</th>\n",
       "      <td>100</td>\n",
       "      <td>老年</td>\n",
       "    </tr>\n",
       "    <tr>\n",
       "      <th>2</th>\n",
       "      <td>15</td>\n",
       "      <td>青少年</td>\n",
       "    </tr>\n",
       "    <tr>\n",
       "      <th>3</th>\n",
       "      <td>64</td>\n",
       "      <td>樂活族</td>\n",
       "    </tr>\n",
       "    <tr>\n",
       "      <th>4</th>\n",
       "      <td>28</td>\n",
       "      <td>青年</td>\n",
       "    </tr>\n",
       "    <tr>\n",
       "      <th>...</th>\n",
       "      <td>...</td>\n",
       "      <td>...</td>\n",
       "    </tr>\n",
       "    <tr>\n",
       "      <th>495</th>\n",
       "      <td>38</td>\n",
       "      <td>青年</td>\n",
       "    </tr>\n",
       "    <tr>\n",
       "      <th>496</th>\n",
       "      <td>27</td>\n",
       "      <td>青年</td>\n",
       "    </tr>\n",
       "    <tr>\n",
       "      <th>497</th>\n",
       "      <td>96</td>\n",
       "      <td>老年</td>\n",
       "    </tr>\n",
       "    <tr>\n",
       "      <th>498</th>\n",
       "      <td>87</td>\n",
       "      <td>老年</td>\n",
       "    </tr>\n",
       "    <tr>\n",
       "      <th>499</th>\n",
       "      <td>98</td>\n",
       "      <td>老年</td>\n",
       "    </tr>\n",
       "  </tbody>\n",
       "</table>\n",
       "<p>500 rows × 2 columns</p>\n",
       "</div>"
      ],
      "text/plain": [
       "      年齡 分布狀態\n",
       "0      9  青少年\n",
       "1    100   老年\n",
       "2     15  青少年\n",
       "3     64  樂活族\n",
       "4     28   青年\n",
       "..   ...  ...\n",
       "495   38   青年\n",
       "496   27   青年\n",
       "497   96   老年\n",
       "498   87   老年\n",
       "499   98   老年\n",
       "\n",
       "[500 rows x 2 columns]"
      ]
     },
     "execution_count": 3,
     "metadata": {},
     "output_type": "execute_result"
    }
   ],
   "source": [
    "import pandas as pd\n",
    "import numpy as np\n",
    "\n",
    "np.random.seed(10)\n",
    "bins = [0, 20, 40, 60, 80, 100]\n",
    "labels = ['青少年', '青年', '中壯年', '樂活族', '老年']\n",
    "df = pd.DataFrame({\n",
    "    '年齡':np.random.randint(101, size = 500),\n",
    "    '分布狀態':pd.cut(s, bins = bins, labels = labels)\n",
    "})\n",
    "df"
   ]
  },
  {
   "cell_type": "code",
   "execution_count": 4,
   "id": "d188dc6e",
   "metadata": {},
   "outputs": [
    {
     "data": {
      "text/plain": [
       "(80, 100]    108\n",
       "(0, 20]      104\n",
       "(20, 40]     103\n",
       "(60, 80]      93\n",
       "(40, 60]      85\n",
       "Name: count, dtype: int64"
      ]
     },
     "execution_count": 4,
     "metadata": {},
     "output_type": "execute_result"
    }
   ],
   "source": [
    "pd.cut(s, bins = bins).value_counts()"
   ]
  },
  {
   "cell_type": "code",
   "execution_count": 5,
   "id": "ef0c72ed",
   "metadata": {},
   "outputs": [
    {
     "name": "stderr",
     "output_type": "stream",
     "text": [
      "C:\\Users\\wendy.c\\AppData\\Local\\Temp\\ipykernel_9832\\734327197.py:1: FutureWarning: The default of observed=False is deprecated and will be changed to True in a future version of pandas. Pass observed=False to retain current behavior or observed=True to adopt the future default and silence this warning.\n",
      "  df1 = df.groupby('分布狀態').count()\n"
     ]
    },
    {
     "data": {
      "text/html": [
       "<div>\n",
       "<style scoped>\n",
       "    .dataframe tbody tr th:only-of-type {\n",
       "        vertical-align: middle;\n",
       "    }\n",
       "\n",
       "    .dataframe tbody tr th {\n",
       "        vertical-align: top;\n",
       "    }\n",
       "\n",
       "    .dataframe thead th {\n",
       "        text-align: right;\n",
       "    }\n",
       "</style>\n",
       "<table border=\"1\" class=\"dataframe\">\n",
       "  <thead>\n",
       "    <tr style=\"text-align: right;\">\n",
       "      <th></th>\n",
       "      <th>人數</th>\n",
       "    </tr>\n",
       "    <tr>\n",
       "      <th>分布狀態</th>\n",
       "      <th></th>\n",
       "    </tr>\n",
       "  </thead>\n",
       "  <tbody>\n",
       "    <tr>\n",
       "      <th>青少年</th>\n",
       "      <td>104</td>\n",
       "    </tr>\n",
       "    <tr>\n",
       "      <th>青年</th>\n",
       "      <td>103</td>\n",
       "    </tr>\n",
       "    <tr>\n",
       "      <th>中壯年</th>\n",
       "      <td>85</td>\n",
       "    </tr>\n",
       "    <tr>\n",
       "      <th>樂活族</th>\n",
       "      <td>93</td>\n",
       "    </tr>\n",
       "    <tr>\n",
       "      <th>老年</th>\n",
       "      <td>108</td>\n",
       "    </tr>\n",
       "  </tbody>\n",
       "</table>\n",
       "</div>"
      ],
      "text/plain": [
       "       人數\n",
       "分布狀態     \n",
       "青少年   104\n",
       "青年    103\n",
       "中壯年    85\n",
       "樂活族    93\n",
       "老年    108"
      ]
     },
     "execution_count": 5,
     "metadata": {},
     "output_type": "execute_result"
    }
   ],
   "source": [
    "df1 = df.groupby('分布狀態').count()\n",
    "df1.columns = ['人數']\n",
    "df1"
   ]
  },
  {
   "cell_type": "code",
   "execution_count": 16,
   "id": "df601514",
   "metadata": {},
   "outputs": [
    {
     "data": {
      "text/plain": [
       "<matplotlib.legend.Legend at 0x1541654d150>"
      ]
     },
     "execution_count": 16,
     "metadata": {},
     "output_type": "execute_result"
    },
    {
     "data": {
      "image/png": "[encoded data removed]",
      "text/plain": [
       "<Figure size 500x300 with 1 Axes>"
      ]
     },
     "metadata": {},
     "output_type": "display_data"
    }
   ],
   "source": [
    "import matplotlib.pyplot as plt\n",
    "plt.rcParams['font.family'] = 'Microsoft Yahei' #不支援中文，需要另外安裝\n",
    "df1.plot(kind = 'bar', # 預設是折線圖\n",
    "         figsize = (5, 3), # 圖表大小\n",
    "         ylabel = '人數',\n",
    "         title = '各年齡分布狀態',\n",
    "         color = '#efc591',\n",
    "        ylim = (0,150),\n",
    "         rot = 0).legend(loc = 1)"
   ]
  },
  {
   "cell_type": "code",
   "execution_count": 18,
   "id": "050aa3c6",
   "metadata": {},
   "outputs": [],
   "source": [
    "df1.to_csv('年齡分布狀態.csv',encoding = 'big5') #big5hkscs, utf_8_sig"
   ]
  },
  {
   "cell_type": "markdown",
   "id": "c11a8a5a",
   "metadata": {},
   "source": [
    "### Pandas DataFrame"
   ]
  },
  {
   "cell_type": "code",
   "execution_count": 19,
   "id": "0b14b6cc",
   "metadata": {},
   "outputs": [
    {
     "data": {
      "text/html": [
       "<div>\n",
       "<style scoped>\n",
       "    .dataframe tbody tr th:only-of-type {\n",
       "        vertical-align: middle;\n",
       "    }\n",
       "\n",
       "    .dataframe tbody tr th {\n",
       "        vertical-align: top;\n",
       "    }\n",
       "\n",
       "    .dataframe thead th {\n",
       "        text-align: right;\n",
       "    }\n",
       "</style>\n",
       "<table border=\"1\" class=\"dataframe\">\n",
       "  <thead>\n",
       "    <tr style=\"text-align: right;\">\n",
       "      <th></th>\n",
       "      <th>0</th>\n",
       "      <th>1</th>\n",
       "      <th>2</th>\n",
       "    </tr>\n",
       "  </thead>\n",
       "  <tbody>\n",
       "    <tr>\n",
       "      <th>0</th>\n",
       "      <td>9</td>\n",
       "      <td>100</td>\n",
       "      <td>15</td>\n",
       "    </tr>\n",
       "    <tr>\n",
       "      <th>1</th>\n",
       "      <td>64</td>\n",
       "      <td>28</td>\n",
       "      <td>89</td>\n",
       "    </tr>\n",
       "    <tr>\n",
       "      <th>2</th>\n",
       "      <td>93</td>\n",
       "      <td>29</td>\n",
       "      <td>8</td>\n",
       "    </tr>\n",
       "    <tr>\n",
       "      <th>3</th>\n",
       "      <td>73</td>\n",
       "      <td>0</td>\n",
       "      <td>40</td>\n",
       "    </tr>\n",
       "  </tbody>\n",
       "</table>\n",
       "</div>"
      ],
      "text/plain": [
       "    0    1   2\n",
       "0   9  100  15\n",
       "1  64   28  89\n",
       "2  93   29   8\n",
       "3  73    0  40"
      ]
     },
     "execution_count": 19,
     "metadata": {},
     "output_type": "execute_result"
    }
   ],
   "source": [
    "import pandas as pd\n",
    "import numpy as np\n",
    "\n",
    "np.random.seed(10)\n",
    "df = pd.DataFrame(np.random.randint(101, size = (4,3)))\n",
    "df"
   ]
  },
  {
   "cell_type": "code",
   "execution_count": 20,
   "id": "042fbdc3",
   "metadata": {},
   "outputs": [
    {
     "data": {
      "text/plain": [
       "array([[  9, 100,  15],\n",
       "       [ 64,  28,  89],\n",
       "       [ 93,  29,   8],\n",
       "       [ 73,   0,  40]])"
      ]
     },
     "execution_count": 20,
     "metadata": {},
     "output_type": "execute_result"
    }
   ],
   "source": [
    "df.values"
   ]
  },
  {
   "cell_type": "code",
   "execution_count": 23,
   "id": "730a3647",
   "metadata": {},
   "outputs": [
    {
     "data": {
      "text/html": [
       "<div>\n",
       "<style scoped>\n",
       "    .dataframe tbody tr th:only-of-type {\n",
       "        vertical-align: middle;\n",
       "    }\n",
       "\n",
       "    .dataframe tbody tr th {\n",
       "        vertical-align: top;\n",
       "    }\n",
       "\n",
       "    .dataframe thead th {\n",
       "        text-align: right;\n",
       "    }\n",
       "</style>\n",
       "<table border=\"1\" class=\"dataframe\">\n",
       "  <thead>\n",
       "    <tr style=\"text-align: right;\">\n",
       "      <th></th>\n",
       "      <th>0</th>\n",
       "      <th>1</th>\n",
       "      <th>2</th>\n",
       "    </tr>\n",
       "  </thead>\n",
       "  <tbody>\n",
       "    <tr>\n",
       "      <th>0</th>\n",
       "      <td>9</td>\n",
       "      <td>100</td>\n",
       "      <td>15</td>\n",
       "    </tr>\n",
       "    <tr>\n",
       "      <th>1</th>\n",
       "      <td>64</td>\n",
       "      <td>28</td>\n",
       "      <td>89</td>\n",
       "    </tr>\n",
       "    <tr>\n",
       "      <th>2</th>\n",
       "      <td>93</td>\n",
       "      <td>29</td>\n",
       "      <td>8</td>\n",
       "    </tr>\n",
       "    <tr>\n",
       "      <th>3</th>\n",
       "      <td>73</td>\n",
       "      <td>0</td>\n",
       "      <td>40</td>\n",
       "    </tr>\n",
       "  </tbody>\n",
       "</table>\n",
       "</div>"
      ],
      "text/plain": [
       "    0    1   2\n",
       "0   9  100  15\n",
       "1  64   28  89\n",
       "2  93   29   8\n",
       "3  73    0  40"
      ]
     },
     "execution_count": 23,
     "metadata": {},
     "output_type": "execute_result"
    }
   ],
   "source": [
    "import pandas as pd\n",
    "l = [[  9, 100,  15],\n",
    "       [ 64,  28,  89],\n",
    "       [ 93,  29,   8],\n",
    "       [ 73,   0,  40]]\n",
    "df = pd.DataFrame(l)\n",
    "df"
   ]
  },
  {
   "cell_type": "code",
   "execution_count": 24,
   "id": "707583ff",
   "metadata": {},
   "outputs": [
    {
     "data": {
      "text/html": [
       "<div>\n",
       "<style scoped>\n",
       "    .dataframe tbody tr th:only-of-type {\n",
       "        vertical-align: middle;\n",
       "    }\n",
       "\n",
       "    .dataframe tbody tr th {\n",
       "        vertical-align: top;\n",
       "    }\n",
       "\n",
       "    .dataframe thead th {\n",
       "        text-align: right;\n",
       "    }\n",
       "</style>\n",
       "<table border=\"1\" class=\"dataframe\">\n",
       "  <thead>\n",
       "    <tr style=\"text-align: right;\">\n",
       "      <th></th>\n",
       "      <th>0</th>\n",
       "      <th>1</th>\n",
       "      <th>2</th>\n",
       "    </tr>\n",
       "  </thead>\n",
       "  <tbody>\n",
       "    <tr>\n",
       "      <th>0</th>\n",
       "      <td>9</td>\n",
       "      <td>56</td>\n",
       "      <td>87</td>\n",
       "    </tr>\n",
       "    <tr>\n",
       "      <th>1</th>\n",
       "      <td>49</td>\n",
       "      <td>39</td>\n",
       "      <td>65</td>\n",
       "    </tr>\n",
       "    <tr>\n",
       "      <th>2</th>\n",
       "      <td>60</td>\n",
       "      <td>70</td>\n",
       "      <td>93</td>\n",
       "    </tr>\n",
       "    <tr>\n",
       "      <th>3</th>\n",
       "      <td>39</td>\n",
       "      <td>24</td>\n",
       "      <td>45</td>\n",
       "    </tr>\n",
       "  </tbody>\n",
       "</table>\n",
       "</div>"
      ],
      "text/plain": [
       "    0   1   2\n",
       "0   9  56  87\n",
       "1  49  39  65\n",
       "2  60  70  93\n",
       "3  39  24  45"
      ]
     },
     "execution_count": 24,
     "metadata": {},
     "output_type": "execute_result"
    }
   ],
   "source": [
    "import pandas as pd\n",
    "df = pd.DataFrame({\n",
    "    0: [9,49,60,39],\n",
    "    1: [56,39,70,24],\n",
    "    2: [87,65,93,45]\n",
    "})\n",
    "df"
   ]
  },
  {
   "cell_type": "code",
   "execution_count": 27,
   "id": "8f20f610",
   "metadata": {},
   "outputs": [
    {
     "ename": "ValueError",
     "evalue": "If using all scalar values, you must pass an index",
     "output_type": "error",
     "traceback": [
      "\u001b[1;31m---------------------------------------------------------------------------\u001b[0m",
      "\u001b[1;31mValueError\u001b[0m                                Traceback (most recent call last)",
      "Cell \u001b[1;32mIn[27], line 3\u001b[0m\n\u001b[0;32m      1\u001b[0m \u001b[38;5;28;01mimport\u001b[39;00m \u001b[38;5;21;01mpandas\u001b[39;00m \u001b[38;5;28;01mas\u001b[39;00m \u001b[38;5;21;01mpd\u001b[39;00m\n\u001b[0;32m      2\u001b[0m d \u001b[38;5;241m=\u001b[39m {\u001b[38;5;241m0\u001b[39m:\u001b[38;5;241m1\u001b[39m,\u001b[38;5;241m1\u001b[39m:\u001b[38;5;241m4\u001b[39m,\u001b[38;5;241m2\u001b[39m:\u001b[38;5;241m8\u001b[39m}\n\u001b[1;32m----> 3\u001b[0m df \u001b[38;5;241m=\u001b[39m pd\u001b[38;5;241m.\u001b[39mDataFrame(d)\n\u001b[0;32m      4\u001b[0m df\n",
      "File \u001b[1;32m~\\AppData\\Roaming\\Python\\Python311\\site-packages\\pandas\\core\\frame.py:733\u001b[0m, in \u001b[0;36mDataFrame.__init__\u001b[1;34m(self, data, index, columns, dtype, copy)\u001b[0m\n\u001b[0;32m    727\u001b[0m     mgr \u001b[38;5;241m=\u001b[39m \u001b[38;5;28mself\u001b[39m\u001b[38;5;241m.\u001b[39m_init_mgr(\n\u001b[0;32m    728\u001b[0m         data, axes\u001b[38;5;241m=\u001b[39m{\u001b[38;5;124m\"\u001b[39m\u001b[38;5;124mindex\u001b[39m\u001b[38;5;124m\"\u001b[39m: index, \u001b[38;5;124m\"\u001b[39m\u001b[38;5;124mcolumns\u001b[39m\u001b[38;5;124m\"\u001b[39m: columns}, dtype\u001b[38;5;241m=\u001b[39mdtype, copy\u001b[38;5;241m=\u001b[39mcopy\n\u001b[0;32m    729\u001b[0m     )\n\u001b[0;32m    731\u001b[0m \u001b[38;5;28;01melif\u001b[39;00m \u001b[38;5;28misinstance\u001b[39m(data, \u001b[38;5;28mdict\u001b[39m):\n\u001b[0;32m    732\u001b[0m     \u001b[38;5;66;03m# GH#38939 de facto copy defaults to False only in non-dict cases\u001b[39;00m\n\u001b[1;32m--> 733\u001b[0m     mgr \u001b[38;5;241m=\u001b[39m dict_to_mgr(data, index, columns, dtype\u001b[38;5;241m=\u001b[39mdtype, copy\u001b[38;5;241m=\u001b[39mcopy, typ\u001b[38;5;241m=\u001b[39mmanager)\n\u001b[0;32m    734\u001b[0m \u001b[38;5;28;01melif\u001b[39;00m \u001b[38;5;28misinstance\u001b[39m(data, ma\u001b[38;5;241m.\u001b[39mMaskedArray):\n\u001b[0;32m    735\u001b[0m     \u001b[38;5;28;01mfrom\u001b[39;00m \u001b[38;5;21;01mnumpy\u001b[39;00m\u001b[38;5;21;01m.\u001b[39;00m\u001b[38;5;21;01mma\u001b[39;00m \u001b[38;5;28;01mimport\u001b[39;00m mrecords\n",
      "File \u001b[1;32m~\\AppData\\Roaming\\Python\\Python311\\site-packages\\pandas\\core\\internals\\construction.py:503\u001b[0m, in \u001b[0;36mdict_to_mgr\u001b[1;34m(data, index, columns, dtype, typ, copy)\u001b[0m\n\u001b[0;32m    499\u001b[0m     \u001b[38;5;28;01melse\u001b[39;00m:\n\u001b[0;32m    500\u001b[0m         \u001b[38;5;66;03m# dtype check to exclude e.g. range objects, scalars\u001b[39;00m\n\u001b[0;32m    501\u001b[0m         arrays \u001b[38;5;241m=\u001b[39m [x\u001b[38;5;241m.\u001b[39mcopy() \u001b[38;5;28;01mif\u001b[39;00m \u001b[38;5;28mhasattr\u001b[39m(x, \u001b[38;5;124m\"\u001b[39m\u001b[38;5;124mdtype\u001b[39m\u001b[38;5;124m\"\u001b[39m) \u001b[38;5;28;01melse\u001b[39;00m x \u001b[38;5;28;01mfor\u001b[39;00m x \u001b[38;5;129;01min\u001b[39;00m arrays]\n\u001b[1;32m--> 503\u001b[0m \u001b[38;5;28;01mreturn\u001b[39;00m arrays_to_mgr(arrays, columns, index, dtype\u001b[38;5;241m=\u001b[39mdtype, typ\u001b[38;5;241m=\u001b[39mtyp, consolidate\u001b[38;5;241m=\u001b[39mcopy)\n",
      "File \u001b[1;32m~\\AppData\\Roaming\\Python\\Python311\\site-packages\\pandas\\core\\internals\\construction.py:114\u001b[0m, in \u001b[0;36marrays_to_mgr\u001b[1;34m(arrays, columns, index, dtype, verify_integrity, typ, consolidate)\u001b[0m\n\u001b[0;32m    111\u001b[0m \u001b[38;5;28;01mif\u001b[39;00m verify_integrity:\n\u001b[0;32m    112\u001b[0m     \u001b[38;5;66;03m# figure out the index, if necessary\u001b[39;00m\n\u001b[0;32m    113\u001b[0m     \u001b[38;5;28;01mif\u001b[39;00m index \u001b[38;5;129;01mis\u001b[39;00m \u001b[38;5;28;01mNone\u001b[39;00m:\n\u001b[1;32m--> 114\u001b[0m         index \u001b[38;5;241m=\u001b[39m _extract_index(arrays)\n\u001b[0;32m    115\u001b[0m     \u001b[38;5;28;01melse\u001b[39;00m:\n\u001b[0;32m    116\u001b[0m         index \u001b[38;5;241m=\u001b[39m ensure_index(index)\n",
      "File \u001b[1;32m~\\AppData\\Roaming\\Python\\Python311\\site-packages\\pandas\\core\\internals\\construction.py:667\u001b[0m, in \u001b[0;36m_extract_index\u001b[1;34m(data)\u001b[0m\n\u001b[0;32m    664\u001b[0m         \u001b[38;5;28;01mraise\u001b[39;00m \u001b[38;5;167;01mValueError\u001b[39;00m(\u001b[38;5;124m\"\u001b[39m\u001b[38;5;124mPer-column arrays must each be 1-dimensional\u001b[39m\u001b[38;5;124m\"\u001b[39m)\n\u001b[0;32m    666\u001b[0m \u001b[38;5;28;01mif\u001b[39;00m \u001b[38;5;129;01mnot\u001b[39;00m indexes \u001b[38;5;129;01mand\u001b[39;00m \u001b[38;5;129;01mnot\u001b[39;00m raw_lengths:\n\u001b[1;32m--> 667\u001b[0m     \u001b[38;5;28;01mraise\u001b[39;00m \u001b[38;5;167;01mValueError\u001b[39;00m(\u001b[38;5;124m\"\u001b[39m\u001b[38;5;124mIf using all scalar values, you must pass an index\u001b[39m\u001b[38;5;124m\"\u001b[39m)\n\u001b[0;32m    669\u001b[0m \u001b[38;5;28;01mif\u001b[39;00m have_series:\n\u001b[0;32m    670\u001b[0m     index \u001b[38;5;241m=\u001b[39m union_indexes(indexes)\n",
      "\u001b[1;31mValueError\u001b[0m: If using all scalar values, you must pass an index"
     ]
    }
   ],
   "source": [
    "import pandas as pd\n",
    "d = {0:1,1:4,2:8}\n",
    "df = pd.DataFrame(d)\n",
    "df"
   ]
  },
  {
   "cell_type": "code",
   "execution_count": 28,
   "id": "dd5e3c41",
   "metadata": {},
   "outputs": [
    {
     "data": {
      "text/html": [
       "<div>\n",
       "<style scoped>\n",
       "    .dataframe tbody tr th:only-of-type {\n",
       "        vertical-align: middle;\n",
       "    }\n",
       "\n",
       "    .dataframe tbody tr th {\n",
       "        vertical-align: top;\n",
       "    }\n",
       "\n",
       "    .dataframe thead th {\n",
       "        text-align: right;\n",
       "    }\n",
       "</style>\n",
       "<table border=\"1\" class=\"dataframe\">\n",
       "  <thead>\n",
       "    <tr style=\"text-align: right;\">\n",
       "      <th></th>\n",
       "      <th>0</th>\n",
       "      <th>1</th>\n",
       "      <th>2</th>\n",
       "    </tr>\n",
       "  </thead>\n",
       "  <tbody>\n",
       "    <tr>\n",
       "      <th>0</th>\n",
       "      <td>1</td>\n",
       "      <td>4</td>\n",
       "      <td>8</td>\n",
       "    </tr>\n",
       "  </tbody>\n",
       "</table>\n",
       "</div>"
      ],
      "text/plain": [
       "   0  1  2\n",
       "0  1  4  8"
      ]
     },
     "execution_count": 28,
     "metadata": {},
     "output_type": "execute_result"
    }
   ],
   "source": [
    "import pandas as pd\n",
    "d = {0:1,1:4,2:8}\n",
    "df = pd.DataFrame(d,index = [0]) # 設定index\n",
    "df"
   ]
  },
  {
   "cell_type": "code",
   "execution_count": 31,
   "id": "73fcb71f",
   "metadata": {},
   "outputs": [
    {
     "data": {
      "text/html": [
       "<div>\n",
       "<style scoped>\n",
       "    .dataframe tbody tr th:only-of-type {\n",
       "        vertical-align: middle;\n",
       "    }\n",
       "\n",
       "    .dataframe tbody tr th {\n",
       "        vertical-align: top;\n",
       "    }\n",
       "\n",
       "    .dataframe thead th {\n",
       "        text-align: right;\n",
       "    }\n",
       "</style>\n",
       "<table border=\"1\" class=\"dataframe\">\n",
       "  <thead>\n",
       "    <tr style=\"text-align: right;\">\n",
       "      <th></th>\n",
       "      <th>x</th>\n",
       "      <th>y</th>\n",
       "      <th>z</th>\n",
       "    </tr>\n",
       "  </thead>\n",
       "  <tbody>\n",
       "    <tr>\n",
       "      <th>a</th>\n",
       "      <td>9</td>\n",
       "      <td>100</td>\n",
       "      <td>15</td>\n",
       "    </tr>\n",
       "    <tr>\n",
       "      <th>b</th>\n",
       "      <td>64</td>\n",
       "      <td>28</td>\n",
       "      <td>89</td>\n",
       "    </tr>\n",
       "    <tr>\n",
       "      <th>c</th>\n",
       "      <td>93</td>\n",
       "      <td>29</td>\n",
       "      <td>8</td>\n",
       "    </tr>\n",
       "    <tr>\n",
       "      <th>d</th>\n",
       "      <td>73</td>\n",
       "      <td>0</td>\n",
       "      <td>40</td>\n",
       "    </tr>\n",
       "  </tbody>\n",
       "</table>\n",
       "</div>"
      ],
      "text/plain": [
       "    x    y   z\n",
       "a   9  100  15\n",
       "b  64   28  89\n",
       "c  93   29   8\n",
       "d  73    0  40"
      ]
     },
     "execution_count": 31,
     "metadata": {},
     "output_type": "execute_result"
    }
   ],
   "source": [
    "import pandas as pd\n",
    "import numpy as np\n",
    "\n",
    "np.random.seed(10)\n",
    "df = pd.DataFrame(np.random.randint(101, size = (4,3)),\n",
    "                 index = list('abcd'),\n",
    "                 columns = list('xyz'))\n",
    "df"
   ]
  },
  {
   "cell_type": "code",
   "execution_count": 33,
   "id": "97a4fe76",
   "metadata": {},
   "outputs": [
    {
     "data": {
      "text/html": [
       "<div>\n",
       "<style scoped>\n",
       "    .dataframe tbody tr th:only-of-type {\n",
       "        vertical-align: middle;\n",
       "    }\n",
       "\n",
       "    .dataframe tbody tr th {\n",
       "        vertical-align: top;\n",
       "    }\n",
       "\n",
       "    .dataframe thead th {\n",
       "        text-align: right;\n",
       "    }\n",
       "</style>\n",
       "<table border=\"1\" class=\"dataframe\">\n",
       "  <thead>\n",
       "    <tr style=\"text-align: right;\">\n",
       "      <th></th>\n",
       "      <th>x</th>\n",
       "      <th>y</th>\n",
       "      <th>z</th>\n",
       "    </tr>\n",
       "  </thead>\n",
       "  <tbody>\n",
       "    <tr>\n",
       "      <th>0</th>\n",
       "      <td>9</td>\n",
       "      <td>100</td>\n",
       "      <td>15</td>\n",
       "    </tr>\n",
       "    <tr>\n",
       "      <th>1</th>\n",
       "      <td>64</td>\n",
       "      <td>28</td>\n",
       "      <td>89</td>\n",
       "    </tr>\n",
       "    <tr>\n",
       "      <th>2</th>\n",
       "      <td>93</td>\n",
       "      <td>29</td>\n",
       "      <td>8</td>\n",
       "    </tr>\n",
       "    <tr>\n",
       "      <th>3</th>\n",
       "      <td>73</td>\n",
       "      <td>0</td>\n",
       "      <td>40</td>\n",
       "    </tr>\n",
       "  </tbody>\n",
       "</table>\n",
       "</div>"
      ],
      "text/plain": [
       "    x    y   z\n",
       "0   9  100  15\n",
       "1  64   28  89\n",
       "2  93   29   8\n",
       "3  73    0  40"
      ]
     },
     "execution_count": 33,
     "metadata": {},
     "output_type": "execute_result"
    }
   ],
   "source": [
    "# 修改index 法一\n",
    "df.rename(index = {'a':0, 'b': 1,'c': 2, 'd':3})"
   ]
  },
  {
   "cell_type": "code",
   "execution_count": 34,
   "id": "d774294e",
   "metadata": {},
   "outputs": [
    {
     "data": {
      "text/html": [
       "<div>\n",
       "<style scoped>\n",
       "    .dataframe tbody tr th:only-of-type {\n",
       "        vertical-align: middle;\n",
       "    }\n",
       "\n",
       "    .dataframe tbody tr th {\n",
       "        vertical-align: top;\n",
       "    }\n",
       "\n",
       "    .dataframe thead th {\n",
       "        text-align: right;\n",
       "    }\n",
       "</style>\n",
       "<table border=\"1\" class=\"dataframe\">\n",
       "  <thead>\n",
       "    <tr style=\"text-align: right;\">\n",
       "      <th></th>\n",
       "      <th>x</th>\n",
       "      <th>y</th>\n",
       "      <th>z</th>\n",
       "    </tr>\n",
       "  </thead>\n",
       "  <tbody>\n",
       "    <tr>\n",
       "      <th>0</th>\n",
       "      <td>9</td>\n",
       "      <td>100</td>\n",
       "      <td>15</td>\n",
       "    </tr>\n",
       "    <tr>\n",
       "      <th>1</th>\n",
       "      <td>64</td>\n",
       "      <td>28</td>\n",
       "      <td>89</td>\n",
       "    </tr>\n",
       "    <tr>\n",
       "      <th>2</th>\n",
       "      <td>93</td>\n",
       "      <td>29</td>\n",
       "      <td>8</td>\n",
       "    </tr>\n",
       "    <tr>\n",
       "      <th>3</th>\n",
       "      <td>73</td>\n",
       "      <td>0</td>\n",
       "      <td>40</td>\n",
       "    </tr>\n",
       "  </tbody>\n",
       "</table>\n",
       "</div>"
      ],
      "text/plain": [
       "    x    y   z\n",
       "0   9  100  15\n",
       "1  64   28  89\n",
       "2  93   29   8\n",
       "3  73    0  40"
      ]
     },
     "execution_count": 34,
     "metadata": {},
     "output_type": "execute_result"
    }
   ],
   "source": [
    "# 不用index也可以，因為預設會是axis = 0\n",
    "df.rename( {'a':0, 'b': 1,'c': 2, 'd':3})"
   ]
  },
  {
   "cell_type": "code",
   "execution_count": 36,
   "id": "5b81c54c",
   "metadata": {},
   "outputs": [
    {
     "data": {
      "text/html": [
       "<div>\n",
       "<style scoped>\n",
       "    .dataframe tbody tr th:only-of-type {\n",
       "        vertical-align: middle;\n",
       "    }\n",
       "\n",
       "    .dataframe tbody tr th {\n",
       "        vertical-align: top;\n",
       "    }\n",
       "\n",
       "    .dataframe thead th {\n",
       "        text-align: right;\n",
       "    }\n",
       "</style>\n",
       "<table border=\"1\" class=\"dataframe\">\n",
       "  <thead>\n",
       "    <tr style=\"text-align: right;\">\n",
       "      <th></th>\n",
       "      <th>x</th>\n",
       "      <th>y</th>\n",
       "      <th>z</th>\n",
       "    </tr>\n",
       "  </thead>\n",
       "  <tbody>\n",
       "    <tr>\n",
       "      <th>0</th>\n",
       "      <td>9</td>\n",
       "      <td>100</td>\n",
       "      <td>15</td>\n",
       "    </tr>\n",
       "    <tr>\n",
       "      <th>1</th>\n",
       "      <td>64</td>\n",
       "      <td>28</td>\n",
       "      <td>89</td>\n",
       "    </tr>\n",
       "    <tr>\n",
       "      <th>2</th>\n",
       "      <td>93</td>\n",
       "      <td>29</td>\n",
       "      <td>8</td>\n",
       "    </tr>\n",
       "    <tr>\n",
       "      <th>3</th>\n",
       "      <td>73</td>\n",
       "      <td>0</td>\n",
       "      <td>40</td>\n",
       "    </tr>\n",
       "  </tbody>\n",
       "</table>\n",
       "</div>"
      ],
      "text/plain": [
       "    x    y   z\n",
       "0   9  100  15\n",
       "1  64   28  89\n",
       "2  93   29   8\n",
       "3  73    0  40"
      ]
     },
     "execution_count": 36,
     "metadata": {},
     "output_type": "execute_result"
    }
   ],
   "source": [
    "# 法二\n",
    "df.reset_index(drop = True)"
   ]
  },
  {
   "cell_type": "code",
   "execution_count": 38,
   "id": "374b5237",
   "metadata": {},
   "outputs": [
    {
     "data": {
      "text/html": [
       "<div>\n",
       "<style scoped>\n",
       "    .dataframe tbody tr th:only-of-type {\n",
       "        vertical-align: middle;\n",
       "    }\n",
       "\n",
       "    .dataframe tbody tr th {\n",
       "        vertical-align: top;\n",
       "    }\n",
       "\n",
       "    .dataframe thead th {\n",
       "        text-align: right;\n",
       "    }\n",
       "</style>\n",
       "<table border=\"1\" class=\"dataframe\">\n",
       "  <thead>\n",
       "    <tr style=\"text-align: right;\">\n",
       "      <th></th>\n",
       "      <th>x</th>\n",
       "      <th>y</th>\n",
       "      <th>z</th>\n",
       "    </tr>\n",
       "  </thead>\n",
       "  <tbody>\n",
       "    <tr>\n",
       "      <th>0</th>\n",
       "      <td>9</td>\n",
       "      <td>100</td>\n",
       "      <td>15</td>\n",
       "    </tr>\n",
       "    <tr>\n",
       "      <th>1</th>\n",
       "      <td>64</td>\n",
       "      <td>28</td>\n",
       "      <td>89</td>\n",
       "    </tr>\n",
       "    <tr>\n",
       "      <th>2</th>\n",
       "      <td>93</td>\n",
       "      <td>29</td>\n",
       "      <td>8</td>\n",
       "    </tr>\n",
       "    <tr>\n",
       "      <th>3</th>\n",
       "      <td>73</td>\n",
       "      <td>0</td>\n",
       "      <td>40</td>\n",
       "    </tr>\n",
       "  </tbody>\n",
       "</table>\n",
       "</div>"
      ],
      "text/plain": [
       "    x    y   z\n",
       "0   9  100  15\n",
       "1  64   28  89\n",
       "2  93   29   8\n",
       "3  73    0  40"
      ]
     },
     "execution_count": 38,
     "metadata": {},
     "output_type": "execute_result"
    }
   ],
   "source": [
    "# 法三\n",
    "df.index = range(len(df))\n",
    "df"
   ]
  },
  {
   "cell_type": "code",
   "execution_count": 39,
   "id": "3d6c895e",
   "metadata": {},
   "outputs": [
    {
     "data": {
      "text/plain": [
       "Index(['x', 'y', 'z'], dtype='object')"
      ]
     },
     "execution_count": 39,
     "metadata": {},
     "output_type": "execute_result"
    }
   ],
   "source": [
    "# 修改column\n",
    "df.columns"
   ]
  },
  {
   "cell_type": "code",
   "execution_count": 40,
   "id": "6c31ea35",
   "metadata": {},
   "outputs": [
    {
     "data": {
      "text/html": [
       "<div>\n",
       "<style scoped>\n",
       "    .dataframe tbody tr th:only-of-type {\n",
       "        vertical-align: middle;\n",
       "    }\n",
       "\n",
       "    .dataframe tbody tr th {\n",
       "        vertical-align: top;\n",
       "    }\n",
       "\n",
       "    .dataframe thead th {\n",
       "        text-align: right;\n",
       "    }\n",
       "</style>\n",
       "<table border=\"1\" class=\"dataframe\">\n",
       "  <thead>\n",
       "    <tr style=\"text-align: right;\">\n",
       "      <th></th>\n",
       "      <th>0</th>\n",
       "      <th>1</th>\n",
       "      <th>2</th>\n",
       "    </tr>\n",
       "  </thead>\n",
       "  <tbody>\n",
       "    <tr>\n",
       "      <th>0</th>\n",
       "      <td>9</td>\n",
       "      <td>100</td>\n",
       "      <td>15</td>\n",
       "    </tr>\n",
       "    <tr>\n",
       "      <th>1</th>\n",
       "      <td>64</td>\n",
       "      <td>28</td>\n",
       "      <td>89</td>\n",
       "    </tr>\n",
       "    <tr>\n",
       "      <th>2</th>\n",
       "      <td>93</td>\n",
       "      <td>29</td>\n",
       "      <td>8</td>\n",
       "    </tr>\n",
       "    <tr>\n",
       "      <th>3</th>\n",
       "      <td>73</td>\n",
       "      <td>0</td>\n",
       "      <td>40</td>\n",
       "    </tr>\n",
       "  </tbody>\n",
       "</table>\n",
       "</div>"
      ],
      "text/plain": [
       "    0    1   2\n",
       "0   9  100  15\n",
       "1  64   28  89\n",
       "2  93   29   8\n",
       "3  73    0  40"
      ]
     },
     "execution_count": 40,
     "metadata": {},
     "output_type": "execute_result"
    }
   ],
   "source": [
    "# 法一\n",
    "df.rename(columns = {'x':0, 'y':1,'z': 2})"
   ]
  },
  {
   "cell_type": "code",
   "execution_count": 41,
   "id": "2399e271",
   "metadata": {},
   "outputs": [
    {
     "data": {
      "text/html": [
       "<div>\n",
       "<style scoped>\n",
       "    .dataframe tbody tr th:only-of-type {\n",
       "        vertical-align: middle;\n",
       "    }\n",
       "\n",
       "    .dataframe tbody tr th {\n",
       "        vertical-align: top;\n",
       "    }\n",
       "\n",
       "    .dataframe thead th {\n",
       "        text-align: right;\n",
       "    }\n",
       "</style>\n",
       "<table border=\"1\" class=\"dataframe\">\n",
       "  <thead>\n",
       "    <tr style=\"text-align: right;\">\n",
       "      <th></th>\n",
       "      <th>0</th>\n",
       "      <th>1</th>\n",
       "      <th>2</th>\n",
       "    </tr>\n",
       "  </thead>\n",
       "  <tbody>\n",
       "    <tr>\n",
       "      <th>0</th>\n",
       "      <td>9</td>\n",
       "      <td>100</td>\n",
       "      <td>15</td>\n",
       "    </tr>\n",
       "    <tr>\n",
       "      <th>1</th>\n",
       "      <td>64</td>\n",
       "      <td>28</td>\n",
       "      <td>89</td>\n",
       "    </tr>\n",
       "    <tr>\n",
       "      <th>2</th>\n",
       "      <td>93</td>\n",
       "      <td>29</td>\n",
       "      <td>8</td>\n",
       "    </tr>\n",
       "    <tr>\n",
       "      <th>3</th>\n",
       "      <td>73</td>\n",
       "      <td>0</td>\n",
       "      <td>40</td>\n",
       "    </tr>\n",
       "  </tbody>\n",
       "</table>\n",
       "</div>"
      ],
      "text/plain": [
       "    0    1   2\n",
       "0   9  100  15\n",
       "1  64   28  89\n",
       "2  93   29   8\n",
       "3  73    0  40"
      ]
     },
     "execution_count": 41,
     "metadata": {},
     "output_type": "execute_result"
    }
   ],
   "source": [
    "df.rename({'x':0, 'y':1,'z': 2},axis = 1)"
   ]
  },
  {
   "cell_type": "code",
   "execution_count": 45,
   "id": "87deb78e",
   "metadata": {},
   "outputs": [
    {
     "ename": "AttributeError",
     "evalue": "'DataFrame' object has no attribute 'reset_column'",
     "output_type": "error",
     "traceback": [
      "\u001b[1;31m---------------------------------------------------------------------------\u001b[0m",
      "\u001b[1;31mAttributeError\u001b[0m                            Traceback (most recent call last)",
      "Cell \u001b[1;32mIn[45], line 2\u001b[0m\n\u001b[0;32m      1\u001b[0m \u001b[38;5;66;03m# 法二\u001b[39;00m\n\u001b[1;32m----> 2\u001b[0m df\u001b[38;5;241m.\u001b[39mreset_column\n",
      "File \u001b[1;32m~\\AppData\\Roaming\\Python\\Python311\\site-packages\\pandas\\core\\generic.py:6204\u001b[0m, in \u001b[0;36mNDFrame.__getattr__\u001b[1;34m(self, name)\u001b[0m\n\u001b[0;32m   6197\u001b[0m \u001b[38;5;28;01mif\u001b[39;00m (\n\u001b[0;32m   6198\u001b[0m     name \u001b[38;5;129;01mnot\u001b[39;00m \u001b[38;5;129;01min\u001b[39;00m \u001b[38;5;28mself\u001b[39m\u001b[38;5;241m.\u001b[39m_internal_names_set\n\u001b[0;32m   6199\u001b[0m     \u001b[38;5;129;01mand\u001b[39;00m name \u001b[38;5;129;01mnot\u001b[39;00m \u001b[38;5;129;01min\u001b[39;00m \u001b[38;5;28mself\u001b[39m\u001b[38;5;241m.\u001b[39m_metadata\n\u001b[0;32m   6200\u001b[0m     \u001b[38;5;129;01mand\u001b[39;00m name \u001b[38;5;129;01mnot\u001b[39;00m \u001b[38;5;129;01min\u001b[39;00m \u001b[38;5;28mself\u001b[39m\u001b[38;5;241m.\u001b[39m_accessors\n\u001b[0;32m   6201\u001b[0m     \u001b[38;5;129;01mand\u001b[39;00m \u001b[38;5;28mself\u001b[39m\u001b[38;5;241m.\u001b[39m_info_axis\u001b[38;5;241m.\u001b[39m_can_hold_identifiers_and_holds_name(name)\n\u001b[0;32m   6202\u001b[0m ):\n\u001b[0;32m   6203\u001b[0m     \u001b[38;5;28;01mreturn\u001b[39;00m \u001b[38;5;28mself\u001b[39m[name]\n\u001b[1;32m-> 6204\u001b[0m \u001b[38;5;28;01mreturn\u001b[39;00m \u001b[38;5;28mobject\u001b[39m\u001b[38;5;241m.\u001b[39m\u001b[38;5;21m__getattribute__\u001b[39m(\u001b[38;5;28mself\u001b[39m, name)\n",
      "\u001b[1;31mAttributeError\u001b[0m: 'DataFrame' object has no attribute 'reset_column'"
     ]
    }
   ],
   "source": [
    "# 法二\n",
    "df.reset_column"
   ]
  },
  {
   "cell_type": "code",
   "execution_count": 43,
   "id": "97f51d13",
   "metadata": {},
   "outputs": [
    {
     "data": {
      "text/html": [
       "<div>\n",
       "<style scoped>\n",
       "    .dataframe tbody tr th:only-of-type {\n",
       "        vertical-align: middle;\n",
       "    }\n",
       "\n",
       "    .dataframe tbody tr th {\n",
       "        vertical-align: top;\n",
       "    }\n",
       "\n",
       "    .dataframe thead th {\n",
       "        text-align: right;\n",
       "    }\n",
       "</style>\n",
       "<table border=\"1\" class=\"dataframe\">\n",
       "  <thead>\n",
       "    <tr style=\"text-align: right;\">\n",
       "      <th></th>\n",
       "      <th>0</th>\n",
       "      <th>1</th>\n",
       "      <th>2</th>\n",
       "    </tr>\n",
       "  </thead>\n",
       "  <tbody>\n",
       "    <tr>\n",
       "      <th>0</th>\n",
       "      <td>9</td>\n",
       "      <td>100</td>\n",
       "      <td>15</td>\n",
       "    </tr>\n",
       "    <tr>\n",
       "      <th>1</th>\n",
       "      <td>64</td>\n",
       "      <td>28</td>\n",
       "      <td>89</td>\n",
       "    </tr>\n",
       "    <tr>\n",
       "      <th>2</th>\n",
       "      <td>93</td>\n",
       "      <td>29</td>\n",
       "      <td>8</td>\n",
       "    </tr>\n",
       "    <tr>\n",
       "      <th>3</th>\n",
       "      <td>73</td>\n",
       "      <td>0</td>\n",
       "      <td>40</td>\n",
       "    </tr>\n",
       "  </tbody>\n",
       "</table>\n",
       "</div>"
      ],
      "text/plain": [
       "    0    1   2\n",
       "0   9  100  15\n",
       "1  64   28  89\n",
       "2  93   29   8\n",
       "3  73    0  40"
      ]
     },
     "execution_count": 43,
     "metadata": {},
     "output_type": "execute_result"
    }
   ],
   "source": [
    "# 法三\n",
    "df.columns = range(len(df.columns))\n",
    "df"
   ]
  },
  {
   "cell_type": "code",
   "execution_count": 46,
   "id": "47ba5f2d",
   "metadata": {},
   "outputs": [
    {
     "data": {
      "text/plain": [
       "0     9\n",
       "1    64\n",
       "2    93\n",
       "3    73\n",
       "Name: 0, dtype: int32"
      ]
     },
     "execution_count": 46,
     "metadata": {},
     "output_type": "execute_result"
    }
   ],
   "source": [
    "df[0]"
   ]
  },
  {
   "cell_type": "code",
   "execution_count": 47,
   "id": "aa32e45a",
   "metadata": {},
   "outputs": [
    {
     "data": {
      "text/plain": [
       "0    100\n",
       "1     28\n",
       "2     29\n",
       "3      0\n",
       "Name: 1, dtype: int32"
      ]
     },
     "execution_count": 47,
     "metadata": {},
     "output_type": "execute_result"
    }
   ],
   "source": [
    "df[1]"
   ]
  },
  {
   "cell_type": "markdown",
   "id": "cd451dcd",
   "metadata": {},
   "source": [
    "### 二維list與pd.DataFrame()使用`[][]`取值\n",
    "##### list => 先row後column\n",
    "##### pd.DataFrame() => 先column後row，同excel取值方式\n",
    "\n",
    "### pd.DataFrame()使用loc[row,col]與iloc[row,col]\n",
    "##### loc, iloc => 先row後column"
   ]
  },
  {
   "cell_type": "code",
   "execution_count": 51,
   "id": "f4482510",
   "metadata": {},
   "outputs": [
    {
     "data": {
      "text/plain": [
       "29"
      ]
     },
     "execution_count": 51,
     "metadata": {},
     "output_type": "execute_result"
    }
   ],
   "source": [
    "df[1][2]"
   ]
  },
  {
   "cell_type": "code",
   "execution_count": 52,
   "id": "a8712a5d",
   "metadata": {},
   "outputs": [
    {
     "data": {
      "text/html": [
       "<div>\n",
       "<style scoped>\n",
       "    .dataframe tbody tr th:only-of-type {\n",
       "        vertical-align: middle;\n",
       "    }\n",
       "\n",
       "    .dataframe tbody tr th {\n",
       "        vertical-align: top;\n",
       "    }\n",
       "\n",
       "    .dataframe thead th {\n",
       "        text-align: right;\n",
       "    }\n",
       "</style>\n",
       "<table border=\"1\" class=\"dataframe\">\n",
       "  <thead>\n",
       "    <tr style=\"text-align: right;\">\n",
       "      <th></th>\n",
       "      <th>0</th>\n",
       "      <th>1</th>\n",
       "      <th>2</th>\n",
       "    </tr>\n",
       "  </thead>\n",
       "  <tbody>\n",
       "    <tr>\n",
       "      <th>0</th>\n",
       "      <td>9</td>\n",
       "      <td>100</td>\n",
       "      <td>15</td>\n",
       "    </tr>\n",
       "    <tr>\n",
       "      <th>1</th>\n",
       "      <td>64</td>\n",
       "      <td>28</td>\n",
       "      <td>89</td>\n",
       "    </tr>\n",
       "    <tr>\n",
       "      <th>2</th>\n",
       "      <td>93</td>\n",
       "      <td>29</td>\n",
       "      <td>8</td>\n",
       "    </tr>\n",
       "    <tr>\n",
       "      <th>3</th>\n",
       "      <td>73</td>\n",
       "      <td>0</td>\n",
       "      <td>40</td>\n",
       "    </tr>\n",
       "  </tbody>\n",
       "</table>\n",
       "</div>"
      ],
      "text/plain": [
       "    0    1   2\n",
       "0   9  100  15\n",
       "1  64   28  89\n",
       "2  93   29   8\n",
       "3  73    0  40"
      ]
     },
     "execution_count": 52,
     "metadata": {},
     "output_type": "execute_result"
    }
   ],
   "source": [
    "import pandas as pd\n",
    "import numpy as np\n",
    "\n",
    "np.random.seed(10)\n",
    "df = pd.DataFrame(np.random.randint(101, size = (4,3)))\n",
    "df"
   ]
  },
  {
   "cell_type": "code",
   "execution_count": 54,
   "id": "4863981c",
   "metadata": {},
   "outputs": [
    {
     "data": {
      "text/plain": [
       "0      9\n",
       "1    100\n",
       "2     15\n",
       "Name: 0, dtype: int32"
      ]
     },
     "execution_count": 54,
     "metadata": {},
     "output_type": "execute_result"
    }
   ],
   "source": [
    "# 取row要用loc\n",
    "df.loc[0]"
   ]
  },
  {
   "cell_type": "code",
   "execution_count": 55,
   "id": "06dc87aa",
   "metadata": {},
   "outputs": [
    {
     "data": {
      "text/plain": [
       "0     9\n",
       "1    64\n",
       "2    93\n",
       "3    73\n",
       "Name: 0, dtype: int32"
      ]
     },
     "execution_count": 55,
     "metadata": {},
     "output_type": "execute_result"
    }
   ],
   "source": [
    "df[0]"
   ]
  },
  {
   "cell_type": "code",
   "execution_count": 56,
   "id": "0fe13452",
   "metadata": {},
   "outputs": [
    {
     "data": {
      "text/html": [
       "<div>\n",
       "<style scoped>\n",
       "    .dataframe tbody tr th:only-of-type {\n",
       "        vertical-align: middle;\n",
       "    }\n",
       "\n",
       "    .dataframe tbody tr th {\n",
       "        vertical-align: top;\n",
       "    }\n",
       "\n",
       "    .dataframe thead th {\n",
       "        text-align: right;\n",
       "    }\n",
       "</style>\n",
       "<table border=\"1\" class=\"dataframe\">\n",
       "  <thead>\n",
       "    <tr style=\"text-align: right;\">\n",
       "      <th></th>\n",
       "      <th>0</th>\n",
       "      <th>1</th>\n",
       "      <th>2</th>\n",
       "    </tr>\n",
       "  </thead>\n",
       "  <tbody>\n",
       "    <tr>\n",
       "      <th>0</th>\n",
       "      <td>9</td>\n",
       "      <td>100</td>\n",
       "      <td>15</td>\n",
       "    </tr>\n",
       "    <tr>\n",
       "      <th>3</th>\n",
       "      <td>73</td>\n",
       "      <td>0</td>\n",
       "      <td>40</td>\n",
       "    </tr>\n",
       "  </tbody>\n",
       "</table>\n",
       "</div>"
      ],
      "text/plain": [
       "    0    1   2\n",
       "0   9  100  15\n",
       "3  73    0  40"
      ]
     },
     "execution_count": 56,
     "metadata": {},
     "output_type": "execute_result"
    }
   ],
   "source": [
    "# 不連續取值，要帶[]\n",
    "df.loc[[0,3]]"
   ]
  },
  {
   "cell_type": "code",
   "execution_count": 57,
   "id": "61d70211",
   "metadata": {},
   "outputs": [
    {
     "data": {
      "text/plain": [
       "0      9\n",
       "1    100\n",
       "2     15\n",
       "Name: 0, dtype: int32"
      ]
     },
     "execution_count": 57,
     "metadata": {},
     "output_type": "execute_result"
    }
   ],
   "source": [
    "df.iloc[0]"
   ]
  },
  {
   "cell_type": "code",
   "execution_count": 60,
   "id": "3f6daf30",
   "metadata": {},
   "outputs": [
    {
     "data": {
      "text/plain": [
       "64"
      ]
     },
     "execution_count": 60,
     "metadata": {},
     "output_type": "execute_result"
    }
   ],
   "source": [
    "df.loc[1,0]"
   ]
  },
  {
   "cell_type": "code",
   "execution_count": 63,
   "id": "321cc57d",
   "metadata": {},
   "outputs": [
    {
     "data": {
      "text/plain": [
       "1    28\n",
       "2    29\n",
       "Name: 1, dtype: int32"
      ]
     },
     "execution_count": 63,
     "metadata": {},
     "output_type": "execute_result"
    }
   ],
   "source": [
    "# 如果要取28,29\n",
    "df.loc[1:2,1]"
   ]
  },
  {
   "cell_type": "code",
   "execution_count": 65,
   "id": "4aec621c",
   "metadata": {},
   "outputs": [
    {
     "data": {
      "text/plain": [
       "1    28\n",
       "2    29\n",
       "Name: 1, dtype: int32"
      ]
     },
     "execution_count": 65,
     "metadata": {},
     "output_type": "execute_result"
    }
   ],
   "source": [
    "df.iloc[1:3,1]"
   ]
  },
  {
   "cell_type": "code",
   "execution_count": 66,
   "id": "53dcbb4d",
   "metadata": {},
   "outputs": [
    {
     "data": {
      "text/html": [
       "<div>\n",
       "<style scoped>\n",
       "    .dataframe tbody tr th:only-of-type {\n",
       "        vertical-align: middle;\n",
       "    }\n",
       "\n",
       "    .dataframe tbody tr th {\n",
       "        vertical-align: top;\n",
       "    }\n",
       "\n",
       "    .dataframe thead th {\n",
       "        text-align: right;\n",
       "    }\n",
       "</style>\n",
       "<table border=\"1\" class=\"dataframe\">\n",
       "  <thead>\n",
       "    <tr style=\"text-align: right;\">\n",
       "      <th></th>\n",
       "      <th>0</th>\n",
       "      <th>1</th>\n",
       "      <th>2</th>\n",
       "    </tr>\n",
       "  </thead>\n",
       "  <tbody>\n",
       "    <tr>\n",
       "      <th>0</th>\n",
       "      <td>9</td>\n",
       "      <td>100</td>\n",
       "      <td>15</td>\n",
       "    </tr>\n",
       "    <tr>\n",
       "      <th>1</th>\n",
       "      <td>64</td>\n",
       "      <td>28</td>\n",
       "      <td>89</td>\n",
       "    </tr>\n",
       "    <tr>\n",
       "      <th>2</th>\n",
       "      <td>93</td>\n",
       "      <td>29</td>\n",
       "      <td>8</td>\n",
       "    </tr>\n",
       "    <tr>\n",
       "      <th>3</th>\n",
       "      <td>73</td>\n",
       "      <td>0</td>\n",
       "      <td>40</td>\n",
       "    </tr>\n",
       "  </tbody>\n",
       "</table>\n",
       "</div>"
      ],
      "text/plain": [
       "    0    1   2\n",
       "0   9  100  15\n",
       "1  64   28  89\n",
       "2  93   29   8\n",
       "3  73    0  40"
      ]
     },
     "execution_count": 66,
     "metadata": {},
     "output_type": "execute_result"
    }
   ],
   "source": [
    "import pandas as pd\n",
    "import numpy as np\n",
    "\n",
    "np.random.seed(10)\n",
    "df = pd.DataFrame(np.random.randint(101, size = (4,3)))\n",
    "df"
   ]
  },
  {
   "cell_type": "code",
   "execution_count": 75,
   "id": "34c8a90c",
   "metadata": {},
   "outputs": [
    {
     "name": "stdout",
     "output_type": "stream",
     "text": [
      "max:\n",
      "  100\n",
      "min:\n",
      "  0\n",
      "column max:\n",
      "  0     93\n",
      "1    100\n",
      "2     89\n",
      "dtype: int32\n",
      "column min:\n",
      "  0    9\n",
      "1    0\n",
      "2    8\n",
      "dtype: int32\n",
      "column idxmax:\n",
      "  0    2\n",
      "1    0\n",
      "2    1\n",
      "dtype: int64\n",
      "column idxmin:\n",
      "  0    0\n",
      "1    3\n",
      "2    2\n",
      "dtype: int64\n",
      "row max:\n",
      "  0    100\n",
      "1     89\n",
      "2     93\n",
      "3     73\n",
      "dtype: int32\n",
      "row min:\n",
      "  0     9\n",
      "1    28\n",
      "2     8\n",
      "3     0\n",
      "dtype: int32\n"
     ]
    }
   ],
   "source": [
    "print('max:\\n ',df.max(axis = None)) # axis = None: 不指定row與col，全部資料\n",
    "print('min:\\n ',df.min(axis = None))# axis = None: 不指定row與col，全部資料\n",
    "\n",
    "print('column max:\\n ',df.max()) # axis = 0: 指定col資料\n",
    "print('column min:\\n ',df.min()) # axis = 0: 指定col資料\n",
    "\n",
    "print('column idxmax:\\n ',df.idxmax()) # axis = 0: 指定col資料\n",
    "print('column idxmin:\\n ',df.idxmin()) # axis = 0: 指定col資料\n",
    "\n",
    "print('row max:\\n ',df.max(axis = 1)) # axis = 1: 指定row資料\n",
    "print('row min:\\n ',df.min(axis = 1)) # axis = 1: 指定row資料"
   ]
  },
  {
   "cell_type": "code",
   "execution_count": 86,
   "id": "d34d8b75",
   "metadata": {},
   "outputs": [
    {
     "name": "stdout",
     "output_type": "stream",
     "text": [
      "std:  0    35.938605\n",
      "1    42.672200\n",
      "2    36.669697\n",
      "dtype: float64\n",
      "std:  0    50.895317\n",
      "1    30.664855\n",
      "2    44.275652\n",
      "3    36.555893\n",
      "dtype: float64\n",
      "sum:  0    239\n",
      "1    157\n",
      "2    152\n",
      "dtype: int64\n",
      "sum:  0    124\n",
      "1    181\n",
      "2    130\n",
      "3    113\n",
      "dtype: int64\n",
      "var:  0    1291.583333\n",
      "1    1820.916667\n",
      "2    1344.666667\n",
      "dtype: float64\n",
      "var:  0    2590.333333\n",
      "1     940.333333\n",
      "2    1960.333333\n",
      "3    1336.333333\n",
      "dtype: float64\n",
      "mean:  0    59.75\n",
      "1    39.25\n",
      "2    38.00\n",
      "dtype: float64\n",
      "mean:  0    41.333333\n",
      "1    60.333333\n",
      "2    43.333333\n",
      "3    37.666667\n",
      "dtype: float64\n",
      "count:  0    4\n",
      "1    4\n",
      "2    4\n",
      "dtype: int64\n",
      "count:  0    3\n",
      "1    3\n",
      "2    3\n",
      "3    3\n",
      "dtype: int64\n",
      "col value_counts:  0   1    2 \n",
      "9   100  15    1\n",
      "64  28   89    1\n",
      "73  0    40    1\n",
      "93  29   8     1\n",
      "Name: count, dtype: int64\n",
      "row value_counts:  0    1   2   3 \n",
      "9    64  93  73    1\n",
      "15   89  8   40    1\n",
      "100  28  29  0     1\n",
      "Name: count, dtype: int64\n"
     ]
    }
   ],
   "source": [
    "print('std: ',df.std())\n",
    "print('std: ',df.std(axis = 1)) #以row為主的標準差\n",
    "print('sum: ',df.sum())\n",
    "print('sum: ',df.sum(axis = 1))\n",
    "\n",
    "print('var: ',df.var())\n",
    "print('var: ',df.var(axis = 1))\n",
    "print('mean: ',df.mean())\n",
    "print('mean: ',df.mean(axis = 1))\n",
    "\n",
    "print('count: ',df.count())\n",
    "print('count: ',df.count(axis = 1))\n",
    "\n",
    "print('col value_counts: ',df.value_counts()) # 沒有axis = 1\n",
    "print('row value_counts: ',df.T.value_counts()) # 轉置"
   ]
  },
  {
   "cell_type": "markdown",
   "id": "86c619e6",
   "metadata": {},
   "source": [
    "DataFrame相加需考慮idx跟col"
   ]
  },
  {
   "cell_type": "code",
   "execution_count": 92,
   "id": "e87800ab",
   "metadata": {},
   "outputs": [
    {
     "data": {
      "text/html": [
       "<div>\n",
       "<style scoped>\n",
       "    .dataframe tbody tr th:only-of-type {\n",
       "        vertical-align: middle;\n",
       "    }\n",
       "\n",
       "    .dataframe tbody tr th {\n",
       "        vertical-align: top;\n",
       "    }\n",
       "\n",
       "    .dataframe thead th {\n",
       "        text-align: right;\n",
       "    }\n",
       "</style>\n",
       "<table border=\"1\" class=\"dataframe\">\n",
       "  <thead>\n",
       "    <tr style=\"text-align: right;\">\n",
       "      <th></th>\n",
       "      <th>0</th>\n",
       "      <th>1</th>\n",
       "      <th>2</th>\n",
       "    </tr>\n",
       "  </thead>\n",
       "  <tbody>\n",
       "    <tr>\n",
       "      <th>1</th>\n",
       "      <td>NaN</td>\n",
       "      <td>NaN</td>\n",
       "      <td>NaN</td>\n",
       "    </tr>\n",
       "    <tr>\n",
       "      <th>2</th>\n",
       "      <td>NaN</td>\n",
       "      <td>NaN</td>\n",
       "      <td>NaN</td>\n",
       "    </tr>\n",
       "    <tr>\n",
       "      <th>3</th>\n",
       "      <td>75.0</td>\n",
       "      <td>82.0</td>\n",
       "      <td>177.0</td>\n",
       "    </tr>\n",
       "    <tr>\n",
       "      <th>4</th>\n",
       "      <td>NaN</td>\n",
       "      <td>NaN</td>\n",
       "      <td>NaN</td>\n",
       "    </tr>\n",
       "    <tr>\n",
       "      <th>5</th>\n",
       "      <td>NaN</td>\n",
       "      <td>NaN</td>\n",
       "      <td>NaN</td>\n",
       "    </tr>\n",
       "    <tr>\n",
       "      <th>6</th>\n",
       "      <td>NaN</td>\n",
       "      <td>NaN</td>\n",
       "      <td>NaN</td>\n",
       "    </tr>\n",
       "    <tr>\n",
       "      <th>7</th>\n",
       "      <td>NaN</td>\n",
       "      <td>NaN</td>\n",
       "      <td>NaN</td>\n",
       "    </tr>\n",
       "  </tbody>\n",
       "</table>\n",
       "</div>"
      ],
      "text/plain": [
       "      0     1      2\n",
       "1   NaN   NaN    NaN\n",
       "2   NaN   NaN    NaN\n",
       "3  75.0  82.0  177.0\n",
       "4   NaN   NaN    NaN\n",
       "5   NaN   NaN    NaN\n",
       "6   NaN   NaN    NaN\n",
       "7   NaN   NaN    NaN"
      ]
     },
     "execution_count": 92,
     "metadata": {},
     "output_type": "execute_result"
    }
   ],
   "source": [
    "import pandas as pd\n",
    "import numpy as np\n",
    "\n",
    "np.random.seed(10)\n",
    "df1 = pd.DataFrame(np.random.randint(101, size = (4,3)),index = list('1357'))\n",
    "df2 = pd.DataFrame(np.random.randint(101, size = (4,3)),index = list('2346'))\n",
    "\n",
    "# df相加 相同的idx才能運算\n",
    "df1 + df2"
   ]
  },
  {
   "cell_type": "code",
   "execution_count": 93,
   "id": "68cfd74b",
   "metadata": {},
   "outputs": [
    {
     "data": {
      "text/html": [
       "<div>\n",
       "<style scoped>\n",
       "    .dataframe tbody tr th:only-of-type {\n",
       "        vertical-align: middle;\n",
       "    }\n",
       "\n",
       "    .dataframe tbody tr th {\n",
       "        vertical-align: top;\n",
       "    }\n",
       "\n",
       "    .dataframe thead th {\n",
       "        text-align: right;\n",
       "    }\n",
       "</style>\n",
       "<table border=\"1\" class=\"dataframe\">\n",
       "  <thead>\n",
       "    <tr style=\"text-align: right;\">\n",
       "      <th></th>\n",
       "      <th>0</th>\n",
       "      <th>1</th>\n",
       "      <th>3</th>\n",
       "      <th>5</th>\n",
       "      <th>7</th>\n",
       "    </tr>\n",
       "  </thead>\n",
       "  <tbody>\n",
       "    <tr>\n",
       "      <th>0</th>\n",
       "      <td>NaN</td>\n",
       "      <td>NaN</td>\n",
       "      <td>116</td>\n",
       "      <td>NaN</td>\n",
       "      <td>NaN</td>\n",
       "    </tr>\n",
       "    <tr>\n",
       "      <th>1</th>\n",
       "      <td>NaN</td>\n",
       "      <td>NaN</td>\n",
       "      <td>82</td>\n",
       "      <td>NaN</td>\n",
       "      <td>NaN</td>\n",
       "    </tr>\n",
       "    <tr>\n",
       "      <th>2</th>\n",
       "      <td>NaN</td>\n",
       "      <td>NaN</td>\n",
       "      <td>62</td>\n",
       "      <td>NaN</td>\n",
       "      <td>NaN</td>\n",
       "    </tr>\n",
       "    <tr>\n",
       "      <th>3</th>\n",
       "      <td>NaN</td>\n",
       "      <td>NaN</td>\n",
       "      <td>78</td>\n",
       "      <td>NaN</td>\n",
       "      <td>NaN</td>\n",
       "    </tr>\n",
       "  </tbody>\n",
       "</table>\n",
       "</div>"
      ],
      "text/plain": [
       "    0   1    3   5   7\n",
       "0 NaN NaN  116 NaN NaN\n",
       "1 NaN NaN   82 NaN NaN\n",
       "2 NaN NaN   62 NaN NaN\n",
       "3 NaN NaN   78 NaN NaN"
      ]
     },
     "execution_count": 93,
     "metadata": {},
     "output_type": "execute_result"
    }
   ],
   "source": [
    "import pandas as pd\n",
    "import numpy as np\n",
    "\n",
    "np.random.seed(10)\n",
    "df1 = pd.DataFrame(np.random.randint(101, size = (4,3)),columns = list('135'))\n",
    "df2 = pd.DataFrame(np.random.randint(101, size = (4,3)),columns = list('037'))\n",
    "\n",
    "# df相加 相同的col才能運算\n",
    "df1 + df2"
   ]
  },
  {
   "cell_type": "code",
   "execution_count": 94,
   "id": "a71582d8",
   "metadata": {},
   "outputs": [
    {
     "data": {
      "text/html": [
       "<div>\n",
       "<style scoped>\n",
       "    .dataframe tbody tr th:only-of-type {\n",
       "        vertical-align: middle;\n",
       "    }\n",
       "\n",
       "    .dataframe tbody tr th {\n",
       "        vertical-align: top;\n",
       "    }\n",
       "\n",
       "    .dataframe thead th {\n",
       "        text-align: right;\n",
       "    }\n",
       "</style>\n",
       "<table border=\"1\" class=\"dataframe\">\n",
       "  <thead>\n",
       "    <tr style=\"text-align: right;\">\n",
       "      <th></th>\n",
       "      <th>0</th>\n",
       "      <th>1</th>\n",
       "      <th>3</th>\n",
       "      <th>5</th>\n",
       "      <th>7</th>\n",
       "    </tr>\n",
       "  </thead>\n",
       "  <tbody>\n",
       "    <tr>\n",
       "      <th>0</th>\n",
       "      <td>36.0</td>\n",
       "      <td>9.0</td>\n",
       "      <td>116</td>\n",
       "      <td>15.0</td>\n",
       "      <td>100.0</td>\n",
       "    </tr>\n",
       "    <tr>\n",
       "      <th>1</th>\n",
       "      <td>11.0</td>\n",
       "      <td>64.0</td>\n",
       "      <td>82</td>\n",
       "      <td>89.0</td>\n",
       "      <td>88.0</td>\n",
       "    </tr>\n",
       "    <tr>\n",
       "      <th>2</th>\n",
       "      <td>62.0</td>\n",
       "      <td>93.0</td>\n",
       "      <td>62</td>\n",
       "      <td>8.0</td>\n",
       "      <td>72.0</td>\n",
       "    </tr>\n",
       "    <tr>\n",
       "      <th>3</th>\n",
       "      <td>100.0</td>\n",
       "      <td>73.0</td>\n",
       "      <td>78</td>\n",
       "      <td>40.0</td>\n",
       "      <td>49.0</td>\n",
       "    </tr>\n",
       "  </tbody>\n",
       "</table>\n",
       "</div>"
      ],
      "text/plain": [
       "       0     1    3     5      7\n",
       "0   36.0   9.0  116  15.0  100.0\n",
       "1   11.0  64.0   82  89.0   88.0\n",
       "2   62.0  93.0   62   8.0   72.0\n",
       "3  100.0  73.0   78  40.0   49.0"
      ]
     },
     "execution_count": 94,
     "metadata": {},
     "output_type": "execute_result"
    }
   ],
   "source": [
    "import pandas as pd\n",
    "import numpy as np\n",
    "\n",
    "np.random.seed(10)\n",
    "df1 = pd.DataFrame(np.random.randint(101, size = (4,3)),columns = list('135'))\n",
    "df2 = pd.DataFrame(np.random.randint(101, size = (4,3)),columns = list('037'))\n",
    "\n",
    "# fill_value\n",
    "df1.add(df2, fill_value = 0)"
   ]
  },
  {
   "cell_type": "code",
   "execution_count": 97,
   "id": "45f72c96",
   "metadata": {},
   "outputs": [
    {
     "data": {
      "text/html": [
       "<div>\n",
       "<style scoped>\n",
       "    .dataframe tbody tr th:only-of-type {\n",
       "        vertical-align: middle;\n",
       "    }\n",
       "\n",
       "    .dataframe tbody tr th {\n",
       "        vertical-align: top;\n",
       "    }\n",
       "\n",
       "    .dataframe thead th {\n",
       "        text-align: right;\n",
       "    }\n",
       "</style>\n",
       "<table border=\"1\" class=\"dataframe\">\n",
       "  <thead>\n",
       "    <tr style=\"text-align: right;\">\n",
       "      <th></th>\n",
       "      <th>0</th>\n",
       "      <th>1</th>\n",
       "      <th>2</th>\n",
       "    </tr>\n",
       "  </thead>\n",
       "  <tbody>\n",
       "    <tr>\n",
       "      <th>0</th>\n",
       "      <td>9</td>\n",
       "      <td>100</td>\n",
       "      <td>15</td>\n",
       "    </tr>\n",
       "    <tr>\n",
       "      <th>1</th>\n",
       "      <td>64</td>\n",
       "      <td>28</td>\n",
       "      <td>89</td>\n",
       "    </tr>\n",
       "    <tr>\n",
       "      <th>2</th>\n",
       "      <td>93</td>\n",
       "      <td>29</td>\n",
       "      <td>8</td>\n",
       "    </tr>\n",
       "    <tr>\n",
       "      <th>3</th>\n",
       "      <td>73</td>\n",
       "      <td>0</td>\n",
       "      <td>40</td>\n",
       "    </tr>\n",
       "    <tr>\n",
       "      <th>0</th>\n",
       "      <td>36</td>\n",
       "      <td>16</td>\n",
       "      <td>100</td>\n",
       "    </tr>\n",
       "    <tr>\n",
       "      <th>1</th>\n",
       "      <td>11</td>\n",
       "      <td>54</td>\n",
       "      <td>88</td>\n",
       "    </tr>\n",
       "    <tr>\n",
       "      <th>2</th>\n",
       "      <td>62</td>\n",
       "      <td>33</td>\n",
       "      <td>72</td>\n",
       "    </tr>\n",
       "    <tr>\n",
       "      <th>3</th>\n",
       "      <td>100</td>\n",
       "      <td>78</td>\n",
       "      <td>49</td>\n",
       "    </tr>\n",
       "  </tbody>\n",
       "</table>\n",
       "</div>"
      ],
      "text/plain": [
       "     0    1    2\n",
       "0    9  100   15\n",
       "1   64   28   89\n",
       "2   93   29    8\n",
       "3   73    0   40\n",
       "0   36   16  100\n",
       "1   11   54   88\n",
       "2   62   33   72\n",
       "3  100   78   49"
      ]
     },
     "execution_count": 97,
     "metadata": {},
     "output_type": "execute_result"
    }
   ],
   "source": [
    "#兩個df要合併，要使用pd.concat()\n",
    "import pandas as pd\n",
    "import numpy as np\n",
    "\n",
    "np.random.seed(10)\n",
    "df1 = pd.DataFrame(np.random.randint(101, size = (4,3)))\n",
    "df2 = pd.DataFrame(np.random.randint(101, size = (4,3)))\n",
    "# 垂直合併\n",
    "df = pd.concat([df1, df2])\n",
    "df\n",
    "#>>>idx重複了?"
   ]
  },
  {
   "cell_type": "code",
   "execution_count": 99,
   "id": "c84f85ad",
   "metadata": {},
   "outputs": [
    {
     "data": {
      "text/html": [
       "<div>\n",
       "<style scoped>\n",
       "    .dataframe tbody tr th:only-of-type {\n",
       "        vertical-align: middle;\n",
       "    }\n",
       "\n",
       "    .dataframe tbody tr th {\n",
       "        vertical-align: top;\n",
       "    }\n",
       "\n",
       "    .dataframe thead th {\n",
       "        text-align: right;\n",
       "    }\n",
       "</style>\n",
       "<table border=\"1\" class=\"dataframe\">\n",
       "  <thead>\n",
       "    <tr style=\"text-align: right;\">\n",
       "      <th></th>\n",
       "      <th>0</th>\n",
       "      <th>1</th>\n",
       "      <th>2</th>\n",
       "    </tr>\n",
       "  </thead>\n",
       "  <tbody>\n",
       "    <tr>\n",
       "      <th>0</th>\n",
       "      <td>9</td>\n",
       "      <td>100</td>\n",
       "      <td>15</td>\n",
       "    </tr>\n",
       "    <tr>\n",
       "      <th>1</th>\n",
       "      <td>64</td>\n",
       "      <td>28</td>\n",
       "      <td>89</td>\n",
       "    </tr>\n",
       "    <tr>\n",
       "      <th>2</th>\n",
       "      <td>93</td>\n",
       "      <td>29</td>\n",
       "      <td>8</td>\n",
       "    </tr>\n",
       "    <tr>\n",
       "      <th>3</th>\n",
       "      <td>73</td>\n",
       "      <td>0</td>\n",
       "      <td>40</td>\n",
       "    </tr>\n",
       "    <tr>\n",
       "      <th>4</th>\n",
       "      <td>36</td>\n",
       "      <td>16</td>\n",
       "      <td>100</td>\n",
       "    </tr>\n",
       "    <tr>\n",
       "      <th>5</th>\n",
       "      <td>11</td>\n",
       "      <td>54</td>\n",
       "      <td>88</td>\n",
       "    </tr>\n",
       "    <tr>\n",
       "      <th>6</th>\n",
       "      <td>62</td>\n",
       "      <td>33</td>\n",
       "      <td>72</td>\n",
       "    </tr>\n",
       "    <tr>\n",
       "      <th>7</th>\n",
       "      <td>100</td>\n",
       "      <td>78</td>\n",
       "      <td>49</td>\n",
       "    </tr>\n",
       "  </tbody>\n",
       "</table>\n",
       "</div>"
      ],
      "text/plain": [
       "     0    1    2\n",
       "0    9  100   15\n",
       "1   64   28   89\n",
       "2   93   29    8\n",
       "3   73    0   40\n",
       "4   36   16  100\n",
       "5   11   54   88\n",
       "6   62   33   72\n",
       "7  100   78   49"
      ]
     },
     "execution_count": 99,
     "metadata": {},
     "output_type": "execute_result"
    }
   ],
   "source": [
    "np.random.seed(10)\n",
    "df1 = pd.DataFrame(np.random.randint(101, size = (4,3)))\n",
    "df2 = pd.DataFrame(np.random.randint(101, size = (4,3)))\n",
    "# ignore_index\n",
    "df = pd.concat([df1, df2],ignore_index = True)\n",
    "df"
   ]
  },
  {
   "cell_type": "code",
   "execution_count": 101,
   "id": "3976412a",
   "metadata": {},
   "outputs": [
    {
     "data": {
      "text/html": [
       "<div>\n",
       "<style scoped>\n",
       "    .dataframe tbody tr th:only-of-type {\n",
       "        vertical-align: middle;\n",
       "    }\n",
       "\n",
       "    .dataframe tbody tr th {\n",
       "        vertical-align: top;\n",
       "    }\n",
       "\n",
       "    .dataframe thead th {\n",
       "        text-align: right;\n",
       "    }\n",
       "</style>\n",
       "<table border=\"1\" class=\"dataframe\">\n",
       "  <thead>\n",
       "    <tr style=\"text-align: right;\">\n",
       "      <th></th>\n",
       "      <th>0</th>\n",
       "      <th>1</th>\n",
       "      <th>2</th>\n",
       "      <th>0</th>\n",
       "      <th>1</th>\n",
       "      <th>2</th>\n",
       "    </tr>\n",
       "  </thead>\n",
       "  <tbody>\n",
       "    <tr>\n",
       "      <th>0</th>\n",
       "      <td>9</td>\n",
       "      <td>100</td>\n",
       "      <td>15</td>\n",
       "      <td>36</td>\n",
       "      <td>16</td>\n",
       "      <td>100</td>\n",
       "    </tr>\n",
       "    <tr>\n",
       "      <th>1</th>\n",
       "      <td>64</td>\n",
       "      <td>28</td>\n",
       "      <td>89</td>\n",
       "      <td>11</td>\n",
       "      <td>54</td>\n",
       "      <td>88</td>\n",
       "    </tr>\n",
       "    <tr>\n",
       "      <th>2</th>\n",
       "      <td>93</td>\n",
       "      <td>29</td>\n",
       "      <td>8</td>\n",
       "      <td>62</td>\n",
       "      <td>33</td>\n",
       "      <td>72</td>\n",
       "    </tr>\n",
       "    <tr>\n",
       "      <th>3</th>\n",
       "      <td>73</td>\n",
       "      <td>0</td>\n",
       "      <td>40</td>\n",
       "      <td>100</td>\n",
       "      <td>78</td>\n",
       "      <td>49</td>\n",
       "    </tr>\n",
       "  </tbody>\n",
       "</table>\n",
       "</div>"
      ],
      "text/plain": [
       "    0    1   2    0   1    2\n",
       "0   9  100  15   36  16  100\n",
       "1  64   28  89   11  54   88\n",
       "2  93   29   8   62  33   72\n",
       "3  73    0  40  100  78   49"
      ]
     },
     "execution_count": 101,
     "metadata": {},
     "output_type": "execute_result"
    }
   ],
   "source": [
    "np.random.seed(10)\n",
    "df1 = pd.DataFrame(np.random.randint(101, size = (4,3)))\n",
    "df2 = pd.DataFrame(np.random.randint(101, size = (4,3)))\n",
    "# 垂直合併\n",
    "df = pd.concat([df1, df2],axis = 1)\n",
    "df\n",
    "#>>>col重複了?"
   ]
  },
  {
   "cell_type": "code",
   "execution_count": 103,
   "id": "26631040",
   "metadata": {},
   "outputs": [
    {
     "data": {
      "text/html": [
       "<div>\n",
       "<style scoped>\n",
       "    .dataframe tbody tr th:only-of-type {\n",
       "        vertical-align: middle;\n",
       "    }\n",
       "\n",
       "    .dataframe tbody tr th {\n",
       "        vertical-align: top;\n",
       "    }\n",
       "\n",
       "    .dataframe thead th {\n",
       "        text-align: right;\n",
       "    }\n",
       "</style>\n",
       "<table border=\"1\" class=\"dataframe\">\n",
       "  <thead>\n",
       "    <tr style=\"text-align: right;\">\n",
       "      <th></th>\n",
       "      <th>0</th>\n",
       "      <th>1</th>\n",
       "      <th>2</th>\n",
       "      <th>3</th>\n",
       "      <th>4</th>\n",
       "      <th>5</th>\n",
       "    </tr>\n",
       "  </thead>\n",
       "  <tbody>\n",
       "    <tr>\n",
       "      <th>0</th>\n",
       "      <td>9</td>\n",
       "      <td>100</td>\n",
       "      <td>15</td>\n",
       "      <td>36</td>\n",
       "      <td>16</td>\n",
       "      <td>100</td>\n",
       "    </tr>\n",
       "    <tr>\n",
       "      <th>1</th>\n",
       "      <td>64</td>\n",
       "      <td>28</td>\n",
       "      <td>89</td>\n",
       "      <td>11</td>\n",
       "      <td>54</td>\n",
       "      <td>88</td>\n",
       "    </tr>\n",
       "    <tr>\n",
       "      <th>2</th>\n",
       "      <td>93</td>\n",
       "      <td>29</td>\n",
       "      <td>8</td>\n",
       "      <td>62</td>\n",
       "      <td>33</td>\n",
       "      <td>72</td>\n",
       "    </tr>\n",
       "    <tr>\n",
       "      <th>3</th>\n",
       "      <td>73</td>\n",
       "      <td>0</td>\n",
       "      <td>40</td>\n",
       "      <td>100</td>\n",
       "      <td>78</td>\n",
       "      <td>49</td>\n",
       "    </tr>\n",
       "  </tbody>\n",
       "</table>\n",
       "</div>"
      ],
      "text/plain": [
       "    0    1   2    3   4    5\n",
       "0   9  100  15   36  16  100\n",
       "1  64   28  89   11  54   88\n",
       "2  93   29   8   62  33   72\n",
       "3  73    0  40  100  78   49"
      ]
     },
     "execution_count": 103,
     "metadata": {},
     "output_type": "execute_result"
    }
   ],
   "source": [
    "np.random.seed(10)\n",
    "df1 = pd.DataFrame(np.random.randint(101, size = (4,3)))\n",
    "df2 = pd.DataFrame(np.random.randint(101, size = (4,3)))\n",
    "# ignore_index 沒有ignore_column\n",
    "df = pd.concat([df1, df2],axis = 1, ignore_index = True)\n",
    "df"
   ]
  },
  {
   "cell_type": "code",
   "execution_count": 107,
   "id": "a0b722ae",
   "metadata": {},
   "outputs": [
    {
     "data": {
      "text/html": [
       "<div>\n",
       "<style scoped>\n",
       "    .dataframe tbody tr th:only-of-type {\n",
       "        vertical-align: middle;\n",
       "    }\n",
       "\n",
       "    .dataframe tbody tr th {\n",
       "        vertical-align: top;\n",
       "    }\n",
       "\n",
       "    .dataframe thead th {\n",
       "        text-align: right;\n",
       "    }\n",
       "</style>\n",
       "<table border=\"1\" class=\"dataframe\">\n",
       "  <thead>\n",
       "    <tr style=\"text-align: right;\">\n",
       "      <th></th>\n",
       "      <th>0</th>\n",
       "      <th>1</th>\n",
       "      <th>2</th>\n",
       "    </tr>\n",
       "  </thead>\n",
       "  <tbody>\n",
       "    <tr>\n",
       "      <th>0</th>\n",
       "      <td>9</td>\n",
       "      <td>100</td>\n",
       "      <td>15</td>\n",
       "    </tr>\n",
       "    <tr>\n",
       "      <th>1</th>\n",
       "      <td>64</td>\n",
       "      <td>28</td>\n",
       "      <td>89</td>\n",
       "    </tr>\n",
       "    <tr>\n",
       "      <th>2</th>\n",
       "      <td>93</td>\n",
       "      <td>29</td>\n",
       "      <td>8</td>\n",
       "    </tr>\n",
       "    <tr>\n",
       "      <th>3</th>\n",
       "      <td>73</td>\n",
       "      <td>0</td>\n",
       "      <td>40</td>\n",
       "    </tr>\n",
       "    <tr>\n",
       "      <th>4</th>\n",
       "      <td>36</td>\n",
       "      <td>16</td>\n",
       "      <td>100</td>\n",
       "    </tr>\n",
       "    <tr>\n",
       "      <th>5</th>\n",
       "      <td>11</td>\n",
       "      <td>54</td>\n",
       "      <td>88</td>\n",
       "    </tr>\n",
       "    <tr>\n",
       "      <th>6</th>\n",
       "      <td>62</td>\n",
       "      <td>33</td>\n",
       "      <td>72</td>\n",
       "    </tr>\n",
       "    <tr>\n",
       "      <th>7</th>\n",
       "      <td>100</td>\n",
       "      <td>78</td>\n",
       "      <td>49</td>\n",
       "    </tr>\n",
       "  </tbody>\n",
       "</table>\n",
       "</div>"
      ],
      "text/plain": [
       "     0    1    2\n",
       "0    9  100   15\n",
       "1   64   28   89\n",
       "2   93   29    8\n",
       "3   73    0   40\n",
       "4   36   16  100\n",
       "5   11   54   88\n",
       "6   62   33   72\n",
       "7  100   78   49"
      ]
     },
     "execution_count": 107,
     "metadata": {},
     "output_type": "execute_result"
    }
   ],
   "source": [
    "import pandas as pd\n",
    "import numpy as np\n",
    "\n",
    "np.random.seed(10)\n",
    "df1 = pd.DataFrame(np.random.randint(101, size = (4,3)),index = list('1357'))\n",
    "df2 = pd.DataFrame(np.random.randint(101, size = (4,3)),index = list('2346'))\n",
    "# 垂直合併\n",
    "df = pd.concat([df1, df2],ignore_index = True)\n",
    "df"
   ]
  },
  {
   "cell_type": "code",
   "execution_count": 108,
   "id": "b1288048",
   "metadata": {},
   "outputs": [
    {
     "data": {
      "text/html": [
       "<div>\n",
       "<style scoped>\n",
       "    .dataframe tbody tr th:only-of-type {\n",
       "        vertical-align: middle;\n",
       "    }\n",
       "\n",
       "    .dataframe tbody tr th {\n",
       "        vertical-align: top;\n",
       "    }\n",
       "\n",
       "    .dataframe thead th {\n",
       "        text-align: right;\n",
       "    }\n",
       "</style>\n",
       "<table border=\"1\" class=\"dataframe\">\n",
       "  <thead>\n",
       "    <tr style=\"text-align: right;\">\n",
       "      <th></th>\n",
       "      <th>0</th>\n",
       "      <th>1</th>\n",
       "      <th>2</th>\n",
       "      <th>3</th>\n",
       "      <th>4</th>\n",
       "      <th>5</th>\n",
       "    </tr>\n",
       "  </thead>\n",
       "  <tbody>\n",
       "    <tr>\n",
       "      <th>0</th>\n",
       "      <td>9</td>\n",
       "      <td>100</td>\n",
       "      <td>15</td>\n",
       "      <td>36</td>\n",
       "      <td>16</td>\n",
       "      <td>100</td>\n",
       "    </tr>\n",
       "    <tr>\n",
       "      <th>1</th>\n",
       "      <td>64</td>\n",
       "      <td>28</td>\n",
       "      <td>89</td>\n",
       "      <td>11</td>\n",
       "      <td>54</td>\n",
       "      <td>88</td>\n",
       "    </tr>\n",
       "    <tr>\n",
       "      <th>2</th>\n",
       "      <td>93</td>\n",
       "      <td>29</td>\n",
       "      <td>8</td>\n",
       "      <td>62</td>\n",
       "      <td>33</td>\n",
       "      <td>72</td>\n",
       "    </tr>\n",
       "    <tr>\n",
       "      <th>3</th>\n",
       "      <td>73</td>\n",
       "      <td>0</td>\n",
       "      <td>40</td>\n",
       "      <td>100</td>\n",
       "      <td>78</td>\n",
       "      <td>49</td>\n",
       "    </tr>\n",
       "  </tbody>\n",
       "</table>\n",
       "</div>"
      ],
      "text/plain": [
       "    0    1   2    3   4    5\n",
       "0   9  100  15   36  16  100\n",
       "1  64   28  89   11  54   88\n",
       "2  93   29   8   62  33   72\n",
       "3  73    0  40  100  78   49"
      ]
     },
     "execution_count": 108,
     "metadata": {},
     "output_type": "execute_result"
    }
   ],
   "source": [
    "np.random.seed(10)\n",
    "df1 = pd.DataFrame(np.random.randint(101, size = (4,3)),columns = list('135'))\n",
    "df2 = pd.DataFrame(np.random.randint(101, size = (4,3)),columns = list('037'))\n",
    "df = pd.concat([df1, df2],axis = 1, ignore_index = True)\n",
    "df"
   ]
  },
  {
   "cell_type": "code",
   "execution_count": 1,
   "id": "92b18df1",
   "metadata": {},
   "outputs": [
    {
     "name": "stdout",
     "output_type": "stream",
     "text": [
      "root: C:\\Users\\wendy.c\\Desktop\\python\\資料清單\n",
      "dirs: ['.ipynb_checkpoints']\n",
      "files: ['20230101_20230131.csv', '20230201_20230228.csv', '20230301_20230331.csv', '20230401_20230430.csv', '20230501_20230531.csv', '20230601_20230630.csv', '20230701_20230731.csv', '20230801_20230831.csv', '20230901_20230930.csv', '20231001_20231031.csv', '20231101_20231130.csv', '20231201_20231231.csv']\n"
     ]
    },
    {
     "ename": "NameError",
     "evalue": "name 'pd' is not defined",
     "output_type": "error",
     "traceback": [
      "\u001b[1;31m---------------------------------------------------------------------------\u001b[0m",
      "\u001b[1;31mNameError\u001b[0m                                 Traceback (most recent call last)",
      "Cell \u001b[1;32mIn[1], line 13\u001b[0m\n\u001b[0;32m     11\u001b[0m         \u001b[38;5;28;01mwith\u001b[39;00m \u001b[38;5;28mopen\u001b[39m(\u001b[38;5;124m'\u001b[39m\u001b[38;5;132;01m{}\u001b[39;00m\u001b[38;5;124m\\\u001b[39m\u001b[38;5;132;01m{}\u001b[39;00m\u001b[38;5;124m'\u001b[39m\u001b[38;5;241m.\u001b[39mformat(root,file)) \u001b[38;5;28;01mas\u001b[39;00m f:\n\u001b[0;32m     12\u001b[0m             l \u001b[38;5;241m=\u001b[39m \u001b[38;5;28mlist\u001b[39m(\u001b[38;5;28mmap\u001b[39m(\u001b[38;5;28;01mlambda\u001b[39;00m x:x\u001b[38;5;241m.\u001b[39mreplace(\u001b[38;5;124m'\u001b[39m\u001b[38;5;124m,\u001b[39m\u001b[38;5;130;01m\\n\u001b[39;00m\u001b[38;5;124m'\u001b[39m,\u001b[38;5;124m'\u001b[39m\u001b[38;5;124m'\u001b[39m), f\u001b[38;5;241m.\u001b[39mreadlines()))\n\u001b[1;32m---> 13\u001b[0m         df0 \u001b[38;5;241m=\u001b[39m pd\u001b[38;5;241m.\u001b[39mread_csv(StringIO(\u001b[38;5;124m'\u001b[39m\u001b[38;5;130;01m\\n\u001b[39;00m\u001b[38;5;124m'\u001b[39m\u001b[38;5;241m.\u001b[39mjoin(l), index_col \u001b[38;5;241m=\u001b[39m [\u001b[38;5;124m'\u001b[39m\u001b[38;5;124m日期\u001b[39m\u001b[38;5;124m'\u001b[39m]))\n\u001b[0;32m     14\u001b[0m         data\u001b[38;5;241m.\u001b[39mappend(df0)\n\u001b[0;32m     15\u001b[0m df \u001b[38;5;241m=\u001b[39m pd\u001b[38;5;241m.\u001b[39mconcat(data)\n",
      "\u001b[1;31mNameError\u001b[0m: name 'pd' is not defined"
     ]
    }
   ],
   "source": [
    "import os\n",
    "filepath = r'C:\\Users\\wendy.c\\Desktop\\python\\資料清單'\n",
    "data = []\n",
    "for root, dirs, files in os.walk(filepath):\n",
    "    print('root:', root)\n",
    "    print('dirs:', dirs)\n",
    "    print('files:', files)# 顯示檔案列表\n",
    "    for file in files:\n",
    "        # pd.read_csv(root+'\\'+file) #\\會變成跳脫符號\n",
    "        # pd.read_csv('{}\\{}'.format(root,file)) #字串格式化\n",
    "        with open('{}\\{}'.format(root,file)) as f:\n",
    "            l = list(map(lambda x:x.replace(',\\n',''), f.readlines()))\n",
    "        df0 = pd.read_csv(StringIO('\\n'.join(l), index_col = ['日期']))\n",
    "        data.append(df0)\n",
    "df = pd.concat(data)\n",
    "df"
   ]
  },
  {
   "cell_type": "code",
   "execution_count": 117,
   "id": "4debd537",
   "metadata": {},
   "outputs": [
    {
     "data": {
      "text/plain": [
       "[                日期   賣權成交量   買權成交量  買賣權成交量比率%  賣權未平倉量  買權未平倉量  買賣權未平倉量比率%\n",
       " 2023/01/31  273744  330999   82.70     138214  170220   81.20         NaN\n",
       " 2023/01/30  349525  410532   85.14      89495   87502  102.28         NaN\n",
       " 2023/01/17  142037  147777   96.12     200645  191808  104.61         NaN\n",
       " 2023/01/16  195256  200493   97.39     189684  180133  105.30         NaN\n",
       " 2023/01/13  261440  305050   85.70     176152  175608  100.31         NaN\n",
       " 2023/01/12  147592  164753   89.58     161427  160363  100.66         NaN\n",
       " 2023/01/11  553048  555559   99.55     142750  131979  108.16         NaN\n",
       " 2023/01/10  479056  469606  102.01     301387  227327  132.58         NaN\n",
       " 2023/01/09  596922  484056  123.32     276672  193739  142.81         NaN\n",
       " 2023/01/06  285047  262552  108.57     214223  197219  108.62         NaN\n",
       " 2023/01/05  224444  228660   98.16     172712  184092   93.82         NaN\n",
       " 2023/01/04  563562  559566  100.71     135015  145210   92.98         NaN\n",
       " 2023/01/03  493351  496771   99.31     222208  207378  107.15         NaN,\n",
       "                 日期   賣權成交量   買權成交量  買賣權成交量比率%  賣權未平倉量  買權未平倉量  買賣權未平倉量比率%\n",
       " 2023/02/24  300841  290596  103.53     254702  208935  121.90         NaN\n",
       " 2023/02/23  315061  267524  117.77     234335  181113  129.39         NaN\n",
       " 2023/02/22  501565  517194   96.98     166774  157273  106.04         NaN\n",
       " 2023/02/21  209850  200587  104.62     256113  229380  111.65         NaN\n",
       " 2023/02/20  310725  264939  117.28     241534  214613  112.54         NaN\n",
       " 2023/02/17  269439  285400   94.41     209834  198049  105.95         NaN\n",
       " 2023/02/16  249731  216067  115.58     185223  158674  116.73         NaN\n",
       " 2023/02/15  701234  738813   94.91     126910  126021  100.71         NaN\n",
       " 2023/02/14  296406  264638  112.00     281937  246165  114.53         NaN\n",
       " 2023/02/13  284562  335607   84.79     262026  241530  108.49         NaN\n",
       " 2023/02/10  283253  305030   92.86     241910  207141  116.79         NaN\n",
       " 2023/02/09  184452  179394  102.82     215255  178170  120.81         NaN\n",
       " 2023/02/08  550057  486557  113.05     172508  140816  122.51         NaN\n",
       " 2023/02/07  338851  341292   99.28     245734  232426  105.73         NaN\n",
       " 2023/02/06  290708  336046   86.51     221044  211053  104.73         NaN\n",
       " 2023/02/03  253053  253651   99.76     200888  182160  110.28         NaN\n",
       " 2023/02/02  265711  243436  109.15     174915  157141  111.31         NaN\n",
       " 2023/02/01  398264  441790   90.15     112610  127496   88.32         NaN,\n",
       "                 日期   賣權成交量   買權成交量  買賣權成交量比率%  賣權未平倉量  買權未平倉量  買賣權未平倉量比率%\n",
       " 2023/03/31  237440  214454  110.72     219968  173617  126.70         NaN\n",
       " 2023/03/30  218338  171022  127.67     191965  157249  122.08         NaN\n",
       " 2023/03/29  459961  414152  111.06     148921  132514  112.38         NaN\n",
       " 2023/03/28  324818  405392   80.12     261027  235261  110.95         NaN\n",
       " 2023/03/27  314271  309820  101.44     254105  206841  122.85         NaN\n",
       " 2023/03/24  326549  268527  121.61     234709  169450  138.51         NaN\n",
       " 2023/03/23  324445  258090  125.71     209628  151344  138.51         NaN\n",
       " 2023/03/22  639480  488793  130.83     143100  117556  121.73         NaN\n",
       " 2023/03/21  459624  333304  137.90     262955  218221  120.50         NaN\n",
       " 2023/03/20  310832  259393  119.83     231983  206494  112.34         NaN\n",
       " 2023/03/17  339502  284700  119.25     210455  184515  114.06         NaN\n",
       " 2023/03/16  391252  385941  101.38     166777  174888   95.36         NaN\n",
       " 2023/03/15  635665  581629  109.29     109266  112427   97.19         NaN\n",
       " 2023/03/14  445256  519489   85.71     289526  324915   89.11         NaN\n",
       " 2023/03/13  411840  444899   92.57     276590  298830   92.56         NaN\n",
       " 2023/03/10  348072  454067   76.66     243160  275236   88.35         NaN\n",
       " 2023/03/09  180744  195626   92.39     233350  214196  108.94         NaN\n",
       " 2023/03/08  479267  556461   86.13     199273  176990  112.59         NaN\n",
       " 2023/03/07  327677  256361  127.82     323867  233468  138.72         NaN\n",
       " 2023/03/06  387441  315096  122.96     297072  226273  131.29         NaN\n",
       " 2023/03/03  263885  236534  111.56     262573  216564  121.24         NaN\n",
       " 2023/03/02  228709  233322   98.02     230729  193184  119.43         NaN\n",
       " 2023/03/01  561623  528102  106.35     194170  159037  122.09         NaN,\n",
       "                 日期   賣權成交量   買權成交量  買賣權成交量比率%  賣權未平倉量  買權未平倉量  買賣權未平倉量比率%\n",
       " 2023/04/28  297937  261200  114.06     191779  173868  110.30         NaN\n",
       " 2023/04/27  217806  220289   98.87     153820  160116   96.07         NaN\n",
       " 2023/04/26  509978  572352   89.10     116175  133979   86.71         NaN\n",
       " 2023/04/25  441499  505175   87.40     184958  248233   74.51         NaN\n",
       " 2023/04/24  255672  276773   92.38     183386  203380   90.17         NaN\n",
       " 2023/04/21  283802  349018   81.31     155202  181102   85.70         NaN\n",
       " 2023/04/20  213816  249285   85.77     130390  143228   91.04         NaN\n",
       " 2023/04/19  448162  461735   97.06      89703   94536   94.89         NaN\n",
       " 2023/04/18  285448  303317   94.11     271517  244576  111.02         NaN\n",
       " 2023/04/17  246155  255252   96.44     254332  222427  114.34         NaN\n",
       " 2023/04/14  296924  267989  110.80     238431  200086  119.16         NaN\n",
       " 2023/04/13  235958  273795   86.18     203193  191195  106.28         NaN\n",
       " 2023/04/12  353389  333830  105.86     166762  139840  119.25         NaN\n",
       " 2023/04/11  366639  340053  107.82     262600  202487  129.69         NaN\n",
       " 2023/04/10  202513  165526  122.35     222006  186562  119.00         NaN\n",
       " 2023/04/07  184552  160417  115.05     197448  164964  119.69         NaN\n",
       " 2023/04/06  379068  338050  112.13     156830  136801  114.64         NaN,\n",
       "                 日期   賣權成交量   買權成交量  買賣權成交量比率%  賣權未平倉量  買權未平倉量  買賣權未平倉量比率%\n",
       " 2023/05/31  806273  859239   93.84     168377  165444  101.77         NaN\n",
       " 2023/05/30  299154  308626   96.93     297207  270884  109.72         NaN\n",
       " 2023/05/29  446570  446574  100.00     275882  247810  111.33         NaN\n",
       " 2023/05/26  413890  395565  104.63     251999  209485  120.29         NaN\n",
       " 2023/05/25  332796  333497   99.79     197721  179988  109.85         NaN\n",
       " 2023/05/24  452906  475363   95.28     140593  135800  103.53         NaN\n",
       " 2023/05/23  308322  280699  109.84     253798  225464  112.57         NaN\n",
       " 2023/05/22  215217  212034  101.50     233973  206215  113.46         NaN\n",
       " 2023/05/19  293117  328187   89.31     221496  186722  118.62         NaN\n",
       " 2023/05/18  330331  319377  103.43     191723  149437  128.30         NaN\n",
       " 2023/05/17  693991  722389   96.07     126006  103870  121.31         NaN\n",
       " 2023/05/16  454497  400709  113.42     282799  239253  118.20         NaN\n",
       " 2023/05/15  298628  286357  104.29     249292  262900   94.82         NaN\n",
       " 2023/05/12  345333  349534   98.80     229552  239871   95.70         NaN\n",
       " 2023/05/11  298444  311654   95.76     206831  207558   99.65         NaN\n",
       " 2023/05/10  398492  495469   80.43     159813  165512   96.56         NaN\n",
       " 2023/05/09  261578  264103   99.04     262545  227349  115.48         NaN\n",
       " 2023/05/08  341595  270977  126.06     244887  212421  115.28         NaN\n",
       " 2023/05/05  279443  258346  108.17     216349  192073  112.64         NaN\n",
       " 2023/05/04  212818  182399  116.68     184204  167220  110.16         NaN\n",
       " 2023/05/03  416701  432224   96.41     134591  135190   99.56         NaN\n",
       " 2023/05/02  361899  280780  128.89     232917  193310  120.49         NaN,\n",
       "                 日期   賣權成交量   買權成交量  買賣權成交量比率%  賣權未平倉量  買權未平倉量  買賣權未平倉量比率%\n",
       " 2023/06/30  274869  249925  109.98     200375  191662  104.55         NaN\n",
       " 2023/06/29  282699  299994   94.23     171713  166082  103.39         NaN\n",
       " 2023/06/28  439542  450283   97.61     111712  112144   99.61         NaN\n",
       " 2023/06/27  377072  371020  101.63     174369  203342   85.75         NaN\n",
       " 2023/06/26  252846  261715   96.61     148977  159199   93.58         NaN\n",
       " 2023/06/21  433352  423931  102.22      89396   98955   90.34         NaN\n",
       " 2023/06/20  346368  383557   90.30     320506  304277  105.33         NaN\n",
       " 2023/06/19  284900  306382   92.99     313885  281709  111.42         NaN\n",
       " 2023/06/16  257381  299094   86.05     289369  266983  108.38         NaN\n",
       " 2023/06/15  264405  278866   94.81     260874  236623  110.25         NaN\n",
       " 2023/06/14  584250  656080   89.05     213373  190375  112.08         NaN\n",
       " 2023/06/13  532159  546222   97.43     331586  254913  130.08         NaN\n",
       " 2023/06/12  365626  344013  106.28     295411  261733  112.87         NaN\n",
       " 2023/06/09  276201  267694  103.18     258770  249895  103.55         NaN\n",
       " 2023/06/08  306606  367030   83.54     221215  241968   91.42         NaN\n",
       " 2023/06/07  546285  507828  107.57     180961  178490  101.38         NaN\n",
       " 2023/06/06  318831  314423  101.40     298255  271384  109.90         NaN\n",
       " 2023/06/05  363679  412850   88.09     275139  259357  106.09         NaN\n",
       " 2023/06/02  358093  320129  111.86     252448  220493  114.49         NaN\n",
       " 2023/06/01  242908  252221   96.31     212656  209178  101.66         NaN,\n",
       "                 日期   賣權成交量   買權成交量  買賣權成交量比率%  賣權未平倉量  買權未平倉量  買賣權未平倉量比率%\n",
       " 2023/07/31  540106  563899   95.78     216662  229578   94.37         NaN\n",
       " 2023/07/28  368622  353228  104.36     202573  185998  108.91         NaN\n",
       " 2023/07/27  315805  267311  118.14     168749  156824  107.60         NaN\n",
       " 2023/07/26  530702  558913   94.95     113085  122807   92.08         NaN\n",
       " 2023/07/25  470314  410865  114.47     227995  203340  112.13         NaN\n",
       " 2023/07/24  361647  353003  102.45     186669  210717   88.59         NaN\n",
       " 2023/07/21  383253  401251   95.51     166474  190761   87.27         NaN\n",
       " 2023/07/20  254230  242818  104.70     137618  142023   96.90         NaN\n",
       " 2023/07/19  655303  709325   92.38      86714  101203   85.68         NaN\n",
       " 2023/07/18  473320  479256   98.76     275790  244302  112.89         NaN\n",
       " 2023/07/17  344452  326692  105.44     271590  223655  121.43         NaN\n",
       " 2023/07/14  364084  333518  109.16     251424  200494  125.40         NaN\n",
       " 2023/07/13  487838  461742  105.65     225198  190725  118.07         NaN\n",
       " 2023/07/12  635135  624962  101.63     155460  150805  103.09         NaN\n",
       " 2023/07/11  559837  432468  129.45     296359  231482  128.03         NaN\n",
       " 2023/07/10  474713  441629  107.49     243749  249945   97.52         NaN\n",
       " 2023/07/07  430715  413806  104.09     216158  231488   93.38         NaN\n",
       " 2023/07/06  367577  405444   90.66     183748  203268   90.40         NaN\n",
       " 2023/07/05  385369  385381  100.00     146164  134759  108.46         NaN\n",
       " 2023/07/04  349537  311462  112.22     268166  208952  128.34         NaN\n",
       " 2023/07/03  384514  317593  121.07     243753  195676  124.57         NaN,\n",
       "                 日期   賣權成交量   買權成交量  買賣權成交量比率%  賣權未平倉量  買權未平倉量  買賣權未平倉量比率%\n",
       " 2023/08/31  234382  221295  105.91     183984  193427   95.12         NaN\n",
       " 2023/08/30  574664  499183  115.12     151873  152000   99.92         NaN\n",
       " 2023/08/29  377637  326807  115.55     259017  267514   96.82         NaN\n",
       " 2023/08/28  343160  351263   97.69     241548  260914   92.58         NaN\n",
       " 2023/08/25  371221  405294   91.59     216038  244531   88.35         NaN\n",
       " 2023/08/24  359634  308918  116.42     197773  171281  115.47         NaN\n",
       " 2023/08/23  636466  540768  117.70     137693  132639  103.81         NaN\n",
       " 2023/08/22  387077  359543  107.66     232965  241914   96.30         NaN\n",
       " 2023/08/21  393278  385903  101.91     212541  231543   91.79         NaN\n",
       " 2023/08/18  395031  391480  100.91     191454  205522   93.15         NaN\n",
       " 2023/08/17  346612  359680   96.37     155979  170839   91.30         NaN\n",
       " 2023/08/16  639781  633863  100.93      91296  123251   74.07         NaN\n",
       " 2023/08/15  427970  429508   99.64     243921  335781   72.64         NaN\n",
       " 2023/08/14  441236  581651   75.86     220698  325724   67.76         NaN\n",
       " 2023/08/11  382062  403021   94.80     213757  268355   79.65         NaN\n",
       " 2023/08/10  363886  410131   88.72     185983  248670   74.79         NaN\n",
       " 2023/08/09  697842  694127  100.54     143666  174880   82.15         NaN\n",
       " 2023/08/08  478968  480603   99.66     251263  265775   94.54         NaN\n",
       " 2023/08/07  473168  406950  116.27     232360  222736  104.32         NaN\n",
       " 2023/08/04  340592  347793   97.93     178614  211290   84.53         NaN\n",
       " 2023/08/02  711917  745862   95.45     130019  161672   80.42         NaN\n",
       " 2023/08/01  392457  374162  104.89     246839  242409  101.83         NaN,\n",
       "                 日期   賣權成交量   買權成交量  買賣權成交量比率%  賣權未平倉量  買權未平倉量  買賣權未平倉量比率%\n",
       " 2023/09/28  283833  272022  104.34     166908  192291   86.80         NaN\n",
       " 2023/09/27  532947  505175  105.50     120829  147928   81.68         NaN\n",
       " 2023/09/26  421773  409734  102.94     230982  265937   86.86         NaN\n",
       " 2023/09/25  333852  271788  122.84     228459  228604   99.94         NaN\n",
       " 2023/09/22  289330  276500  104.64     189011  228409   82.75         NaN\n",
       " 2023/09/21  286885  344468   83.28     151640  202302   74.96         NaN\n",
       " 2023/09/20  564784  546200  103.40      96992  119608   81.09         NaN\n",
       " 2023/09/19  343279  384271   89.33     276245  302503   91.32         NaN\n",
       " 2023/09/18  292397  352765   82.89     274693  275187   99.82         NaN\n",
       " 2023/09/15  278525  231973  120.07     261610  221675  118.02         NaN\n",
       " 2023/09/14  339219  273437  124.06     243539  206315  118.04         NaN\n",
       " 2023/09/13  489468  436268  112.19     179325  178957  100.21         NaN\n",
       " 2023/09/12  374338  347670  107.67     277003  275107  100.69         NaN\n",
       " 2023/09/11  314001  390462   80.42     246445  274340   89.83         NaN\n",
       " 2023/09/08  263273  254575  103.42     240248  236515  101.58         NaN\n",
       " 2023/09/07  249520  252805   98.70     207695  213423   97.32         NaN\n",
       " 2023/09/06  436335  427740  102.01     166813  166136  100.41         NaN\n",
       " 2023/09/05  219787  194175  113.19     259908  240893  107.89         NaN\n",
       " 2023/09/04  350127  311603  112.36     242994  222804  109.06         NaN\n",
       " 2023/09/01  248350  239019  103.90     212099  208233  101.86         NaN,\n",
       "                 日期   賣權成交量   買權成交量  買賣權成交量比率%  賣權未平倉量  買權未平倉量  買賣權未平倉量比率%\n",
       " 2023/10/31  411592  538977   76.37     262079  313515   83.59         NaN\n",
       " 2023/10/30  331785  339871   97.62     262483  271497   96.68         NaN\n",
       " 2023/10/27  296414  282028  105.10     246451  239295  102.99         NaN\n",
       " 2023/10/26  322752  366523   88.06     204850  226813   90.32         NaN\n",
       " 2023/10/25  644419  560472  114.98     157491  151594  103.89         NaN\n",
       " 2023/10/24  558839  593490   94.16     265531  268334   98.96         NaN\n",
       " 2023/10/23  279797  364490   76.76     227770  240800   94.59         NaN\n",
       " 2023/10/20  366192  398481   91.90     206799  205419  100.67         NaN\n",
       " 2023/10/19  239227  254568   93.97     167863  179978   93.27         NaN\n",
       " 2023/10/18  743139  752470   98.76     119632  128759   92.91         NaN\n",
       " 2023/10/17  382496  425899   89.81     270190  305270   88.51         NaN\n",
       " 2023/10/16  354184  395308   89.60     253791  292944   86.63         NaN\n",
       " 2023/10/13  264678  282865   93.57     228307  245467   93.01         NaN\n",
       " 2023/10/12  274461  262294  104.64     208136  195204  106.62         NaN\n",
       " 2023/10/11  626528  597555  104.85     151397  162654   93.08         NaN\n",
       " 2023/10/06  281278  254116  110.69     218779  224696   97.37         NaN\n",
       " 2023/10/05  318689  263610  120.89     198476  213233   93.08         NaN\n",
       " 2023/10/04  672538  662379  101.53     130130  171859   75.72         NaN\n",
       " 2023/10/03  384135  364240  105.46     240901  245358   98.18         NaN\n",
       " 2023/10/02  382790  286967  133.39     229082  202863  112.92         NaN,\n",
       "                 日期   賣權成交量   買權成交量  買賣權成交量比率%  賣權未平倉量  買權未平倉量  買賣權未平倉量比率%\n",
       " 2023/12/01  258758  281684   91.86     289536  246266  117.57         NaN\n",
       " 2023/11/30  251941  253794   99.27     256154  222622  115.06         NaN\n",
       " 2023/11/29  493450  507026   97.32     194199  185594  104.64         NaN\n",
       " 2023/11/28  436800  383660  113.85     302300  262862  115.00         NaN\n",
       " 2023/11/27  286550  351234   81.58     256183  265621   96.45         NaN\n",
       " 2023/11/24  183601  196453   93.46     243602  230448  105.71         NaN\n",
       " 2023/11/23  262264  269790   97.21     220400  210587  104.66         NaN\n",
       " 2023/11/22  431179  524481   82.21     172542  164315  105.01         NaN\n",
       " 2023/11/21  441394  328856  134.22     296088  230540  128.43         NaN\n",
       " 2023/11/20  248786  247303  100.60     259263  234330  110.64         NaN\n",
       " 2023/11/17  284653  241082  118.07     241398  203789  118.45         NaN\n",
       " 2023/11/16  277788  311718   89.12     194718  184099  105.77         NaN\n",
       " 2023/11/15  743548  766918   96.95     136308  124979  109.06         NaN\n",
       " 2023/11/14  345542  310357  111.34     347952  292164  119.09         NaN\n",
       " 2023/11/13  531607  538007   98.81     321818  284488  113.12         NaN\n",
       " 2023/11/10  307911  291630  105.58     288458  254313  113.43         NaN\n",
       " 2023/11/09  226158  228940   98.78     268140  232962  115.10         NaN\n",
       " 2023/11/08  587843  540559  108.75     227607  191395  118.92         NaN\n",
       " 2023/11/07  333526  283185  117.78     367409  280618  130.93         NaN\n",
       " 2023/11/06  461464  410106  112.52     355426  265158  134.04         NaN\n",
       " 2023/11/03  360316  304500  118.33     295057  256138  115.19         NaN\n",
       " 2023/11/02  364414  317179  114.89     250132  228159  109.63         NaN\n",
       " 2023/11/01  549175  545989  100.58     171274  187896   91.15         NaN,\n",
       "                 日期   賣權成交量   買權成交量  買賣權成交量比率%  賣權未平倉量  買權未平倉量  買賣權未平倉量比率%\n",
       " 2023/12/29  148838  155853   95.50     231446  195144  118.60         NaN\n",
       " 2023/12/28  159728  173001   92.33     206720  175567  117.74         NaN\n",
       " 2023/12/27  394078  404830   97.34     165374  136709  120.97         NaN\n",
       " 2023/12/26  265706  194444  136.65     282865  209606  134.95         NaN\n",
       " 2023/12/25  232516  186009  125.00     253891  210657  120.52         NaN\n",
       " 2023/12/22  221895  214728  103.34     218654  199737  109.47         NaN\n",
       " 2023/12/21  287853  272089  105.79     188765  179415  105.21         NaN\n",
       " 2023/12/20  457687  428991  106.69     124780  118243  105.53         NaN\n",
       " 2023/12/19  340106  421038   80.78     357450  318807  112.12         NaN\n",
       " 2023/12/18  272054  267433  101.73     356153  286557  124.29         NaN\n",
       " 2023/12/15  291504  286086  101.89     322404  256225  125.83         NaN\n",
       " 2023/12/14  304151  306959   99.09     282391  230616  122.45         NaN\n",
       " 2023/12/13  429815  497178   86.45     224314  208763  107.45         NaN\n",
       " 2023/12/12  319097  300432  106.21     337637  301439  112.01         NaN\n",
       " 2023/12/11  289275  286748  100.88     321435  280135  114.74         NaN\n",
       " 2023/12/08  309277  287980  107.40     297351  261599  113.67         NaN\n",
       " 2023/12/07  233178  245931   94.81     251000  245158  102.38         NaN\n",
       " 2023/12/06  546188  524605  104.11     209699  200447  104.62         NaN\n",
       " 2023/12/05  402115  452693   88.83     316027  302112  104.61         NaN\n",
       " 2023/12/04  319074  326763   97.65     318144  274742  115.80         NaN\n",
       " 2023/12/01  258758  281684   91.86     289536  246266  117.57         NaN]"
      ]
     },
     "execution_count": 117,
     "metadata": {},
     "output_type": "execute_result"
    }
   ],
   "source": [
    "data"
   ]
  },
  {
   "cell_type": "code",
   "execution_count": null,
   "id": "82883677",
   "metadata": {},
   "outputs": [],
   "source": []
  }
 ],
 "metadata": {
  "kernelspec": {
   "display_name": "Python 3 (ipykernel)",
   "language": "python",
   "name": "python3"
  },
  "language_info": {
   "codemirror_mode": {
    "name": "ipython",
    "version": 3
   },
   "file_extension": ".py",
   "mimetype": "text/x-python",
   "name": "python",
   "nbconvert_exporter": "python",
   "pygments_lexer": "ipython3",
   "version": "3.11.5"
  }
 },
 "nbformat": 4,
 "nbformat_minor": 5
}
