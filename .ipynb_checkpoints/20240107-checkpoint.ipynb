{
 "cells": [
  {
   "cell_type": "code",
   "execution_count": 8,
   "id": "1277c46a",
   "metadata": {},
   "outputs": [
    {
     "name": "stdout",
     "output_type": "stream",
     "text": [
      "[[47 68 25]\n",
      " [67 83 23]]\n",
      "------------------------------------------------------------\n",
      "[[92 57 14]\n",
      " [23 72 89]]\n"
     ]
    }
   ],
   "source": [
    "import numpy as np\n",
    "\n",
    "np.random.seed(7)\n",
    "a1 = np.random.randint(101,size = (2,3))\n",
    "a2 = np.random.randint(101,size = (2,3))\n",
    "print(a1)\n",
    "print('-'*60)\n",
    "print(a2)"
   ]
  },
  {
   "cell_type": "code",
   "execution_count": 14,
   "id": "454ba88c",
   "metadata": {},
   "outputs": [
    {
     "data": {
      "text/plain": [
       "array([[47, 68, 25],\n",
       "       [67, 83, 23],\n",
       "       [92, 57, 14],\n",
       "       [23, 72, 89]])"
      ]
     },
     "execution_count": 14,
     "metadata": {},
     "output_type": "execute_result"
    }
   ],
   "source": [
    "### 垂直合併 np.vstack\n",
    "\n",
    "np.vstack((a1,a2))"
   ]
  },
  {
   "cell_type": "code",
   "execution_count": 10,
   "id": "8ad1d98c",
   "metadata": {},
   "outputs": [
    {
     "data": {
      "text/plain": [
       "array([[47, 68, 25, 92, 57, 14],\n",
       "       [67, 83, 23, 23, 72, 89]])"
      ]
     },
     "execution_count": 10,
     "metadata": {},
     "output_type": "execute_result"
    }
   ],
   "source": [
    "### 水平合併\n",
    "np.hstack((a1,a2))"
   ]
  },
  {
   "cell_type": "code",
   "execution_count": 15,
   "id": "39683bcb",
   "metadata": {},
   "outputs": [
    {
     "data": {
      "text/plain": [
       "array([[47, 68, 25],\n",
       "       [67, 83, 23],\n",
       "       [92, 57, 14],\n",
       "       [23, 72, 89]])"
      ]
     },
     "execution_count": 15,
     "metadata": {},
     "output_type": "execute_result"
    }
   ],
   "source": [
    "np.concatenate((a1,a2), axis = 0)"
   ]
  },
  {
   "cell_type": "code",
   "execution_count": 30,
   "id": "062f75b9",
   "metadata": {},
   "outputs": [
    {
     "data": {
      "text/plain": [
       "array([[47, 68, 25, 67],\n",
       "       [83, 23, 92, 57],\n",
       "       [14, 23, 72, 89],\n",
       "       [42, 90,  8, 39]])"
      ]
     },
     "execution_count": 30,
     "metadata": {},
     "output_type": "execute_result"
    }
   ],
   "source": [
    "#垂直分割 np.vsplit 以row欄位為主\n",
    "np.random.seed(7)\n",
    "a = np.random.randint(101,size = (4,4))\n",
    "a"
   ]
  },
  {
   "cell_type": "code",
   "execution_count": 27,
   "id": "73730e60",
   "metadata": {},
   "outputs": [
    {
     "data": {
      "text/plain": [
       "[array([[47, 68, 25, 67],\n",
       "        [83, 23, 92, 57],\n",
       "        [14, 23, 72, 89],\n",
       "        [42, 90,  8, 39]]),\n",
       " array([], shape=(0, 4), dtype=int32)]"
      ]
     },
     "execution_count": 27,
     "metadata": {},
     "output_type": "execute_result"
    }
   ],
   "source": [
    "np.vsplit(a,2)\n",
    "#(分割的陣列, 2 => 分為兩等分)"
   ]
  },
  {
   "cell_type": "code",
   "execution_count": 28,
   "id": "c9e7bdff",
   "metadata": {},
   "outputs": [
    {
     "data": {
      "text/plain": [
       "[array([[47, 68, 25, 67],\n",
       "        [83, 23, 92, 57]]),\n",
       " array([[14, 23, 72, 89]]),\n",
       " array([[42, 90,  8, 39]])]"
      ]
     },
     "execution_count": 28,
     "metadata": {},
     "output_type": "execute_result"
    }
   ],
   "source": [
    "np.vsplit(a,[2,3])"
   ]
  },
  {
   "cell_type": "code",
   "execution_count": 33,
   "id": "447e450b",
   "metadata": {},
   "outputs": [
    {
     "data": {
      "text/plain": [
       "[array([[47, 68, 25, 67],\n",
       "        [83, 23, 92, 57],\n",
       "        [14, 23, 72, 89]]),\n",
       " array([[42, 90,  8, 39]])]"
      ]
     },
     "execution_count": 33,
     "metadata": {},
     "output_type": "execute_result"
    }
   ],
   "source": [
    "np.vsplit(a,[3])\n",
    "# [3]變成索引值位置"
   ]
  },
  {
   "cell_type": "code",
   "execution_count": 34,
   "id": "c2097be9",
   "metadata": {},
   "outputs": [
    {
     "data": {
      "text/plain": [
       "[array([[47, 68, 25, 67],\n",
       "        [83, 23, 92, 57],\n",
       "        [14, 23, 72, 89],\n",
       "        [42, 90,  8, 39]]),\n",
       " array([], shape=(0, 4), dtype=int32)]"
      ]
     },
     "execution_count": 34,
     "metadata": {},
     "output_type": "execute_result"
    }
   ],
   "source": [
    "#索引值沒有5，全部丟進去\n",
    "np.vsplit(a,[5])"
   ]
  },
  {
   "cell_type": "code",
   "execution_count": 35,
   "id": "cd9d45eb",
   "metadata": {},
   "outputs": [
    {
     "data": {
      "text/plain": [
       "[array([[47, 68],\n",
       "        [83, 23],\n",
       "        [14, 23],\n",
       "        [42, 90]]),\n",
       " array([[25, 67],\n",
       "        [92, 57],\n",
       "        [72, 89],\n",
       "        [ 8, 39]])]"
      ]
     },
     "execution_count": 35,
     "metadata": {},
     "output_type": "execute_result"
    }
   ],
   "source": [
    "#水平分割\n",
    "np.hsplit(a,2)"
   ]
  },
  {
   "cell_type": "code",
   "execution_count": 37,
   "id": "8822b8b0",
   "metadata": {},
   "outputs": [
    {
     "data": {
      "text/plain": [
       "[array([[47, 68],\n",
       "        [83, 23],\n",
       "        [14, 23],\n",
       "        [42, 90]]),\n",
       " array([[25, 67],\n",
       "        [92, 57],\n",
       "        [72, 89],\n",
       "        [ 8, 39]])]"
      ]
     },
     "execution_count": 37,
     "metadata": {},
     "output_type": "execute_result"
    }
   ],
   "source": [
    "#有[]=>依據索引值分割\n",
    "np.hsplit(a,[2])"
   ]
  },
  {
   "cell_type": "code",
   "execution_count": 38,
   "id": "6f730650",
   "metadata": {},
   "outputs": [
    {
     "data": {
      "text/plain": [
       "[array([[47, 68],\n",
       "        [83, 23],\n",
       "        [14, 23],\n",
       "        [42, 90]]),\n",
       " array([[25],\n",
       "        [92],\n",
       "        [72],\n",
       "        [ 8]]),\n",
       " array([[67],\n",
       "        [57],\n",
       "        [89],\n",
       "        [39]])]"
      ]
     },
     "execution_count": 38,
     "metadata": {},
     "output_type": "execute_result"
    }
   ],
   "source": [
    "np.hsplit(a,[2,3])"
   ]
  },
  {
   "cell_type": "code",
   "execution_count": 47,
   "id": "d7fd0adc",
   "metadata": {},
   "outputs": [
    {
     "data": {
      "text/plain": [
       "array([[47, 68],\n",
       "       [83, 23],\n",
       "       [14, 23],\n",
       "       [42, 90]])"
      ]
     },
     "execution_count": 47,
     "metadata": {},
     "output_type": "execute_result"
    }
   ],
   "source": [
    "#分割後重新賦值\n",
    "b,c,d = np.hsplit(a,[2,3])\n",
    "b"
   ]
  },
  {
   "cell_type": "code",
   "execution_count": 48,
   "id": "8698d6df",
   "metadata": {},
   "outputs": [
    {
     "data": {
      "text/plain": [
       "array([[25],\n",
       "       [92],\n",
       "       [72],\n",
       "       [ 8]])"
      ]
     },
     "execution_count": 48,
     "metadata": {},
     "output_type": "execute_result"
    }
   ],
   "source": [
    "c"
   ]
  },
  {
   "cell_type": "code",
   "execution_count": 49,
   "id": "03c5f7b4",
   "metadata": {},
   "outputs": [
    {
     "data": {
      "text/plain": [
       "array([[67],\n",
       "       [57],\n",
       "       [89],\n",
       "       [39]])"
      ]
     },
     "execution_count": 49,
     "metadata": {},
     "output_type": "execute_result"
    }
   ],
   "source": [
    "d"
   ]
  },
  {
   "cell_type": "code",
   "execution_count": 51,
   "id": "e14e42d6",
   "metadata": {},
   "outputs": [
    {
     "name": "stdout",
     "output_type": "stream",
     "text": [
      "class:  ndarray\n",
      "shape:  (4, 4)\n",
      "strides:  (16, 4)\n",
      "itemsize:  4\n",
      "aligned:  True\n",
      "contiguous:  True\n",
      "fortran:  False\n",
      "data pointer: 0x255edbc9fc0\n",
      "byteorder:  little\n",
      "byteswap:  False\n",
      "type: int32\n"
     ]
    }
   ],
   "source": [
    "#查詢陣列資訊\n",
    "np.info(a)"
   ]
  },
  {
   "cell_type": "code",
   "execution_count": 54,
   "id": "31c3d81c",
   "metadata": {},
   "outputs": [
    {
     "name": "stdout",
     "output_type": "stream",
     "text": [
      "a大於50\n"
     ]
    }
   ],
   "source": [
    "#Python流程控制 if\n",
    "a = 50\n",
    "if a >= 50:\n",
    "    print('a大於50')\n",
    "    "
   ]
  },
  {
   "cell_type": "code",
   "execution_count": 56,
   "id": "63586388",
   "metadata": {},
   "outputs": [
    {
     "name": "stdout",
     "output_type": "stream",
     "text": [
      "a等於50\n"
     ]
    }
   ],
   "source": [
    "a = 50\n",
    "if a > 50:\n",
    "    print('a大於50')\n",
    "elif a < 50:\n",
    "    print('a小於50')\n",
    "else:\n",
    "    print('a等於50')"
   ]
  },
  {
   "cell_type": "code",
   "execution_count": 57,
   "id": "b8946938",
   "metadata": {},
   "outputs": [
    {
     "data": {
      "text/plain": [
       "array([[47, 68, 25, 67],\n",
       "       [83, 23, 92, 57],\n",
       "       [14, 23, 72, 89],\n",
       "       [42, 90,  8, 39]])"
      ]
     },
     "execution_count": 57,
     "metadata": {},
     "output_type": "execute_result"
    }
   ],
   "source": [
    "np.random.seed(7)\n",
    "a = np.random.randint(101,size = (4,4))\n",
    "a"
   ]
  },
  {
   "cell_type": "code",
   "execution_count": 58,
   "id": "99c70942",
   "metadata": {},
   "outputs": [
    {
     "data": {
      "text/plain": [
       "array([[False,  True, False,  True],\n",
       "       [ True, False,  True,  True],\n",
       "       [False, False,  True,  True],\n",
       "       [False,  True, False, False]])"
      ]
     },
     "execution_count": 58,
     "metadata": {},
     "output_type": "execute_result"
    }
   ],
   "source": [
    "#比對大於50\n",
    "a > 50"
   ]
  },
  {
   "cell_type": "code",
   "execution_count": 59,
   "id": "18592f61",
   "metadata": {},
   "outputs": [
    {
     "data": {
      "text/plain": [
       "array([68, 67, 83, 92, 57, 72, 89, 90])"
      ]
     },
     "execution_count": 59,
     "metadata": {},
     "output_type": "execute_result"
    }
   ],
   "source": [
    "a[a > 50]"
   ]
  },
  {
   "cell_type": "code",
   "execution_count": 60,
   "id": "a2a5427d",
   "metadata": {},
   "outputs": [
    {
     "data": {
      "text/plain": [
       "False"
      ]
     },
     "execution_count": 60,
     "metadata": {},
     "output_type": "execute_result"
    }
   ],
   "source": [
    "'''Python運算子\n",
    "    比較運算子 / 邏輯運算子\n",
    "'''\n",
    "a = 5\n",
    "b = 3\n",
    "c = 1\n",
    "a < b"
   ]
  },
  {
   "cell_type": "code",
   "execution_count": 61,
   "id": "4160752c",
   "metadata": {},
   "outputs": [
    {
     "data": {
      "text/plain": [
       "True"
      ]
     },
     "execution_count": 61,
     "metadata": {},
     "output_type": "execute_result"
    }
   ],
   "source": [
    "a > b"
   ]
  },
  {
   "cell_type": "code",
   "execution_count": 62,
   "id": "15df34c8",
   "metadata": {},
   "outputs": [
    {
     "data": {
      "text/plain": [
       "True"
      ]
     },
     "execution_count": 62,
     "metadata": {},
     "output_type": "execute_result"
    }
   ],
   "source": [
    "#a,b,c誰最小\n",
    "a > b and b > c"
   ]
  },
  {
   "cell_type": "code",
   "execution_count": 65,
   "id": "0d55db96",
   "metadata": {},
   "outputs": [
    {
     "data": {
      "text/plain": [
       "True"
      ]
     },
     "execution_count": 65,
     "metadata": {},
     "output_type": "execute_result"
    }
   ],
   "source": [
    "not a < b"
   ]
  },
  {
   "cell_type": "code",
   "execution_count": 66,
   "id": "244bb9f1",
   "metadata": {},
   "outputs": [
    {
     "data": {
      "text/plain": [
       "array([[47, 68, 25, 67],\n",
       "       [83, 23, 92, 57],\n",
       "       [14, 23, 72, 89],\n",
       "       [42, 90,  8, 39]])"
      ]
     },
     "execution_count": 66,
     "metadata": {},
     "output_type": "execute_result"
    }
   ],
   "source": [
    "np.random.seed(7)\n",
    "a = np.random.randint(101,size = (4,4))\n",
    "a"
   ]
  },
  {
   "cell_type": "code",
   "execution_count": 67,
   "id": "5c3b0a92",
   "metadata": {},
   "outputs": [
    {
     "data": {
      "text/plain": [
       "array([[ True,  True,  True,  True],\n",
       "       [False,  True, False,  True],\n",
       "       [ True,  True,  True, False],\n",
       "       [ True, False,  True,  True]])"
      ]
     },
     "execution_count": 67,
     "metadata": {},
     "output_type": "execute_result"
    }
   ],
   "source": [
    "a < 80"
   ]
  },
  {
   "cell_type": "code",
   "execution_count": 68,
   "id": "ffd9e1f8",
   "metadata": {},
   "outputs": [
    {
     "data": {
      "text/plain": [
       "array([[ True,  True, False,  True],\n",
       "       [ True, False,  True,  True],\n",
       "       [False, False,  True,  True],\n",
       "       [ True,  True, False,  True]])"
      ]
     },
     "execution_count": 68,
     "metadata": {},
     "output_type": "execute_result"
    }
   ],
   "source": [
    "a > 30"
   ]
  },
  {
   "cell_type": "code",
   "execution_count": 71,
   "id": "aec08fc8",
   "metadata": {},
   "outputs": [
    {
     "data": {
      "text/plain": [
       "array([[ True,  True, False,  True],\n",
       "       [False, False, False,  True],\n",
       "       [False, False,  True, False],\n",
       "       [ True, False, False,  True]])"
      ]
     },
     "execution_count": 71,
     "metadata": {},
     "output_type": "execute_result"
    }
   ],
   "source": [
    "(a < 80) & (a > 30)"
   ]
  },
  {
   "cell_type": "code",
   "execution_count": 73,
   "id": "5a9ee998",
   "metadata": {},
   "outputs": [
    {
     "data": {
      "text/plain": [
       "array([47, 68, 67, 57, 72, 42, 39])"
      ]
     },
     "execution_count": 73,
     "metadata": {},
     "output_type": "execute_result"
    }
   ],
   "source": [
    "a[(a < 80) & (a > 30)]"
   ]
  },
  {
   "cell_type": "code",
   "execution_count": 76,
   "id": "c60ef4b2",
   "metadata": {},
   "outputs": [
    {
     "data": {
      "text/plain": [
       "array([[ 0, 68,  0, 67],\n",
       "       [83,  0, 92, 57],\n",
       "       [ 0,  0, 72, 89],\n",
       "       [ 0, 90,  0,  0]])"
      ]
     },
     "execution_count": 76,
     "metadata": {},
     "output_type": "execute_result"
    }
   ],
   "source": [
    "#Python np.where同if二擇一\n",
    "#np.where(條件式,程式1,程式2)\n",
    "np.random.seed(7)\n",
    "a = np.random.randint(101,size = (4,4))\n",
    "np.where(a > 50, a, 0)"
   ]
  },
  {
   "cell_type": "code",
   "execution_count": 77,
   "id": "9971abeb",
   "metadata": {},
   "outputs": [
    {
     "data": {
      "text/plain": [
       "array([0.  , 1.25, 2.5 , 3.75, 5.  ])"
      ]
     },
     "execution_count": 77,
     "metadata": {},
     "output_type": "execute_result"
    }
   ],
   "source": [
    "#等分 np.linspace()\n",
    "#np.linspace(start,end,interval)\n",
    "#從start到end之間分為interval個\n",
    "np.linspace(0,5,5)"
   ]
  },
  {
   "cell_type": "markdown",
   "id": "2d51ea77",
   "metadata": {},
   "source": [
    "$$\\frac{end - start}{interval - 1}$$"
   ]
  },
  {
   "cell_type": "code",
   "execution_count": 90,
   "id": "ce93a667",
   "metadata": {},
   "outputs": [
    {
     "name": "stdout",
     "output_type": "stream",
     "text": [
      "CPU times: total: 688 ms\n",
      "Wall time: 923 ms\n"
     ]
    }
   ],
   "source": [
    "#List\n",
    "li = list(range(100000))\n",
    "%time for i in range(100): li2 = [x * 3 for x in li]"
   ]
  },
  {
   "cell_type": "code",
   "execution_count": 93,
   "id": "6673de37",
   "metadata": {},
   "outputs": [
    {
     "data": {
      "text/plain": [
       "55"
      ]
     },
     "execution_count": 93,
     "metadata": {},
     "output_type": "execute_result"
    }
   ],
   "source": [
    "sumi = 0\n",
    "sumi = sumi+1+2+3+4+5+6+7+8+9+10\n",
    "sumi"
   ]
  },
  {
   "cell_type": "code",
   "execution_count": 97,
   "id": "06ca67a1",
   "metadata": {},
   "outputs": [
    {
     "data": {
      "text/plain": [
       "2"
      ]
     },
     "execution_count": 97,
     "metadata": {},
     "output_type": "execute_result"
    }
   ],
   "source": [
    "sumi = 0\n",
    "sumi = sumi + 1\n",
    "sumi = sumi + 1\n",
    "sumi"
   ]
  },
  {
   "cell_type": "code",
   "execution_count": 98,
   "id": "fa3213ec",
   "metadata": {},
   "outputs": [
    {
     "data": {
      "text/plain": [
       "6"
      ]
     },
     "execution_count": 98,
     "metadata": {},
     "output_type": "execute_result"
    }
   ],
   "source": [
    "sumi = 0\n",
    "for i in range(6):\n",
    "    sumi = sumi + 1\n",
    "sumi"
   ]
  },
  {
   "cell_type": "code",
   "execution_count": 100,
   "id": "d481939d",
   "metadata": {},
   "outputs": [
    {
     "data": {
      "text/plain": [
       "[0,\n",
       " 3,\n",
       " 6,\n",
       " 9,\n",
       " 12,\n",
       " 15,\n",
       " 18,\n",
       " 21,\n",
       " 24,\n",
       " 27,\n",
       " 0,\n",
       " 3,\n",
       " 6,\n",
       " 9,\n",
       " 12,\n",
       " 15,\n",
       " 18,\n",
       " 21,\n",
       " 24,\n",
       " 27,\n",
       " 0,\n",
       " 3,\n",
       " 6,\n",
       " 9,\n",
       " 12,\n",
       " 15,\n",
       " 18,\n",
       " 21,\n",
       " 24,\n",
       " 27,\n",
       " 0,\n",
       " 3,\n",
       " 6,\n",
       " 9,\n",
       " 12,\n",
       " 15,\n",
       " 18,\n",
       " 21,\n",
       " 24,\n",
       " 27,\n",
       " 0,\n",
       " 3,\n",
       " 6,\n",
       " 9,\n",
       " 12,\n",
       " 15,\n",
       " 18,\n",
       " 21,\n",
       " 24,\n",
       " 27]"
      ]
     },
     "execution_count": 100,
     "metadata": {},
     "output_type": "execute_result"
    }
   ],
   "source": [
    "l = list(range(10)) #產生串列\n",
    "l2 = []\n",
    "for i in range(5):\n",
    "    for j in l:\n",
    "        l2.append(j * 3)\n",
    "l2"
   ]
  },
  {
   "cell_type": "code",
   "execution_count": 113,
   "id": "2342907f",
   "metadata": {},
   "outputs": [],
   "source": [
    "l = list(range(10)) #產生串列\n",
    "l2 = []\n",
    "l2 = ([j * 3 for j in l] for i in range(5))"
   ]
  },
  {
   "cell_type": "code",
   "execution_count": 117,
   "id": "c4ca2fcf",
   "metadata": {},
   "outputs": [
    {
     "name": "stdout",
     "output_type": "stream",
     "text": [
      "3.89 ms ± 140 µs per loop (mean ± std. dev. of 7 runs, 100 loops each)\n"
     ]
    }
   ],
   "source": [
    "def f():\n",
    "    l = list(range(100000))\n",
    "    l2 = []\n",
    "    ([j * 3 for j in l] for i in range(5))\n",
    "%timeit f()"
   ]
  },
  {
   "cell_type": "code",
   "execution_count": 103,
   "id": "1f401398",
   "metadata": {},
   "outputs": [
    {
     "data": {
      "text/plain": [
       "array([ 0,  3,  6,  9, 12, 15, 18, 21, 24, 27])"
      ]
     },
     "execution_count": 103,
     "metadata": {},
     "output_type": "execute_result"
    }
   ],
   "source": [
    "import numpy as np\n",
    "a = np.arange(10)\n",
    "for i in range(5):\n",
    "    a2 = a * 3\n",
    "a2"
   ]
  },
  {
   "cell_type": "code",
   "execution_count": 104,
   "id": "518874c1",
   "metadata": {},
   "outputs": [
    {
     "data": {
      "text/plain": [
       "[1, 2, 3, 1, 2, 3, 1, 2, 3]"
      ]
     },
     "execution_count": 104,
     "metadata": {},
     "output_type": "execute_result"
    }
   ],
   "source": [
    "l = [1,2,3]\n",
    "l*3\n",
    "#只會複製"
   ]
  },
  {
   "cell_type": "code",
   "execution_count": 105,
   "id": "f31c0e60",
   "metadata": {},
   "outputs": [
    {
     "name": "stdout",
     "output_type": "stream",
     "text": [
      "3\n",
      "6\n",
      "9\n"
     ]
    }
   ],
   "source": [
    "for i in l:\n",
    "    print(i * 3)"
   ]
  },
  {
   "cell_type": "code",
   "execution_count": 107,
   "id": "d400103b",
   "metadata": {},
   "outputs": [
    {
     "data": {
      "text/plain": [
       "array([3, 6, 9])"
      ]
     },
     "execution_count": 107,
     "metadata": {},
     "output_type": "execute_result"
    }
   ],
   "source": [
    "a = np.arange(1,4)\n",
    "a*3"
   ]
  },
  {
   "cell_type": "code",
   "execution_count": 122,
   "id": "4ce194f9",
   "metadata": {},
   "outputs": [
    {
     "data": {
      "text/plain": [
       "[<matplotlib.lines.Line2D at 0x255f45ec3d0>]"
      ]
     },
     "execution_count": 122,
     "metadata": {},
     "output_type": "execute_result"
    },
    {
     "data": {
      "image/png": "[encoded data removed]",
      "text/plain": [
       "<Figure size 640x480 with 1 Axes>"
      ]
     },
     "metadata": {},
     "output_type": "display_data"
    }
   ],
   "source": [
    "import numpy as np\n",
    "import matplotlib.pyplot as plt\n",
    "\n",
    "x = np.random.rand(20)*8-5\n",
    "y = np.sin(x) + np.random.rand()*0.2\n",
    "omega = np.polyfit(x,y,2)\n",
    "f = np.poly1d(omega)\n",
    "x2 = np.linspace(-5,5,1000)\n",
    "plt.scatter(x,y)\n",
    "plt.plot(x2, f(x2), color = 'r')"
   ]
  },
  {
   "cell_type": "markdown",
   "id": "db2957e8",
   "metadata": {},
   "source": [
    "### Pandas經濟面板數據"
   ]
  },
  {
   "cell_type": "code",
   "execution_count": 123,
   "id": "00e95c6d",
   "metadata": {},
   "outputs": [
    {
     "data": {
      "text/plain": [
       "[234, 'ans', True, 3.485, b'0938ur']"
      ]
     },
     "execution_count": 123,
     "metadata": {},
     "output_type": "execute_result"
    }
   ],
   "source": [
    "l = [234, 'ans', True, 3.485, b'0938ur']\n",
    "l"
   ]
  },
  {
   "cell_type": "code",
   "execution_count": 127,
   "id": "323fd23b",
   "metadata": {},
   "outputs": [
    {
     "data": {
      "text/plain": [
       "array([1.       , 3.1415926, 4.       , 5.       , 6.       ])"
      ]
     },
     "execution_count": 127,
     "metadata": {},
     "output_type": "execute_result"
    }
   ],
   "source": [
    "import numpy as np\n",
    "a = np.array([1,2.3,4,5,6])\n",
    "a[1] = 3.1415926\n",
    "a"
   ]
  },
  {
   "cell_type": "code",
   "execution_count": 136,
   "id": "0d6b2215",
   "metadata": {},
   "outputs": [
    {
     "data": {
      "text/plain": [
       "a     8\n",
       "b    24\n",
       "c    67\n",
       "d    87\n",
       "e    79\n",
       "dtype: int32"
      ]
     },
     "execution_count": 136,
     "metadata": {},
     "output_type": "execute_result"
    }
   ],
   "source": [
    "import pandas as pd\n",
    "import numpy as np\n",
    "np.random.seed(100)\n",
    "a = np.random.randint(101, size = 5)\n",
    "s = pd.Series(a, index = list('abcde'))\n",
    "s"
   ]
  },
  {
   "cell_type": "code",
   "execution_count": 140,
   "id": "7f4b86ed",
   "metadata": {},
   "outputs": [
    {
     "name": "stdout",
     "output_type": "stream",
     "text": [
      "['abcde']\n",
      "['a', 'b', 'c', 'd', 'e']\n"
     ]
    }
   ],
   "source": [
    "#有沒有[]差很多\n",
    "print(list(['abcde']))\n",
    "print(list('abcde'))"
   ]
  },
  {
   "cell_type": "code",
   "execution_count": 141,
   "id": "3dd28beb",
   "metadata": {},
   "outputs": [
    {
     "name": "stdout",
     "output_type": "stream",
     "text": [
      "Index(['a', 'b', 'c', 'd', 'e'], dtype='object')\n",
      "[ 8 24 67 87 79]\n"
     ]
    }
   ],
   "source": [
    "#取得index&values\n",
    "print(s.index)\n",
    "print(s.values)"
   ]
  },
  {
   "cell_type": "code",
   "execution_count": 149,
   "id": "ebcde7e7",
   "metadata": {},
   "outputs": [
    {
     "name": "stdout",
     "output_type": "stream",
     "text": [
      "維度ndim 1\n",
      "形狀shape (5,)\n",
      "數量size 5\n",
      "索引index Index(['a', 'b', 'c', 'd', 'e'], dtype='object')\n",
      "數值value [ 8 24 67 87 79]\n",
      "資料型別dtype int32\n"
     ]
    }
   ],
   "source": [
    "print('維度ndim',s.ndim)\n",
    "print('形狀shape',s.shape)\n",
    "print('數量size',s.size)\n",
    "print('索引index',s.index)\n",
    "print('數值value',s.values)\n",
    "print('資料型別dtype',s.dtype)"
   ]
  },
  {
   "cell_type": "code",
   "execution_count": 166,
   "id": "e0314244",
   "metadata": {},
   "outputs": [
    {
     "name": "stdout",
     "output_type": "stream",
     "text": [
      "最大值 87\n",
      "最小值 8\n",
      "總和 265\n",
      "數量 5\n",
      "------------------------------------------------------------\n",
      "元素出現的次數\n",
      " 8     1\n",
      "24    1\n",
      "67    1\n",
      "87    1\n",
      "79    1\n",
      "Name: count, dtype: int64\n",
      "------------------------------------------------------------\n",
      "平均值 53.0\n",
      "中位數 67.0\n",
      "------------------------------------------------------------\n",
      "眾數\n",
      " 0     8\n",
      "1    24\n",
      "2    67\n",
      "3    79\n",
      "4    87\n",
      "dtype: int32\n",
      "------------------------------------------------------------\n",
      "標準差 34.978564864785405\n",
      "變異數 1223.5\n"
     ]
    }
   ],
   "source": [
    "print('最大值',s.max())\n",
    "print('最小值',s.min())\n",
    "print('總和',s.sum())\n",
    "print('數量',s.count())\n",
    "print('-'*60)\n",
    "print('元素出現的次數\\n',s.value_counts())\n",
    "print('-'*60)\n",
    "print('平均值',s.mean())\n",
    "print('中位數',s.median())\n",
    "print('-'*60)\n",
    "print('眾數\\n',s.mode())\n",
    "print('-'*60)\n",
    "print('標準差',s.std())\n",
    "print('變異數',s.var())"
   ]
  },
  {
   "cell_type": "code",
   "execution_count": 171,
   "id": "691d93e3",
   "metadata": {},
   "outputs": [
    {
     "name": "stdout",
     "output_type": "stream",
     "text": [
      "查詢資訊\n",
      "<class 'pandas.core.series.Series'>\n",
      "Index: 5 entries, a to e\n",
      "Series name: None\n",
      "Non-Null Count  Dtype\n",
      "--------------  -----\n",
      "5 non-null      int32\n",
      "dtypes: int32(1)\n",
      "memory usage: 232.0+ bytes\n"
     ]
    }
   ],
   "source": [
    "#查詢資訊\n",
    "print('查詢資訊')\n",
    "s.info()"
   ]
  },
  {
   "cell_type": "code",
   "execution_count": 170,
   "id": "0cc39954",
   "metadata": {},
   "outputs": [
    {
     "data": {
      "text/plain": [
       "count     5.000000\n",
       "mean     53.000000\n",
       "std      34.978565\n",
       "min       8.000000\n",
       "25%      24.000000\n",
       "50%      67.000000\n",
       "75%      79.000000\n",
       "max      87.000000\n",
       "dtype: float64"
      ]
     },
     "execution_count": 170,
     "metadata": {},
     "output_type": "execute_result"
    }
   ],
   "source": [
    "#描述性統計\n",
    "s.describe()"
   ]
  },
  {
   "cell_type": "code",
   "execution_count": 172,
   "id": "e0f92fe4",
   "metadata": {},
   "outputs": [
    {
     "data": {
      "text/plain": [
       "232"
      ]
     },
     "execution_count": 172,
     "metadata": {},
     "output_type": "execute_result"
    }
   ],
   "source": [
    "#記憶體使用狀況\n",
    "s.memory_usage()"
   ]
  },
  {
   "cell_type": "code",
   "execution_count": 175,
   "id": "e399240a",
   "metadata": {},
   "outputs": [
    {
     "data": {
      "text/plain": [
       "482"
      ]
     },
     "execution_count": 175,
     "metadata": {},
     "output_type": "execute_result"
    }
   ],
   "source": [
    "s.memory_usage(deep = True)"
   ]
  },
  {
   "cell_type": "code",
   "execution_count": 176,
   "id": "bd2d7549",
   "metadata": {},
   "outputs": [
    {
     "name": "stdout",
     "output_type": "stream",
     "text": [
      "最大值 87\n",
      "最大值idx d\n",
      "最小值 8\n",
      "最小值idx a\n"
     ]
    }
   ],
   "source": [
    "#所在位置\n",
    "print('最大值',s.max())\n",
    "print('最大值idx',s.idxmax())\n",
    "print('最小值',s.min())\n",
    "print('最小值idx',s.idxmin())"
   ]
  },
  {
   "cell_type": "code",
   "execution_count": 184,
   "id": "359b9aea",
   "metadata": {},
   "outputs": [
    {
     "data": {
      "text/plain": [
       "67"
      ]
     },
     "execution_count": 184,
     "metadata": {},
     "output_type": "execute_result"
    }
   ],
   "source": [
    "import pandas as pd\n",
    "import numpy as np\n",
    "np.random.seed(100)\n",
    "s = pd.Series(np.random.randint(101, size = 5))\n",
    "s[2]"
   ]
  },
  {
   "cell_type": "code",
   "execution_count": 185,
   "id": "c35372db",
   "metadata": {},
   "outputs": [
    {
     "name": "stderr",
     "output_type": "stream",
     "text": [
      "C:\\Users\\wendy.c\\AppData\\Local\\Temp\\ipykernel_3728\\2801540572.py:1: FutureWarning: Setting an item of incompatible dtype is deprecated and will raise in a future error of pandas. Value 'abc' has dtype incompatible with int32, please explicitly cast to a compatible dtype first.\n",
      "  s[1] = 'abc'\n"
     ]
    },
    {
     "data": {
      "text/plain": [
       "0          8\n",
       "1        abc\n",
       "2       True\n",
       "3    b'1010'\n",
       "4         79\n",
       "dtype: object"
      ]
     },
     "execution_count": 185,
     "metadata": {},
     "output_type": "execute_result"
    }
   ],
   "source": [
    "s[1] = 'abc'\n",
    "s[2] = True\n",
    "s[3] = b'1010'\n",
    "s"
   ]
  },
  {
   "cell_type": "code",
   "execution_count": 186,
   "id": "692be215",
   "metadata": {},
   "outputs": [
    {
     "data": {
      "text/plain": [
       "0             8\n",
       "True        abc\n",
       "asd        True\n",
       "3       b'1010'\n",
       "4            79\n",
       "dtype: object"
      ]
     },
     "execution_count": 186,
     "metadata": {},
     "output_type": "execute_result"
    }
   ],
   "source": [
    "#修改index\n",
    "s.rename(index = {1: 3.294, 2: 'asd', c: True})"
   ]
  },
  {
   "cell_type": "code",
   "execution_count": 192,
   "id": "b4d0e03d",
   "metadata": {},
   "outputs": [],
   "source": [
    "s = s.rename(index = {1: 3.294, 2: 'asd', c: True})"
   ]
  },
  {
   "cell_type": "code",
   "execution_count": 189,
   "id": "fec4c2d7",
   "metadata": {},
   "outputs": [
    {
     "data": {
      "text/plain": [
       "0             8\n",
       "True        abc\n",
       "asd        True\n",
       "3       b'1010'\n",
       "4            79\n",
       "dtype: object"
      ]
     },
     "execution_count": 189,
     "metadata": {},
     "output_type": "execute_result"
    }
   ],
   "source": [
    "s"
   ]
  },
  {
   "cell_type": "code",
   "execution_count": 191,
   "id": "f1e57b18",
   "metadata": {},
   "outputs": [
    {
     "data": {
      "text/plain": [
       "0          8\n",
       "1        abc\n",
       "2       True\n",
       "3    b'1010'\n",
       "4         79\n",
       "dtype: object"
      ]
     },
     "execution_count": 191,
     "metadata": {},
     "output_type": "execute_result"
    }
   ],
   "source": [
    "s.index = range(len(s))\n",
    "s"
   ]
  },
  {
   "cell_type": "code",
   "execution_count": 194,
   "id": "bdd0b7d5",
   "metadata": {},
   "outputs": [
    {
     "data": {
      "text/html": [
       "<div>\n",
       "<style scoped>\n",
       "    .dataframe tbody tr th:only-of-type {\n",
       "        vertical-align: middle;\n",
       "    }\n",
       "\n",
       "    .dataframe tbody tr th {\n",
       "        vertical-align: top;\n",
       "    }\n",
       "\n",
       "    .dataframe thead th {\n",
       "        text-align: right;\n",
       "    }\n",
       "</style>\n",
       "<table border=\"1\" class=\"dataframe\">\n",
       "  <thead>\n",
       "    <tr style=\"text-align: right;\">\n",
       "      <th></th>\n",
       "      <th>index</th>\n",
       "      <th>0</th>\n",
       "    </tr>\n",
       "  </thead>\n",
       "  <tbody>\n",
       "    <tr>\n",
       "      <th>0</th>\n",
       "      <td>0</td>\n",
       "      <td>8</td>\n",
       "    </tr>\n",
       "    <tr>\n",
       "      <th>1</th>\n",
       "      <td>True</td>\n",
       "      <td>abc</td>\n",
       "    </tr>\n",
       "    <tr>\n",
       "      <th>2</th>\n",
       "      <td>asd</td>\n",
       "      <td>True</td>\n",
       "    </tr>\n",
       "    <tr>\n",
       "      <th>3</th>\n",
       "      <td>3</td>\n",
       "      <td>b'1010'</td>\n",
       "    </tr>\n",
       "    <tr>\n",
       "      <th>4</th>\n",
       "      <td>4</td>\n",
       "      <td>79</td>\n",
       "    </tr>\n",
       "  </tbody>\n",
       "</table>\n",
       "</div>"
      ],
      "text/plain": [
       "  index        0\n",
       "0     0        8\n",
       "1  True      abc\n",
       "2   asd     True\n",
       "3     3  b'1010'\n",
       "4     4       79"
      ]
     },
     "execution_count": 194,
     "metadata": {},
     "output_type": "execute_result"
    }
   ],
   "source": [
    "# 舊的被當成資料\n",
    "s.reset_index()"
   ]
  },
  {
   "cell_type": "code",
   "execution_count": 197,
   "id": "e371d43a",
   "metadata": {},
   "outputs": [
    {
     "data": {
      "text/plain": [
       "0          8\n",
       "1        abc\n",
       "2       True\n",
       "3    b'1010'\n",
       "4         79\n",
       "dtype: object"
      ]
     },
     "execution_count": 197,
     "metadata": {},
     "output_type": "execute_result"
    }
   ],
   "source": [
    "s = s.reset_index(drop = True)\n",
    "s"
   ]
  },
  {
   "cell_type": "code",
   "execution_count": 199,
   "id": "a789c1c1",
   "metadata": {},
   "outputs": [
    {
     "data": {
      "text/plain": [
       "0     8\n",
       "1    24\n",
       "2    67\n",
       "3    87\n",
       "4    79\n",
       "dtype: int32"
      ]
     },
     "execution_count": 199,
     "metadata": {},
     "output_type": "execute_result"
    }
   ],
   "source": [
    "import pandas as pd\n",
    "import numpy as np\n",
    "np.random.seed(100)\n",
    "s = pd.Series(np.random.randint(101, size = 5))\n",
    "s"
   ]
  },
  {
   "cell_type": "code",
   "execution_count": 202,
   "id": "241e2be7",
   "metadata": {},
   "outputs": [
    {
     "data": {
      "text/plain": [
       "(24, 24, 24)"
      ]
     },
     "execution_count": 202,
     "metadata": {},
     "output_type": "execute_result"
    }
   ],
   "source": [
    "s[1], s.at[1], s.iat[1]\n",
    "#.at .iat取單一數值"
   ]
  },
  {
   "cell_type": "code",
   "execution_count": 205,
   "id": "961d901a",
   "metadata": {},
   "outputs": [
    {
     "data": {
      "text/plain": [
       "(24, 24)"
      ]
     },
     "execution_count": 205,
     "metadata": {},
     "output_type": "execute_result"
    }
   ],
   "source": [
    "# 取一個範圍的數值\n",
    "## loc 當名稱取\n",
    "## iloc 當index取\n",
    "s.loc[1], s.iloc[1]"
   ]
  },
  {
   "cell_type": "code",
   "execution_count": 206,
   "id": "5e472bc8",
   "metadata": {},
   "outputs": [
    {
     "data": {
      "text/plain": [
       "1    24\n",
       "2    67\n",
       "3    87\n",
       "dtype: int32"
      ]
     },
     "execution_count": 206,
     "metadata": {},
     "output_type": "execute_result"
    }
   ],
   "source": [
    "s.loc[1:3]"
   ]
  },
  {
   "cell_type": "code",
   "execution_count": 209,
   "id": "bab8e7da",
   "metadata": {},
   "outputs": [
    {
     "data": {
      "text/plain": [
       "1    24\n",
       "2    67\n",
       "3    87\n",
       "dtype: int32"
      ]
     },
     "execution_count": 209,
     "metadata": {},
     "output_type": "execute_result"
    }
   ],
   "source": [
    "s.iloc[1:4]"
   ]
  },
  {
   "cell_type": "code",
   "execution_count": 214,
   "id": "3fcf754a",
   "metadata": {},
   "outputs": [
    {
     "data": {
      "text/plain": [
       "0     8\n",
       "1    24\n",
       "2    67\n",
       "3    87\n",
       "4    79\n",
       "dtype: int64"
      ]
     },
     "execution_count": 214,
     "metadata": {},
     "output_type": "execute_result"
    }
   ],
   "source": [
    "import pandas as pd\n",
    "import numpy as np\n",
    "np.random.seed(100)\n",
    "a = pd.Series(np.random.randint(101, size = 5))\n",
    "s = pd.Series(tuple(a))\n",
    "s\n",
    "#pd.Series不能傳入set"
   ]
  },
  {
   "cell_type": "code",
   "execution_count": 218,
   "id": "8d987490",
   "metadata": {},
   "outputs": [
    {
     "data": {
      "text/plain": [
       "0      8\n",
       "1     24\n",
       "2     67\n",
       "30    87\n",
       "4     79\n",
       "dtype: int64"
      ]
     },
     "execution_count": 218,
     "metadata": {},
     "output_type": "execute_result"
    }
   ],
   "source": [
    "# 傳入字典，key變成index，value還是value\n",
    "d = {0: 8, 1: 24, 2: 67, 30: 87, 4: 79}\n",
    "s = pd.Series(d)\n",
    "s"
   ]
  },
  {
   "cell_type": "code",
   "execution_count": 223,
   "id": "7ed9452e",
   "metadata": {},
   "outputs": [
    {
     "data": {
      "text/plain": [
       "a     8\n",
       "b    24\n",
       "c    67\n",
       "d    87\n",
       "e    79\n",
       "dtype: int32"
      ]
     },
     "execution_count": 223,
     "metadata": {},
     "output_type": "execute_result"
    }
   ],
   "source": [
    "import pandas as pd\n",
    "import numpy as np\n",
    "np.random.seed(100)\n",
    "a = np.random.randint(101, size = 5,dtype = 'int32')\n",
    "s = pd.Series(a, index = list('abcde'))\n",
    "s"
   ]
  },
  {
   "cell_type": "code",
   "execution_count": 225,
   "id": "1fe44b66",
   "metadata": {},
   "outputs": [
    {
     "data": {
      "text/plain": [
       "(24, 79)"
      ]
     },
     "execution_count": 225,
     "metadata": {},
     "output_type": "execute_result"
    }
   ],
   "source": [
    "# 依據索引值改變取值的方式\n",
    "s['b'], s['e']"
   ]
  },
  {
   "cell_type": "code",
   "execution_count": 226,
   "id": "6f60049f",
   "metadata": {},
   "outputs": [
    {
     "data": {
      "text/plain": [
       "(24, 24)"
      ]
     },
     "execution_count": 226,
     "metadata": {},
     "output_type": "execute_result"
    }
   ],
   "source": [
    "s.loc['b'], s.iloc[1]"
   ]
  },
  {
   "cell_type": "code",
   "execution_count": 228,
   "id": "b30af920",
   "metadata": {},
   "outputs": [
    {
     "data": {
      "text/plain": [
       "b    24\n",
       "c    67\n",
       "d    87\n",
       "dtype: int32"
      ]
     },
     "execution_count": 228,
     "metadata": {},
     "output_type": "execute_result"
    }
   ],
   "source": [
    "s.loc['b':'d'] #前取尾也取"
   ]
  },
  {
   "cell_type": "code",
   "execution_count": 230,
   "id": "24580169",
   "metadata": {},
   "outputs": [
    {
     "data": {
      "text/plain": [
       "b    24\n",
       "c    67\n",
       "d    87\n",
       "dtype: int32"
      ]
     },
     "execution_count": 230,
     "metadata": {},
     "output_type": "execute_result"
    }
   ],
   "source": [
    "s.iloc[1:4] #前取尾不取"
   ]
  },
  {
   "cell_type": "markdown",
   "id": "9d80d85f",
   "metadata": {},
   "source": [
    "### Python運算子 成員運算子 in"
   ]
  },
  {
   "cell_type": "code",
   "execution_count": 231,
   "id": "08627227",
   "metadata": {},
   "outputs": [
    {
     "data": {
      "text/plain": [
       "True"
      ]
     },
     "execution_count": 231,
     "metadata": {},
     "output_type": "execute_result"
    }
   ],
   "source": [
    "l = [1,2,3,4,5]\n",
    "5 in l"
   ]
  },
  {
   "cell_type": "code",
   "execution_count": 232,
   "id": "9c84a17b",
   "metadata": {},
   "outputs": [
    {
     "data": {
      "text/plain": [
       "False"
      ]
     },
     "execution_count": 232,
     "metadata": {},
     "output_type": "execute_result"
    }
   ],
   "source": [
    "100 in l"
   ]
  },
  {
   "cell_type": "code",
   "execution_count": 233,
   "id": "7ced6f0e",
   "metadata": {},
   "outputs": [
    {
     "data": {
      "text/plain": [
       "0     8\n",
       "1    24\n",
       "2    67\n",
       "3    87\n",
       "4    79\n",
       "dtype: int32"
      ]
     },
     "execution_count": 233,
     "metadata": {},
     "output_type": "execute_result"
    }
   ],
   "source": [
    "import pandas as pd\n",
    "import numpy as np\n",
    "np.random.seed(100)\n",
    "a = np.random.randint(101, size = 5,dtype = 'int32')\n",
    "s = pd.Series(a)\n",
    "s"
   ]
  },
  {
   "cell_type": "code",
   "execution_count": 235,
   "id": "7be663a0",
   "metadata": {},
   "outputs": [
    {
     "data": {
      "text/plain": [
       "False"
      ]
     },
     "execution_count": 235,
     "metadata": {},
     "output_type": "execute_result"
    }
   ],
   "source": [
    "79 in s"
   ]
  },
  {
   "cell_type": "code",
   "execution_count": 237,
   "id": "82927fd5",
   "metadata": {},
   "outputs": [
    {
     "data": {
      "text/plain": [
       "True"
      ]
     },
     "execution_count": 237,
     "metadata": {},
     "output_type": "execute_result"
    }
   ],
   "source": [
    "d = {0: 8, 1: 24, 2: 67, 30: 87, 4: 79}\n",
    "30 in d"
   ]
  },
  {
   "cell_type": "code",
   "execution_count": 238,
   "id": "d6c60ac5",
   "metadata": {},
   "outputs": [
    {
     "data": {
      "text/plain": [
       "0     8\n",
       "1    24\n",
       "2    67\n",
       "3    87\n",
       "4    79\n",
       "dtype: int32"
      ]
     },
     "execution_count": 238,
     "metadata": {},
     "output_type": "execute_result"
    }
   ],
   "source": [
    "import pandas as pd\n",
    "import numpy as np\n",
    "np.random.seed(100)\n",
    "a = np.random.randint(101, size = 5,dtype = 'int32')\n",
    "s = pd.Series(a)\n",
    "s"
   ]
  },
  {
   "cell_type": "code",
   "execution_count": 241,
   "id": "f356eee0",
   "metadata": {},
   "outputs": [
    {
     "data": {
      "text/plain": [
       "1    24\n",
       "3    87\n",
       "dtype: int32"
      ]
     },
     "execution_count": 241,
     "metadata": {},
     "output_type": "execute_result"
    }
   ],
   "source": [
    "s[[1,3]]"
   ]
  },
  {
   "cell_type": "code",
   "execution_count": 244,
   "id": "ee152d09",
   "metadata": {},
   "outputs": [
    {
     "data": {
      "text/plain": [
       "(2, 4)"
      ]
     },
     "execution_count": 244,
     "metadata": {},
     "output_type": "execute_result"
    }
   ],
   "source": [
    "l = [1,2,3,4,5]\n",
    "l[1],l[3]"
   ]
  },
  {
   "cell_type": "code",
   "execution_count": 246,
   "id": "71e43bb4",
   "metadata": {},
   "outputs": [
    {
     "data": {
      "text/plain": [
       "0    0.989358\n",
       "1   -0.905578\n",
       "2   -0.855520\n",
       "3   -0.821818\n",
       "4   -0.444113\n",
       "dtype: float64"
      ]
     },
     "execution_count": 246,
     "metadata": {},
     "output_type": "execute_result"
    }
   ],
   "source": [
    "np.sin(s)"
   ]
  },
  {
   "cell_type": "code",
   "execution_count": 247,
   "id": "25c51d24",
   "metadata": {},
   "outputs": [
    {
     "data": {
      "text/plain": [
       "0    2.079442\n",
       "1    3.178054\n",
       "2    4.204693\n",
       "3    4.465908\n",
       "4    4.369448\n",
       "dtype: float64"
      ]
     },
     "execution_count": 247,
     "metadata": {},
     "output_type": "execute_result"
    }
   ],
   "source": [
    "np.log(s)"
   ]
  },
  {
   "cell_type": "code",
   "execution_count": 256,
   "id": "eb9d07b1",
   "metadata": {},
   "outputs": [
    {
     "name": "stdout",
     "output_type": "stream",
     "text": [
      "1    48\n",
      "2    10\n",
      "3    94\n",
      "4    52\n",
      "5    98\n",
      "dtype: int32\n",
      "------------------------------------------------------------\n",
      "2     53\n",
      "4     66\n",
      "6     98\n",
      "8     14\n",
      "10    34\n",
      "dtype: int32\n"
     ]
    },
    {
     "data": {
      "text/plain": [
       "1       NaN\n",
       "2      63.0\n",
       "3       NaN\n",
       "4     118.0\n",
       "5       NaN\n",
       "6       NaN\n",
       "8       NaN\n",
       "10      NaN\n",
       "dtype: float64"
      ]
     },
     "execution_count": 256,
     "metadata": {},
     "output_type": "execute_result"
    }
   ],
   "source": [
    "# pd.Series可以依index相加，沒有可對應的index則為NaN\n",
    "import pandas as pd\n",
    "import numpy as np\n",
    "np.random.seed(100)\n",
    "a = np.random.randint(101, size = 5,dtype = 'int32')\n",
    "s1 = pd.Series(np.random.randint(101, size = 5),index = [1,2,3,4,5])\n",
    "s2 = pd.Series(np.random.randint(101, size = 5),index = [2,4,6,8,10])\n",
    "print(s1)\n",
    "print('-'*60)\n",
    "print(s2)\n",
    "s1 + s2"
   ]
  },
  {
   "cell_type": "code",
   "execution_count": 254,
   "id": "f250dfc1",
   "metadata": {},
   "outputs": [
    {
     "data": {
      "text/plain": [
       "1      48.0\n",
       "2      63.0\n",
       "3      94.0\n",
       "4     118.0\n",
       "5      98.0\n",
       "6      98.0\n",
       "8      14.0\n",
       "10     34.0\n",
       "dtype: float64"
      ]
     },
     "execution_count": 254,
     "metadata": {},
     "output_type": "execute_result"
    }
   ],
   "source": [
    "# 不想看到NaN\n",
    "s1.add(s2, fill_value = 0)"
   ]
  },
  {
   "cell_type": "code",
   "execution_count": 257,
   "id": "5d32afb0",
   "metadata": {},
   "outputs": [
    {
     "name": "stdout",
     "output_type": "stream",
     "text": [
      "1    48\n",
      "2    10\n",
      "3    94\n",
      "4    52\n",
      "5    98\n",
      "dtype: int32\n",
      "------------------------------------------------------------\n",
      "2     53\n",
      "4     66\n",
      "6     98\n",
      "8     14\n",
      "10    34\n",
      "dtype: int32\n"
     ]
    }
   ],
   "source": [
    "import pandas as pd\n",
    "import numpy as np\n",
    "np.random.seed(100)\n",
    "a = np.random.randint(101, size = 5,dtype = 'int32')\n",
    "s1 = pd.Series(np.random.randint(101, size = 5),index = [1,2,3,4,5])\n",
    "s2 = pd.Series(np.random.randint(101, size = 5),index = [2,4,6,8,10])\n",
    "print(s1)\n",
    "print('-'*60)\n",
    "print(s2)"
   ]
  },
  {
   "cell_type": "code",
   "execution_count": 259,
   "id": "9bd12275",
   "metadata": {},
   "outputs": [
    {
     "data": {
      "text/plain": [
       "1     48\n",
       "2     10\n",
       "3     94\n",
       "4     52\n",
       "5     98\n",
       "2     53\n",
       "4     66\n",
       "6     98\n",
       "8     14\n",
       "10    34\n",
       "dtype: int32"
      ]
     },
     "execution_count": 259,
     "metadata": {},
     "output_type": "execute_result"
    }
   ],
   "source": [
    "s3 = pd.concat([s1,s2])\n",
    "s3\n",
    "# 索引值會怪怪的哦\n",
    "s3[2]\n",
    "#會取出兩個index = 2的值"
   ]
  },
  {
   "cell_type": "code",
   "execution_count": 263,
   "id": "31df08e0",
   "metadata": {},
   "outputs": [
    {
     "data": {
      "text/plain": [
       "0    48\n",
       "1    10\n",
       "2    94\n",
       "3    52\n",
       "4    98\n",
       "5    53\n",
       "6    66\n",
       "7    98\n",
       "8    14\n",
       "9    34\n",
       "dtype: int32"
      ]
     },
     "execution_count": 263,
     "metadata": {},
     "output_type": "execute_result"
    }
   ],
   "source": [
    "#加入ignore_index\n",
    "s3 = pd.concat([s1,s2], ignore_index = True)\n",
    "s3"
   ]
  },
  {
   "cell_type": "code",
   "execution_count": 268,
   "id": "38b363ab",
   "metadata": {},
   "outputs": [
    {
     "data": {
      "text/plain": [
       "0    48\n",
       "1    10\n",
       "2    94\n",
       "3    52\n",
       "4    98\n",
       "5    53\n",
       "6    66\n",
       "7    98\n",
       "8    14\n",
       "9    34\n",
       "dtype: int32"
      ]
     },
     "execution_count": 268,
     "metadata": {},
     "output_type": "execute_result"
    }
   ],
   "source": [
    "# 水平合併\n",
    "pd.Series(np.hstack((s1.to_numpy(),s2.to_numpy())))"
   ]
  },
  {
   "cell_type": "code",
   "execution_count": 269,
   "id": "9f326049",
   "metadata": {},
   "outputs": [
    {
     "data": {
      "text/plain": [
       "0    48\n",
       "1    10\n",
       "2    94\n",
       "3    52\n",
       "4    98\n",
       "5    53\n",
       "6    66\n",
       "7    98\n",
       "8    14\n",
       "9    34\n",
       "dtype: int32"
      ]
     },
     "execution_count": 269,
     "metadata": {},
     "output_type": "execute_result"
    }
   ],
   "source": [
    "pd.Series(np.concatenate((s1.to_numpy(),s2.to_numpy())))"
   ]
  },
  {
   "cell_type": "code",
   "execution_count": 273,
   "id": "0e276dce",
   "metadata": {},
   "outputs": [
    {
     "name": "stdout",
     "output_type": "stream",
     "text": [
      "0    48\n",
      "1    10\n",
      "2    94\n",
      "3    52\n",
      "4    98\n",
      "dtype: int32\n",
      "------------------------------------------------------------\n",
      "0    53\n",
      "1    66\n",
      "2    98\n",
      "3    14\n",
      "4    34\n",
      "dtype: int32\n"
     ]
    }
   ],
   "source": [
    "# 沒有設定index\n",
    "import pandas as pd\n",
    "import numpy as np\n",
    "np.random.seed(100)\n",
    "a = np.random.randint(101, size = 5,dtype = 'int32')\n",
    "s1 = pd.Series(np.random.randint(101, size = 5))\n",
    "s2 = pd.Series(np.random.randint(101, size = 5))\n",
    "print(s1)\n",
    "print('-'*60)\n",
    "print(s2)"
   ]
  },
  {
   "cell_type": "code",
   "execution_count": 282,
   "id": "1acc46e1",
   "metadata": {},
   "outputs": [
    {
     "data": {
      "text/html": [
       "<div>\n",
       "<style scoped>\n",
       "    .dataframe tbody tr th:only-of-type {\n",
       "        vertical-align: middle;\n",
       "    }\n",
       "\n",
       "    .dataframe tbody tr th {\n",
       "        vertical-align: top;\n",
       "    }\n",
       "\n",
       "    .dataframe thead th {\n",
       "        text-align: right;\n",
       "    }\n",
       "</style>\n",
       "<table border=\"1\" class=\"dataframe\">\n",
       "  <thead>\n",
       "    <tr style=\"text-align: right;\">\n",
       "      <th></th>\n",
       "      <th>0</th>\n",
       "      <th>1</th>\n",
       "    </tr>\n",
       "  </thead>\n",
       "  <tbody>\n",
       "    <tr>\n",
       "      <th>1</th>\n",
       "      <td>48.0</td>\n",
       "      <td>NaN</td>\n",
       "    </tr>\n",
       "    <tr>\n",
       "      <th>2</th>\n",
       "      <td>10.0</td>\n",
       "      <td>53.0</td>\n",
       "    </tr>\n",
       "    <tr>\n",
       "      <th>3</th>\n",
       "      <td>94.0</td>\n",
       "      <td>NaN</td>\n",
       "    </tr>\n",
       "    <tr>\n",
       "      <th>4</th>\n",
       "      <td>52.0</td>\n",
       "      <td>66.0</td>\n",
       "    </tr>\n",
       "    <tr>\n",
       "      <th>5</th>\n",
       "      <td>98.0</td>\n",
       "      <td>NaN</td>\n",
       "    </tr>\n",
       "    <tr>\n",
       "      <th>6</th>\n",
       "      <td>NaN</td>\n",
       "      <td>98.0</td>\n",
       "    </tr>\n",
       "    <tr>\n",
       "      <th>8</th>\n",
       "      <td>NaN</td>\n",
       "      <td>14.0</td>\n",
       "    </tr>\n",
       "    <tr>\n",
       "      <th>10</th>\n",
       "      <td>NaN</td>\n",
       "      <td>34.0</td>\n",
       "    </tr>\n",
       "  </tbody>\n",
       "</table>\n",
       "</div>"
      ],
      "text/plain": [
       "       0     1\n",
       "1   48.0   NaN\n",
       "2   10.0  53.0\n",
       "3   94.0   NaN\n",
       "4   52.0  66.0\n",
       "5   98.0   NaN\n",
       "6    NaN  98.0\n",
       "8    NaN  14.0\n",
       "10   NaN  34.0"
      ]
     },
     "execution_count": 282,
     "metadata": {},
     "output_type": "execute_result"
    }
   ],
   "source": [
    "pd.concat([s1,s2],axis = 1)\n",
    "# 兩個Series合併後就不是Series了，而是DataFrame"
   ]
  },
  {
   "cell_type": "code",
   "execution_count": 285,
   "id": "b2dfd2c1",
   "metadata": {},
   "outputs": [
    {
     "name": "stdout",
     "output_type": "stream",
     "text": [
      "1    48\n",
      "2    10\n",
      "3    94\n",
      "4    52\n",
      "5    98\n",
      "dtype: int32\n",
      "------------------------------------------------------------\n",
      "2     53\n",
      "4     66\n",
      "6     98\n",
      "8     14\n",
      "10    34\n",
      "dtype: int32\n"
     ]
    }
   ],
   "source": [
    "# 有設定index\n",
    "import pandas as pd\n",
    "import numpy as np\n",
    "np.random.seed(100)\n",
    "a = np.random.randint(101, size = 5,dtype = 'int32')\n",
    "s1 = pd.Series(np.random.randint(101, size = 5),index = [1,2,3,4,5])\n",
    "s2 = pd.Series(np.random.randint(101, size = 5),index = [2,4,6,8,10])\n",
    "print(s1)\n",
    "print('-'*60)\n",
    "print(s2)"
   ]
  },
  {
   "cell_type": "code",
   "execution_count": 286,
   "id": "12679cff",
   "metadata": {},
   "outputs": [
    {
     "data": {
      "text/html": [
       "<div>\n",
       "<style scoped>\n",
       "    .dataframe tbody tr th:only-of-type {\n",
       "        vertical-align: middle;\n",
       "    }\n",
       "\n",
       "    .dataframe tbody tr th {\n",
       "        vertical-align: top;\n",
       "    }\n",
       "\n",
       "    .dataframe thead th {\n",
       "        text-align: right;\n",
       "    }\n",
       "</style>\n",
       "<table border=\"1\" class=\"dataframe\">\n",
       "  <thead>\n",
       "    <tr style=\"text-align: right;\">\n",
       "      <th></th>\n",
       "      <th>0</th>\n",
       "      <th>1</th>\n",
       "    </tr>\n",
       "  </thead>\n",
       "  <tbody>\n",
       "    <tr>\n",
       "      <th>1</th>\n",
       "      <td>48.0</td>\n",
       "      <td>NaN</td>\n",
       "    </tr>\n",
       "    <tr>\n",
       "      <th>2</th>\n",
       "      <td>10.0</td>\n",
       "      <td>53.0</td>\n",
       "    </tr>\n",
       "    <tr>\n",
       "      <th>3</th>\n",
       "      <td>94.0</td>\n",
       "      <td>NaN</td>\n",
       "    </tr>\n",
       "    <tr>\n",
       "      <th>4</th>\n",
       "      <td>52.0</td>\n",
       "      <td>66.0</td>\n",
       "    </tr>\n",
       "    <tr>\n",
       "      <th>5</th>\n",
       "      <td>98.0</td>\n",
       "      <td>NaN</td>\n",
       "    </tr>\n",
       "    <tr>\n",
       "      <th>6</th>\n",
       "      <td>NaN</td>\n",
       "      <td>98.0</td>\n",
       "    </tr>\n",
       "    <tr>\n",
       "      <th>8</th>\n",
       "      <td>NaN</td>\n",
       "      <td>14.0</td>\n",
       "    </tr>\n",
       "    <tr>\n",
       "      <th>10</th>\n",
       "      <td>NaN</td>\n",
       "      <td>34.0</td>\n",
       "    </tr>\n",
       "  </tbody>\n",
       "</table>\n",
       "</div>"
      ],
      "text/plain": [
       "       0     1\n",
       "1   48.0   NaN\n",
       "2   10.0  53.0\n",
       "3   94.0   NaN\n",
       "4   52.0  66.0\n",
       "5   98.0   NaN\n",
       "6    NaN  98.0\n",
       "8    NaN  14.0\n",
       "10   NaN  34.0"
      ]
     },
     "execution_count": 286,
     "metadata": {},
     "output_type": "execute_result"
    }
   ],
   "source": [
    "pd.concat([s1,s2],axis = 1)"
   ]
  },
  {
   "cell_type": "code",
   "execution_count": 290,
   "id": "3c404095",
   "metadata": {},
   "outputs": [
    {
     "data": {
      "text/plain": [
       "False"
      ]
     },
     "execution_count": 290,
     "metadata": {},
     "output_type": "execute_result"
    }
   ],
   "source": [
    "s1.index.duplicated().all()"
   ]
  },
  {
   "cell_type": "code",
   "execution_count": 292,
   "id": "25ff1f53",
   "metadata": {},
   "outputs": [
    {
     "name": "stdout",
     "output_type": "stream",
     "text": [
      "0     8\n",
      "1    24\n",
      "2    67\n",
      "3    87\n",
      "4    79\n",
      "dtype: int32\n",
      "------------------------------------------------------------\n",
      "0    48\n",
      "1    10\n",
      "2    94\n",
      "3    52\n",
      "4    98\n",
      "dtype: int32\n",
      "------------------------------------------------------------\n",
      "0    53\n",
      "1    66\n",
      "2    98\n",
      "3    14\n",
      "4    34\n",
      "dtype: int32\n"
     ]
    }
   ],
   "source": [
    "import pandas as pd\n",
    "import numpy as np\n",
    "np.random.seed(100)\n",
    "s1 = pd.Series(np.random.randint(101, size = 5))\n",
    "s2 = pd.Series(np.random.randint(101, size = 5))\n",
    "s3 = pd.Series(np.random.randint(101, size = 5))\n",
    "print(s1)\n",
    "print('-'*60)\n",
    "print(s2)\n",
    "print('-'*60)\n",
    "print(s3)\n"
   ]
  },
  {
   "cell_type": "code",
   "execution_count": 294,
   "id": "3bc10b9c",
   "metadata": {},
   "outputs": [
    {
     "data": {
      "text/plain": [
       "0      8\n",
       "1     24\n",
       "2     67\n",
       "3     87\n",
       "4     79\n",
       "5     48\n",
       "6     10\n",
       "7     94\n",
       "8     52\n",
       "9     98\n",
       "10    53\n",
       "11    66\n",
       "12    98\n",
       "13    14\n",
       "14    34\n",
       "dtype: int32"
      ]
     },
     "execution_count": 294,
     "metadata": {},
     "output_type": "execute_result"
    }
   ],
   "source": [
    "# 垂直合併\n",
    "pd.concat([s1,s2,s3], ignore_index = True)"
   ]
  },
  {
   "cell_type": "code",
   "execution_count": 295,
   "id": "5a6519a1",
   "metadata": {},
   "outputs": [
    {
     "data": {
      "text/html": [
       "<div>\n",
       "<style scoped>\n",
       "    .dataframe tbody tr th:only-of-type {\n",
       "        vertical-align: middle;\n",
       "    }\n",
       "\n",
       "    .dataframe tbody tr th {\n",
       "        vertical-align: top;\n",
       "    }\n",
       "\n",
       "    .dataframe thead th {\n",
       "        text-align: right;\n",
       "    }\n",
       "</style>\n",
       "<table border=\"1\" class=\"dataframe\">\n",
       "  <thead>\n",
       "    <tr style=\"text-align: right;\">\n",
       "      <th></th>\n",
       "      <th>0</th>\n",
       "      <th>1</th>\n",
       "      <th>2</th>\n",
       "    </tr>\n",
       "  </thead>\n",
       "  <tbody>\n",
       "    <tr>\n",
       "      <th>0</th>\n",
       "      <td>8</td>\n",
       "      <td>48</td>\n",
       "      <td>53</td>\n",
       "    </tr>\n",
       "    <tr>\n",
       "      <th>1</th>\n",
       "      <td>24</td>\n",
       "      <td>10</td>\n",
       "      <td>66</td>\n",
       "    </tr>\n",
       "    <tr>\n",
       "      <th>2</th>\n",
       "      <td>67</td>\n",
       "      <td>94</td>\n",
       "      <td>98</td>\n",
       "    </tr>\n",
       "    <tr>\n",
       "      <th>3</th>\n",
       "      <td>87</td>\n",
       "      <td>52</td>\n",
       "      <td>14</td>\n",
       "    </tr>\n",
       "    <tr>\n",
       "      <th>4</th>\n",
       "      <td>79</td>\n",
       "      <td>98</td>\n",
       "      <td>34</td>\n",
       "    </tr>\n",
       "  </tbody>\n",
       "</table>\n",
       "</div>"
      ],
      "text/plain": [
       "    0   1   2\n",
       "0   8  48  53\n",
       "1  24  10  66\n",
       "2  67  94  98\n",
       "3  87  52  14\n",
       "4  79  98  34"
      ]
     },
     "execution_count": 295,
     "metadata": {},
     "output_type": "execute_result"
    }
   ],
   "source": [
    "#水平合併\n",
    "pd.concat([s1,s2,s3], axis = 1)"
   ]
  },
  {
   "cell_type": "code",
   "execution_count": 323,
   "id": "e725f662",
   "metadata": {},
   "outputs": [
    {
     "name": "stdout",
     "output_type": "stream",
     "text": [
      "0     8\n",
      "1    24\n",
      "2    67\n",
      "3    87\n",
      "4    79\n",
      "dtype: object\n",
      "------------------------------------------------------------\n",
      "0    48\n",
      "1    10\n",
      "2    94\n",
      "3    52\n",
      "4    98\n",
      "dtype: int32\n"
     ]
    }
   ],
   "source": [
    "#轉型\n",
    "import pandas as pd\n",
    "import numpy as np\n",
    "np.random.seed(100)\n",
    "s1 = pd.Series(np.random.randint(101, size = 5),dtype = 'object')\n",
    "s2 = pd.Series(np.random.randint(101, size = 5))\n",
    "print(s1)\n",
    "print('-'*60)\n",
    "print(s2)"
   ]
  },
  {
   "cell_type": "code",
   "execution_count": 301,
   "id": "9c6887c3",
   "metadata": {},
   "outputs": [
    {
     "data": {
      "text/plain": [
       "dtype('O')"
      ]
     },
     "execution_count": 301,
     "metadata": {},
     "output_type": "execute_result"
    }
   ],
   "source": [
    "s1.dtype"
   ]
  },
  {
   "cell_type": "code",
   "execution_count": 305,
   "id": "a74e5c35",
   "metadata": {},
   "outputs": [
    {
     "data": {
      "text/plain": [
       "0     56\n",
       "1     34\n",
       "2    161\n",
       "3    139\n",
       "4    177\n",
       "dtype: object"
      ]
     },
     "execution_count": 305,
     "metadata": {},
     "output_type": "execute_result"
    }
   ],
   "source": [
    "#dtype不同仍可相加\n",
    "s1+s2"
   ]
  },
  {
   "cell_type": "code",
   "execution_count": 324,
   "id": "3da4f449",
   "metadata": {},
   "outputs": [],
   "source": [
    "s1[1] = 'a'\n",
    "s1[3] = ''\n",
    "#s1+s2 >>> error\n",
    "#s1.astype() >>error\n",
    "#astype可以強制轉型，但是'a'無法轉換所以會error"
   ]
  },
  {
   "cell_type": "code",
   "execution_count": null,
   "id": "166a577a",
   "metadata": {},
   "outputs": [],
   "source": []
  },
  {
   "cell_type": "code",
   "execution_count": 313,
   "id": "96032be6",
   "metadata": {},
   "outputs": [
    {
     "data": {
      "text/plain": [
       "246"
      ]
     },
     "execution_count": 313,
     "metadata": {},
     "output_type": "execute_result"
    }
   ],
   "source": [
    "# 強制轉型為整數 int()\n",
    "h = '123'\n",
    "int(h) + 123"
   ]
  },
  {
   "cell_type": "code",
   "execution_count": 316,
   "id": "b4631fc5",
   "metadata": {},
   "outputs": [
    {
     "ename": "ValueError",
     "evalue": "invalid literal for int() with base 10: 'a'",
     "output_type": "error",
     "traceback": [
      "\u001b[1;31m---------------------------------------------------------------------------\u001b[0m",
      "\u001b[1;31mValueError\u001b[0m                                Traceback (most recent call last)",
      "Cell \u001b[1;32mIn[316], line 1\u001b[0m\n\u001b[1;32m----> 1\u001b[0m s1\u001b[38;5;241m.\u001b[39mapply(\u001b[38;5;28;01mlambda\u001b[39;00m x: \u001b[38;5;28mint\u001b[39m(x))\n",
      "File \u001b[1;32m~\\AppData\\Roaming\\Python\\Python311\\site-packages\\pandas\\core\\series.py:4764\u001b[0m, in \u001b[0;36mSeries.apply\u001b[1;34m(self, func, convert_dtype, args, by_row, **kwargs)\u001b[0m\n\u001b[0;32m   4629\u001b[0m \u001b[38;5;28;01mdef\u001b[39;00m \u001b[38;5;21mapply\u001b[39m(\n\u001b[0;32m   4630\u001b[0m     \u001b[38;5;28mself\u001b[39m,\n\u001b[0;32m   4631\u001b[0m     func: AggFuncType,\n\u001b[1;32m   (...)\u001b[0m\n\u001b[0;32m   4636\u001b[0m     \u001b[38;5;241m*\u001b[39m\u001b[38;5;241m*\u001b[39mkwargs,\n\u001b[0;32m   4637\u001b[0m ) \u001b[38;5;241m-\u001b[39m\u001b[38;5;241m>\u001b[39m DataFrame \u001b[38;5;241m|\u001b[39m Series:\n\u001b[0;32m   4638\u001b[0m \u001b[38;5;250m    \u001b[39m\u001b[38;5;124;03m\"\"\"\u001b[39;00m\n\u001b[0;32m   4639\u001b[0m \u001b[38;5;124;03m    Invoke function on values of Series.\u001b[39;00m\n\u001b[0;32m   4640\u001b[0m \n\u001b[1;32m   (...)\u001b[0m\n\u001b[0;32m   4755\u001b[0m \u001b[38;5;124;03m    dtype: float64\u001b[39;00m\n\u001b[0;32m   4756\u001b[0m \u001b[38;5;124;03m    \"\"\"\u001b[39;00m\n\u001b[0;32m   4757\u001b[0m     \u001b[38;5;28;01mreturn\u001b[39;00m SeriesApply(\n\u001b[0;32m   4758\u001b[0m         \u001b[38;5;28mself\u001b[39m,\n\u001b[0;32m   4759\u001b[0m         func,\n\u001b[0;32m   4760\u001b[0m         convert_dtype\u001b[38;5;241m=\u001b[39mconvert_dtype,\n\u001b[0;32m   4761\u001b[0m         by_row\u001b[38;5;241m=\u001b[39mby_row,\n\u001b[0;32m   4762\u001b[0m         args\u001b[38;5;241m=\u001b[39margs,\n\u001b[0;32m   4763\u001b[0m         kwargs\u001b[38;5;241m=\u001b[39mkwargs,\n\u001b[1;32m-> 4764\u001b[0m     )\u001b[38;5;241m.\u001b[39mapply()\n",
      "File \u001b[1;32m~\\AppData\\Roaming\\Python\\Python311\\site-packages\\pandas\\core\\apply.py:1209\u001b[0m, in \u001b[0;36mSeriesApply.apply\u001b[1;34m(self)\u001b[0m\n\u001b[0;32m   1206\u001b[0m     \u001b[38;5;28;01mreturn\u001b[39;00m \u001b[38;5;28mself\u001b[39m\u001b[38;5;241m.\u001b[39mapply_compat()\n\u001b[0;32m   1208\u001b[0m \u001b[38;5;66;03m# self.func is Callable\u001b[39;00m\n\u001b[1;32m-> 1209\u001b[0m \u001b[38;5;28;01mreturn\u001b[39;00m \u001b[38;5;28mself\u001b[39m\u001b[38;5;241m.\u001b[39mapply_standard()\n",
      "File \u001b[1;32m~\\AppData\\Roaming\\Python\\Python311\\site-packages\\pandas\\core\\apply.py:1289\u001b[0m, in \u001b[0;36mSeriesApply.apply_standard\u001b[1;34m(self)\u001b[0m\n\u001b[0;32m   1283\u001b[0m \u001b[38;5;66;03m# row-wise access\u001b[39;00m\n\u001b[0;32m   1284\u001b[0m \u001b[38;5;66;03m# apply doesn't have a `na_action` keyword and for backward compat reasons\u001b[39;00m\n\u001b[0;32m   1285\u001b[0m \u001b[38;5;66;03m# we need to give `na_action=\"ignore\"` for categorical data.\u001b[39;00m\n\u001b[0;32m   1286\u001b[0m \u001b[38;5;66;03m# TODO: remove the `na_action=\"ignore\"` when that default has been changed in\u001b[39;00m\n\u001b[0;32m   1287\u001b[0m \u001b[38;5;66;03m#  Categorical (GH51645).\u001b[39;00m\n\u001b[0;32m   1288\u001b[0m action \u001b[38;5;241m=\u001b[39m \u001b[38;5;124m\"\u001b[39m\u001b[38;5;124mignore\u001b[39m\u001b[38;5;124m\"\u001b[39m \u001b[38;5;28;01mif\u001b[39;00m \u001b[38;5;28misinstance\u001b[39m(obj\u001b[38;5;241m.\u001b[39mdtype, CategoricalDtype) \u001b[38;5;28;01melse\u001b[39;00m \u001b[38;5;28;01mNone\u001b[39;00m\n\u001b[1;32m-> 1289\u001b[0m mapped \u001b[38;5;241m=\u001b[39m obj\u001b[38;5;241m.\u001b[39m_map_values(\n\u001b[0;32m   1290\u001b[0m     mapper\u001b[38;5;241m=\u001b[39mcurried, na_action\u001b[38;5;241m=\u001b[39maction, convert\u001b[38;5;241m=\u001b[39m\u001b[38;5;28mself\u001b[39m\u001b[38;5;241m.\u001b[39mconvert_dtype\n\u001b[0;32m   1291\u001b[0m )\n\u001b[0;32m   1293\u001b[0m \u001b[38;5;28;01mif\u001b[39;00m \u001b[38;5;28mlen\u001b[39m(mapped) \u001b[38;5;129;01mand\u001b[39;00m \u001b[38;5;28misinstance\u001b[39m(mapped[\u001b[38;5;241m0\u001b[39m], ABCSeries):\n\u001b[0;32m   1294\u001b[0m     \u001b[38;5;66;03m# GH#43986 Need to do list(mapped) in order to get treated as nested\u001b[39;00m\n\u001b[0;32m   1295\u001b[0m     \u001b[38;5;66;03m#  See also GH#25959 regarding EA support\u001b[39;00m\n\u001b[0;32m   1296\u001b[0m     \u001b[38;5;28;01mreturn\u001b[39;00m obj\u001b[38;5;241m.\u001b[39m_constructor_expanddim(\u001b[38;5;28mlist\u001b[39m(mapped), index\u001b[38;5;241m=\u001b[39mobj\u001b[38;5;241m.\u001b[39mindex)\n",
      "File \u001b[1;32m~\\AppData\\Roaming\\Python\\Python311\\site-packages\\pandas\\core\\base.py:921\u001b[0m, in \u001b[0;36mIndexOpsMixin._map_values\u001b[1;34m(self, mapper, na_action, convert)\u001b[0m\n\u001b[0;32m    918\u001b[0m \u001b[38;5;28;01mif\u001b[39;00m \u001b[38;5;28misinstance\u001b[39m(arr, ExtensionArray):\n\u001b[0;32m    919\u001b[0m     \u001b[38;5;28;01mreturn\u001b[39;00m arr\u001b[38;5;241m.\u001b[39mmap(mapper, na_action\u001b[38;5;241m=\u001b[39mna_action)\n\u001b[1;32m--> 921\u001b[0m \u001b[38;5;28;01mreturn\u001b[39;00m algorithms\u001b[38;5;241m.\u001b[39mmap_array(arr, mapper, na_action\u001b[38;5;241m=\u001b[39mna_action, convert\u001b[38;5;241m=\u001b[39mconvert)\n",
      "File \u001b[1;32m~\\AppData\\Roaming\\Python\\Python311\\site-packages\\pandas\\core\\algorithms.py:1814\u001b[0m, in \u001b[0;36mmap_array\u001b[1;34m(arr, mapper, na_action, convert)\u001b[0m\n\u001b[0;32m   1812\u001b[0m values \u001b[38;5;241m=\u001b[39m arr\u001b[38;5;241m.\u001b[39mastype(\u001b[38;5;28mobject\u001b[39m, copy\u001b[38;5;241m=\u001b[39m\u001b[38;5;28;01mFalse\u001b[39;00m)\n\u001b[0;32m   1813\u001b[0m \u001b[38;5;28;01mif\u001b[39;00m na_action \u001b[38;5;129;01mis\u001b[39;00m \u001b[38;5;28;01mNone\u001b[39;00m:\n\u001b[1;32m-> 1814\u001b[0m     \u001b[38;5;28;01mreturn\u001b[39;00m lib\u001b[38;5;241m.\u001b[39mmap_infer(values, mapper, convert\u001b[38;5;241m=\u001b[39mconvert)\n\u001b[0;32m   1815\u001b[0m \u001b[38;5;28;01melse\u001b[39;00m:\n\u001b[0;32m   1816\u001b[0m     \u001b[38;5;28;01mreturn\u001b[39;00m lib\u001b[38;5;241m.\u001b[39mmap_infer_mask(\n\u001b[0;32m   1817\u001b[0m         values, mapper, mask\u001b[38;5;241m=\u001b[39misna(values)\u001b[38;5;241m.\u001b[39mview(np\u001b[38;5;241m.\u001b[39muint8), convert\u001b[38;5;241m=\u001b[39mconvert\n\u001b[0;32m   1818\u001b[0m     )\n",
      "File \u001b[1;32mlib.pyx:2926\u001b[0m, in \u001b[0;36mpandas._libs.lib.map_infer\u001b[1;34m()\u001b[0m\n",
      "Cell \u001b[1;32mIn[316], line 1\u001b[0m, in \u001b[0;36m<lambda>\u001b[1;34m(x)\u001b[0m\n\u001b[1;32m----> 1\u001b[0m s1\u001b[38;5;241m.\u001b[39mapply(\u001b[38;5;28;01mlambda\u001b[39;00m x: \u001b[38;5;28mint\u001b[39m(x))\n",
      "\u001b[1;31mValueError\u001b[0m: invalid literal for int() with base 10: 'a'"
     ]
    }
   ],
   "source": [
    "#pandas內建轉型\n",
    "s1.apply(lambda x: int(x))\n",
    "#'a'無法轉型，跟astype一樣"
   ]
  },
  {
   "cell_type": "code",
   "execution_count": 326,
   "id": "08374873",
   "metadata": {},
   "outputs": [
    {
     "data": {
      "text/plain": [
       "0     8\n",
       "1     a\n",
       "2    67\n",
       "3      \n",
       "4    79\n",
       "dtype: object"
      ]
     },
     "execution_count": 326,
     "metadata": {},
     "output_type": "execute_result"
    }
   ],
   "source": [
    "pd.to_numeric(s1, errors = 'ignore')"
   ]
  },
  {
   "cell_type": "code",
   "execution_count": 327,
   "id": "2d814a48",
   "metadata": {},
   "outputs": [
    {
     "data": {
      "text/plain": [
       "0     8.0\n",
       "1     NaN\n",
       "2    67.0\n",
       "3     NaN\n",
       "4    79.0\n",
       "dtype: float64"
      ]
     },
     "execution_count": 327,
     "metadata": {},
     "output_type": "execute_result"
    }
   ],
   "source": [
    "pd.to_numeric(s1, errors = 'coerce')"
   ]
  },
  {
   "cell_type": "markdown",
   "id": "5970c080",
   "metadata": {},
   "source": [
    "### 時間序列"
   ]
  },
  {
   "cell_type": "code",
   "execution_count": 329,
   "id": "e011445b",
   "metadata": {},
   "outputs": [
    {
     "data": {
      "text/plain": [
       "DatetimeIndex(['2023-01-01', '2023-01-02', '2023-01-03', '2023-01-04',\n",
       "               '2023-01-05'],\n",
       "              dtype='datetime64[ns]', freq='D')"
      ]
     },
     "execution_count": 329,
     "metadata": {},
     "output_type": "execute_result"
    }
   ],
   "source": [
    "pd.date_range('2023-01-01', periods = 5, freq = 'D')\n",
    "# date_range顯示比較完整的資訊"
   ]
  },
  {
   "cell_type": "code",
   "execution_count": 330,
   "id": "815ad458",
   "metadata": {},
   "outputs": [
    {
     "data": {
      "text/plain": [
       "PeriodIndex(['2023-01-01', '2023-01-02', '2023-01-03', '2023-01-04',\n",
       "             '2023-01-05'],\n",
       "            dtype='period[D]')"
      ]
     },
     "execution_count": 330,
     "metadata": {},
     "output_type": "execute_result"
    }
   ],
   "source": [
    "pd.period_range('2023-01-01', periods = 5, freq = 'D')"
   ]
  },
  {
   "cell_type": "code",
   "execution_count": 332,
   "id": "b0678188",
   "metadata": {},
   "outputs": [
    {
     "data": {
      "text/plain": [
       "DatetimeIndex(['2023-01-01', '2023-01-06', '2023-01-11', '2023-01-16',\n",
       "               '2023-01-21'],\n",
       "              dtype='datetime64[ns]', freq='5D')"
      ]
     },
     "execution_count": 332,
     "metadata": {},
     "output_type": "execute_result"
    }
   ],
   "source": [
    "# 以五天為一間隔\n",
    "pd.date_range('2023-01-01', periods = 5, freq = '5D')"
   ]
  },
  {
   "cell_type": "code",
   "execution_count": null,
   "id": "c9f6b037",
   "metadata": {},
   "outputs": [],
   "source": []
  }
 ],
 "metadata": {
  "kernelspec": {
   "display_name": "Python 3 (ipykernel)",
   "language": "python",
   "name": "python3"
  },
  "language_info": {
   "codemirror_mode": {
    "name": "ipython",
    "version": 3
   },
   "file_extension": ".py",
   "mimetype": "text/x-python",
   "name": "python",
   "nbconvert_exporter": "python",
   "pygments_lexer": "ipython3",
   "version": "3.11.5"
  }
 },
 "nbformat": 4,
 "nbformat_minor": 5
}
