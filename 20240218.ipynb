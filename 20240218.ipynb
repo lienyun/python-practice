{
 "cells": [
  {
   "cell_type": "code",
   "execution_count": 1,
   "id": "e6b2553f",
   "metadata": {},
   "outputs": [
    {
     "name": "stdout",
     "output_type": "stream",
     "text": [
      "Defaulting to user installation because normal site-packages is not writeable\n",
      "Collecting pymysql\n",
      "  Obtaining dependency information for pymysql from https://files.pythonhosted.org/packages/e5/30/20467e39523d0cfc2b6227902d3687a16364307260c75e6a1cb4422b0c62/PyMySQL-1.1.0-py3-none-any.whl.metadata\n",
      "  Downloading PyMySQL-1.1.0-py3-none-any.whl.metadata (4.4 kB)\n",
      "Downloading PyMySQL-1.1.0-py3-none-any.whl (44 kB)\n",
      "   ---------------------------------------- 0.0/44.8 kB ? eta -:--:--\n",
      "   --------- ------------------------------ 10.2/44.8 kB ? eta -:--:--\n",
      "   ------------------ --------------------- 20.5/44.8 kB 330.3 kB/s eta 0:00:01\n",
      "   ------------------------------------ --- 41.0/44.8 kB 330.3 kB/s eta 0:00:01\n",
      "   ---------------------------------------- 44.8/44.8 kB 316.8 kB/s eta 0:00:00\n",
      "Installing collected packages: pymysql\n",
      "Successfully installed pymysql-1.1.0\n"
     ]
    }
   ],
   "source": [
    "!pip install pymysql"
   ]
  },
  {
   "cell_type": "code",
   "execution_count": 2,
   "id": "d8f406b5",
   "metadata": {},
   "outputs": [],
   "source": [
    "import pymysql\n",
    "\n",
    "hostname = 'localhost'\n",
    "port = 3306\n",
    "username = 'root'\n",
    "password = ''\n",
    "database = ''\n",
    "\n",
    "sql = '''\n",
    "INSERT INTO `test2`.`book` (`name`, `author`, `date`, `price`, `version`) VALUES ('上流兒童', '吳曉樂', '20190801', '350', '1.0.0.1');\n",
    "'''\n",
    "\n",
    "con = pymysql.connect(user = username, password = password, host = hostname, port = port)\n",
    "\n",
    "cur = con.cursor()\n",
    "cur.execute(sql)\n",
    "\n",
    "con.commit()\n",
    "cur.close()\n",
    "con.close()\n"
   ]
  },
  {
   "cell_type": "code",
   "execution_count": 3,
   "id": "f847838c",
   "metadata": {},
   "outputs": [
    {
     "data": {
      "text/plain": [
       "'C:\\\\Users\\\\wendy.c\\\\Desktop\\\\python'"
      ]
     },
     "execution_count": 3,
     "metadata": {},
     "output_type": "execute_result"
    }
   ],
   "source": [
    "%pwd"
   ]
  },
  {
   "cell_type": "code",
   "execution_count": 4,
   "id": "7903b822",
   "metadata": {},
   "outputs": [
    {
     "data": {
      "text/plain": [
       "[('20171221', 'Python 入門邁向高手之路王者歸來', '9789865000592', 699),\n",
       " ('20180904', 'Python 程式設計入門：金融商管實務案例, 3/e', '9789864343300', 550),\n",
       " ('20190815', 'Python 最強入門邁向頂尖高手之路：王者歸來 (全彩版)', '9789869807241', 1000),\n",
       " ('20190705', '超圖解 Python 程式設計入門', '9789863125952', 650),\n",
       " ('20161229', 'Python 自動化的樂趣｜搞定重複瑣碎 & 單調無聊的工作 (中文版)', '9789864762729', 500),\n",
       " ('20190325',\n",
       "  'Python零基礎入門班(第二版)：一次打好程式設計、運算思維與邏輯訓練基本功！',\n",
       "  '9789865020798',\n",
       "  390),\n",
       " ('20190806', '秋聲教你玩Python：給挑戰者的修行之路', '9789864344147', 450),\n",
       " ('20161102', 'Python 程式設計「超入門」', '9789863123798', 420),\n",
       " ('20160630', 'Python 程式設計入門指南', '9789864760527', 520),\n",
       " ('20170421', '學會 Python：從不懂，到玩上手！', '9789863124245', 550)]"
      ]
     },
     "execution_count": 4,
     "metadata": {},
     "output_type": "execute_result"
    }
   ],
   "source": [
    "import booklist\n",
    "booklist.getbooklist()"
   ]
  },
  {
   "cell_type": "code",
   "execution_count": 13,
   "id": "dbf0fe51",
   "metadata": {},
   "outputs": [
    {
     "data": {
      "text/html": [
       "<div>\n",
       "<style scoped>\n",
       "    .dataframe tbody tr th:only-of-type {\n",
       "        vertical-align: middle;\n",
       "    }\n",
       "\n",
       "    .dataframe tbody tr th {\n",
       "        vertical-align: top;\n",
       "    }\n",
       "\n",
       "    .dataframe thead th {\n",
       "        text-align: right;\n",
       "    }\n",
       "</style>\n",
       "<table border=\"1\" class=\"dataframe\">\n",
       "  <thead>\n",
       "    <tr style=\"text-align: right;\">\n",
       "      <th></th>\n",
       "      <th>name</th>\n",
       "      <th>author</th>\n",
       "      <th>date</th>\n",
       "      <th>price</th>\n",
       "      <th>version</th>\n",
       "    </tr>\n",
       "  </thead>\n",
       "  <tbody>\n",
       "    <tr>\n",
       "      <th>0</th>\n",
       "      <td>Python 入門邁向高手之路王者歸來</td>\n",
       "      <td>amin</td>\n",
       "      <td>20171221</td>\n",
       "      <td>699</td>\n",
       "      <td>1.0.0.1</td>\n",
       "    </tr>\n",
       "    <tr>\n",
       "      <th>1</th>\n",
       "      <td>Python 程式設計入門：金融商管實務案例, 3/e</td>\n",
       "      <td>amin</td>\n",
       "      <td>20180904</td>\n",
       "      <td>550</td>\n",
       "      <td>1.0.0.1</td>\n",
       "    </tr>\n",
       "    <tr>\n",
       "      <th>2</th>\n",
       "      <td>Python 最強入門邁向頂尖高手之路：王者歸來 (全彩版)</td>\n",
       "      <td>amin</td>\n",
       "      <td>20190815</td>\n",
       "      <td>1000</td>\n",
       "      <td>1.0.0.1</td>\n",
       "    </tr>\n",
       "    <tr>\n",
       "      <th>3</th>\n",
       "      <td>超圖解 Python 程式設計入門</td>\n",
       "      <td>amin</td>\n",
       "      <td>20190705</td>\n",
       "      <td>650</td>\n",
       "      <td>1.0.0.1</td>\n",
       "    </tr>\n",
       "    <tr>\n",
       "      <th>4</th>\n",
       "      <td>Python 自動化的樂趣｜搞定重複瑣碎 &amp; 單調無聊的工作 (中文版)</td>\n",
       "      <td>amin</td>\n",
       "      <td>20161229</td>\n",
       "      <td>500</td>\n",
       "      <td>1.0.0.1</td>\n",
       "    </tr>\n",
       "    <tr>\n",
       "      <th>5</th>\n",
       "      <td>Python零基礎入門班(第二版)：一次打好程式設計、運算思維與邏輯訓練基本功！</td>\n",
       "      <td>amin</td>\n",
       "      <td>20190325</td>\n",
       "      <td>390</td>\n",
       "      <td>1.0.0.1</td>\n",
       "    </tr>\n",
       "    <tr>\n",
       "      <th>6</th>\n",
       "      <td>秋聲教你玩Python：給挑戰者的修行之路</td>\n",
       "      <td>amin</td>\n",
       "      <td>20190806</td>\n",
       "      <td>450</td>\n",
       "      <td>1.0.0.1</td>\n",
       "    </tr>\n",
       "    <tr>\n",
       "      <th>7</th>\n",
       "      <td>Python 程式設計「超入門」</td>\n",
       "      <td>amin</td>\n",
       "      <td>20161102</td>\n",
       "      <td>420</td>\n",
       "      <td>1.0.0.1</td>\n",
       "    </tr>\n",
       "    <tr>\n",
       "      <th>8</th>\n",
       "      <td>Python 程式設計入門指南</td>\n",
       "      <td>amin</td>\n",
       "      <td>20160630</td>\n",
       "      <td>520</td>\n",
       "      <td>1.0.0.1</td>\n",
       "    </tr>\n",
       "    <tr>\n",
       "      <th>9</th>\n",
       "      <td>學會 Python：從不懂，到玩上手！</td>\n",
       "      <td>amin</td>\n",
       "      <td>20170421</td>\n",
       "      <td>550</td>\n",
       "      <td>1.0.0.1</td>\n",
       "    </tr>\n",
       "  </tbody>\n",
       "</table>\n",
       "</div>"
      ],
      "text/plain": [
       "                                       name author      date  price  version\n",
       "0                       Python 入門邁向高手之路王者歸來   amin  20171221    699  1.0.0.1\n",
       "1               Python 程式設計入門：金融商管實務案例, 3/e   amin  20180904    550  1.0.0.1\n",
       "2            Python 最強入門邁向頂尖高手之路：王者歸來 (全彩版)   amin  20190815   1000  1.0.0.1\n",
       "3                         超圖解 Python 程式設計入門   amin  20190705    650  1.0.0.1\n",
       "4      Python 自動化的樂趣｜搞定重複瑣碎 & 單調無聊的工作 (中文版)   amin  20161229    500  1.0.0.1\n",
       "5  Python零基礎入門班(第二版)：一次打好程式設計、運算思維與邏輯訓練基本功！   amin  20190325    390  1.0.0.1\n",
       "6                     秋聲教你玩Python：給挑戰者的修行之路   amin  20190806    450  1.0.0.1\n",
       "7                          Python 程式設計「超入門」   amin  20161102    420  1.0.0.1\n",
       "8                           Python 程式設計入門指南   amin  20160630    520  1.0.0.1\n",
       "9                       學會 Python：從不懂，到玩上手！   amin  20170421    550  1.0.0.1"
      ]
     },
     "execution_count": 13,
     "metadata": {},
     "output_type": "execute_result"
    }
   ],
   "source": [
    "import booklist\n",
    "import pandas as pd\n",
    "df = pd.DataFrame(booklist.getbooklist())\n",
    "df.columns = ['date','name','ISBN','price']\n",
    "df.insert(2, 'author','amin')\n",
    "df.insert(5, 'version','1.0.0.1')\n",
    "df1 = df[['name','author','date','price','version']].copy()\n",
    "df1"
   ]
  },
  {
   "cell_type": "code",
   "execution_count": 27,
   "id": "6a56f914",
   "metadata": {},
   "outputs": [],
   "source": [
    "import pymysql\n",
    "\n",
    "hostname = 'localhost'\n",
    "port = 3306\n",
    "username = 'root'\n",
    "password = ''\n",
    "database = ''\n",
    "\n",
    "sql = '''\n",
    "INSERT INTO `test2`.`book` (`name`, `author`, `date`, `price`, `version`) VALUES (%s, %s, %s, %s, %s);\n",
    "'''\n",
    "\n",
    "con = pymysql.connect(user = username, password = password, host = hostname, port = port)\n",
    "\n",
    "cur = con.cursor()\n",
    "cur.executemany(sql,df1.values.tolist())\n",
    "rows = cur.fetchall()\n",
    "con.commit()\n",
    "cur.close()\n",
    "con.close()\n",
    "\n",
    "for row in rows:\n",
    "    print(row)"
   ]
  },
  {
   "cell_type": "code",
   "execution_count": 25,
   "id": "bc464a87",
   "metadata": {},
   "outputs": [
    {
     "name": "stdout",
     "output_type": "stream",
     "text": [
      "(42,)\n"
     ]
    }
   ],
   "source": [
    "import pymysql\n",
    "\n",
    "hostname = 'localhost'\n",
    "port = 3306\n",
    "username = 'root'\n",
    "password = ''\n",
    "database = ''\n",
    "\n",
    "sql = '''\n",
    "-- SELECT * FROM test2.book WHERE `price` >= 500;\n",
    "-- SELECT * FROM test2.book WHERE `name` like '%Python%';\n",
    "-- SELECT count(*) FROM test2.book WHERE `name` like '%Python%';\n",
    "SELECT count(*) FROM test2.book WHERE `name` like '%Python%' AND `price` >= 500;\n",
    "'''\n",
    "\n",
    "con = pymysql.connect(user = username, password = password, host = hostname, port = port)\n",
    "\n",
    "cur = con.cursor()\n",
    "cur.execute(sql)\n",
    "rows = cur.fetchall()\n",
    "con.commit()\n",
    "cur.close()\n",
    "con.close()\n",
    "\n",
    "for row in rows:\n",
    "    print(row)"
   ]
  },
  {
   "cell_type": "code",
   "execution_count": 31,
   "id": "2baeb645",
   "metadata": {},
   "outputs": [],
   "source": [
    "import pymysql\n",
    "\n",
    "hostname = 'localhost'\n",
    "port = 3306\n",
    "username = 'root'\n",
    "password = ''\n",
    "database = 'test2'\n",
    "\n",
    "sql = '''\n",
    "DELETE FROM `book` WHERE (`id` = '65');\n",
    "'''\n",
    "\n",
    "con = pymysql.connect(user = username, password = password, host = hostname, port = port, database = database)\n",
    "\n",
    "cur = con.cursor()\n",
    "try:\n",
    "    cur.execute(sql)\n",
    "    con.commit()\n",
    "except Exception as e:\n",
    "    con.rollback() #退回到還沒執行的狀態\n",
    "\n",
    "cur.close()\n",
    "con.close()"
   ]
  },
  {
   "cell_type": "code",
   "execution_count": 41,
   "id": "0c3a9d92",
   "metadata": {},
   "outputs": [],
   "source": [
    "import sqlite3 as lite\n",
    "\n",
    "\n",
    "sql = '''\n",
    "CREATE TABLE IF NOT EXISTS 'book' (\n",
    "  id,\n",
    "  name,\n",
    "  author,\n",
    "  date,\n",
    "  price,\n",
    "  version)\n",
    "'''\n",
    "\n",
    "con = lite.connect('book.db')\n",
    "cur = con.cursor()\n",
    "try:\n",
    "    cur.execute(sql)\n",
    "    con.commit()\n",
    "except Exception as e:\n",
    "    con.rollback() #退回到還沒執行的狀態\n",
    "\n",
    "cur.close()\n",
    "con.close()"
   ]
  },
  {
   "cell_type": "code",
   "execution_count": 47,
   "id": "59a03055",
   "metadata": {},
   "outputs": [],
   "source": [
    "import sqlite3 as lite\n",
    "\n",
    "\n",
    "sql = '''\n",
    "INSERT INTO 'book' ('name', 'author', 'date', 'price', 'version')\n",
    "VALUES (?, ?, ?, ?, ?);\n",
    "'''\n",
    "con = lite.connect('book.db')\n",
    "cur = con.cursor()\n",
    "try:\n",
    "    cur.executemany(sql, df1.values.tolist())\n",
    "    con.commit()\n",
    "except Exception as e:\n",
    "    print(e)\n",
    "    con.rollback() #退回到還沒執行的狀態\n",
    "\n",
    "cur.close()\n",
    "con.close()"
   ]
  },
  {
   "cell_type": "code",
   "execution_count": 48,
   "id": "65dd1690",
   "metadata": {},
   "outputs": [
    {
     "name": "stdout",
     "output_type": "stream",
     "text": [
      "(None, 'Python 入門邁向高手之路王者歸來', 'amin', '20171221', 699, '1.0.0.1')\n",
      "(None, 'Python 程式設計入門：金融商管實務案例, 3/e', 'amin', '20180904', 550, '1.0.0.1')\n",
      "(None, 'Python 最強入門邁向頂尖高手之路：王者歸來 (全彩版)', 'amin', '20190815', 1000, '1.0.0.1')\n",
      "(None, '超圖解 Python 程式設計入門', 'amin', '20190705', 650, '1.0.0.1')\n",
      "(None, 'Python 自動化的樂趣｜搞定重複瑣碎 & 單調無聊的工作 (中文版)', 'amin', '20161229', 500, '1.0.0.1')\n",
      "(None, 'Python零基礎入門班(第二版)：一次打好程式設計、運算思維與邏輯訓練基本功！', 'amin', '20190325', 390, '1.0.0.1')\n",
      "(None, '秋聲教你玩Python：給挑戰者的修行之路', 'amin', '20190806', 450, '1.0.0.1')\n",
      "(None, 'Python 程式設計「超入門」', 'amin', '20161102', 420, '1.0.0.1')\n",
      "(None, 'Python 程式設計入門指南', 'amin', '20160630', 520, '1.0.0.1')\n",
      "(None, '學會 Python：從不懂，到玩上手！', 'amin', '20170421', 550, '1.0.0.1')\n"
     ]
    }
   ],
   "source": [
    "import sqlite3 as lite\n",
    "\n",
    "sql = '''\n",
    "SELECT * FROM 'book';\n",
    "'''\n",
    "\n",
    "con = lite.connect('book.db')\n",
    "\n",
    "cur = con.cursor()\n",
    "cur.execute(sql)\n",
    "rows = cur.fetchall() \n",
    "con.commit()\n",
    "cur.close()\n",
    "con.close()\n",
    "\n",
    "for row in rows:\n",
    "    print(row)"
   ]
  },
  {
   "cell_type": "code",
   "execution_count": 54,
   "id": "cc41f0a3",
   "metadata": {},
   "outputs": [
    {
     "ename": "OperationalError",
     "evalue": "database is locked",
     "output_type": "error",
     "traceback": [
      "\u001b[1;31m---------------------------------------------------------------------------\u001b[0m",
      "\u001b[1;31mOperationalError\u001b[0m                          Traceback (most recent call last)",
      "Cell \u001b[1;32mIn[54], line 11\u001b[0m\n\u001b[0;32m      8\u001b[0m con \u001b[38;5;241m=\u001b[39m lite\u001b[38;5;241m.\u001b[39mconnect(\u001b[38;5;124m'\u001b[39m\u001b[38;5;124mbook.db\u001b[39m\u001b[38;5;124m'\u001b[39m)\n\u001b[0;32m     10\u001b[0m cur \u001b[38;5;241m=\u001b[39m con\u001b[38;5;241m.\u001b[39mcursor()\n\u001b[1;32m---> 11\u001b[0m cur\u001b[38;5;241m.\u001b[39mexecute(sql)\n\u001b[0;32m     12\u001b[0m con\u001b[38;5;241m.\u001b[39mcommit()\n\u001b[0;32m     13\u001b[0m cur\u001b[38;5;241m.\u001b[39mclose()\n",
      "\u001b[1;31mOperationalError\u001b[0m: database is locked"
     ]
    }
   ],
   "source": [
    "import sqlite3 as lite\n",
    "\n",
    "sql = '''\n",
    "-- UPDATE \"book\" SET \"name\" = '圖解台灣歷史' WHERE \"id\" = 10;\n",
    "DELETE FROM \"book\" WHERE \"id\" = 2\n",
    "'''\n",
    "\n",
    "con = lite.connect('book.db')\n",
    "\n",
    "cur = con.cursor()\n",
    "cur.execute(sql)\n",
    "con.commit()\n",
    "cur.close()\n",
    "con.close()\n"
   ]
  },
  {
   "cell_type": "code",
   "execution_count": 55,
   "id": "09d36663",
   "metadata": {},
   "outputs": [
    {
     "name": "stdout",
     "output_type": "stream",
     "text": [
      "Defaulting to user installation because normal site-packages is not writeable\n",
      "Collecting pymongo\n",
      "  Obtaining dependency information for pymongo from https://files.pythonhosted.org/packages/c8/1a/1ba5578cc3acc8ef0dfd6eb9385f9c4b0fe3039665af93bcf062c34fcdb6/pymongo-4.6.1-cp311-cp311-win_amd64.whl.metadata\n",
      "  Downloading pymongo-4.6.1-cp311-cp311-win_amd64.whl.metadata (22 kB)\n",
      "Collecting dnspython<3.0.0,>=1.16.0 (from pymongo)\n",
      "  Obtaining dependency information for dnspython<3.0.0,>=1.16.0 from https://files.pythonhosted.org/packages/d2/e6/d44f13fcd60ea2533bd391a262cb79743ab4c1e11d9c6100067782e4f4ff/dnspython-2.6.0-py3-none-any.whl.metadata\n",
      "  Downloading dnspython-2.6.0-py3-none-any.whl.metadata (5.8 kB)\n",
      "Downloading pymongo-4.6.1-cp311-cp311-win_amd64.whl (472 kB)\n",
      "   ---------------------------------------- 0.0/472.7 kB ? eta -:--:--\n",
      "   -- ------------------------------------- 30.7/472.7 kB 1.3 MB/s eta 0:00:01\n",
      "   ----- --------------------------------- 61.4/472.7 kB 656.4 kB/s eta 0:00:01\n",
      "   ------------ --------------------------- 143.4/472.7 kB 1.2 MB/s eta 0:00:01\n",
      "   ------------------------ --------------- 286.7/472.7 kB 1.6 MB/s eta 0:00:01\n",
      "   ------------------------------------ --- 430.1/472.7 kB 1.9 MB/s eta 0:00:01\n",
      "   ---------------------------------------- 472.7/472.7 kB 2.0 MB/s eta 0:00:00\n",
      "Downloading dnspython-2.6.0-py3-none-any.whl (307 kB)\n",
      "   ---------------------------------------- 0.0/307.4 kB ? eta -:--:--\n",
      "   --------------------------------------- 307.4/307.4 kB 19.8 MB/s eta 0:00:00\n",
      "Installing collected packages: dnspython, pymongo\n",
      "Successfully installed dnspython-2.6.0 pymongo-4.6.1\n"
     ]
    }
   ],
   "source": [
    "!pip install pymongo"
   ]
  },
  {
   "cell_type": "code",
   "execution_count": 56,
   "id": "e9e86439",
   "metadata": {},
   "outputs": [
    {
     "name": "stdout",
     "output_type": "stream",
     "text": [
      "[{'_id': ObjectId('65d1b24c300807606b207d91'), 'name': 'Amin'}, {'_id': ObjectId('65d1b34b05074ed12c4ab47d'), 'name': 'Wendy'}]\n"
     ]
    }
   ],
   "source": [
    "import pymongo\n",
    "\n",
    "client = pymongo.MongoClient()\n",
    "db = client.test\n",
    "pipeline = []\n",
    "cursor = db.test.aggregate(pipeline)\n",
    "print(list(cursor))\n"
   ]
  },
  {
   "cell_type": "code",
   "execution_count": 58,
   "id": "ba8fccff",
   "metadata": {},
   "outputs": [
    {
     "name": "stdout",
     "output_type": "stream",
     "text": [
      "[{'sitename': '金門', 'county': '金門縣', 'iaqi': 151}, {'sitename': '大城', 'county': '彰化縣', 'iaqi': 108}, {'sitename': '二林', 'county': '彰化縣', 'iaqi': 99}, {'sitename': '新港', 'county': '嘉義縣', 'iaqi': 93}, {'sitename': '麥寮', 'county': '雲林縣', 'iaqi': 84}, {'sitename': '臺西', 'county': '雲林縣', 'iaqi': 82}, {'sitename': '大園', 'county': '桃園市', 'iaqi': 81}, {'sitename': '彰化(員林)', 'county': '彰化縣', 'iaqi': 81}, {'sitename': '朴子', 'county': '嘉義縣', 'iaqi': 79}, {'sitename': '臺南(麻豆)', 'county': '臺南市', 'iaqi': 79}, {'sitename': '湖口', 'county': '新竹縣', 'iaqi': 78}, {'sitename': '崙背', 'county': '雲林縣', 'iaqi': 78}, {'sitename': '新營', 'county': '臺南市', 'iaqi': 77}, {'sitename': '臺南', 'county': '臺南市', 'iaqi': 74}, {'sitename': '林園', 'county': '高雄市', 'iaqi': 74}, {'sitename': '前鎮', 'county': '高雄市', 'iaqi': 74}, {'sitename': '三重', 'county': '新北市', 'iaqi': 74}, {'sitename': '忠明', 'county': '臺中市', 'iaqi': 72}, {'sitename': '嘉義', 'county': '嘉義市', 'iaqi': 72}, {'sitename': '安南', 'county': '臺南市', 'iaqi': 72}, {'sitename': '仁武', 'county': '高雄市', 'iaqi': 72}, {'sitename': '新竹', 'county': '新竹市', 'iaqi': 71}, {'sitename': '西屯', 'county': '臺中市', 'iaqi': 71}, {'sitename': '潮州', 'county': '屏東縣', 'iaqi': 70}, {'sitename': '斗六', 'county': '雲林縣', 'iaqi': 68}, {'sitename': '左營', 'county': '高雄市', 'iaqi': 68}, {'sitename': '屏東', 'county': '屏東縣', 'iaqi': 68}, {'sitename': '大同', 'county': '臺北市', 'iaqi': 67}, {'sitename': '線西', 'county': '彰化縣', 'iaqi': 67}, {'sitename': '復興', 'county': '高雄市', 'iaqi': 67}, {'sitename': '觀音', 'county': '桃園市', 'iaqi': 66}, {'sitename': '萬華', 'county': '臺北市', 'iaqi': 65}, {'sitename': '橋頭', 'county': '高雄市', 'iaqi': 65}, {'sitename': '前金', 'county': '高雄市', 'iaqi': 65}, {'sitename': '小港', 'county': '高雄市', 'iaqi': 65}, {'sitename': '屏東(琉球)', 'county': '屏東縣', 'iaqi': 65}, {'sitename': '菜寮', 'county': '新北市', 'iaqi': 64}, {'sitename': '淡水', 'county': '新北市', 'iaqi': 64}, {'sitename': '大寮', 'county': '高雄市', 'iaqi': 64}, {'sitename': '大里', 'county': '臺中市', 'iaqi': 63}, {'sitename': '楠梓', 'county': '高雄市', 'iaqi': 63}, {'sitename': '中壢', 'county': '桃園市', 'iaqi': 63}, {'sitename': '美濃', 'county': '高雄市', 'iaqi': 62}, {'sitename': '鳳山', 'county': '高雄市', 'iaqi': 62}, {'sitename': '中山', 'county': '臺北市', 'iaqi': 61}, {'sitename': '桃園', 'county': '桃園市', 'iaqi': 61}, {'sitename': '沙鹿', 'county': '臺中市', 'iaqi': 61}, {'sitename': '基隆', 'county': '基隆市', 'iaqi': 60}, {'sitename': '板橋', 'county': '新北市', 'iaqi': 60}, {'sitename': '新莊', 'county': '新北市', 'iaqi': 60}, {'sitename': '善化', 'county': '臺南市', 'iaqi': 60}, {'sitename': '馬祖', 'county': '連江縣', 'iaqi': 58}, {'sitename': '松山', 'county': '臺北市', 'iaqi': 57}, {'sitename': '高雄(湖內)', 'county': '高雄市', 'iaqi': 57}, {'sitename': '豐原', 'county': '臺中市', 'iaqi': 56}, {'sitename': '彰化', 'county': '彰化縣', 'iaqi': 55}, {'sitename': '埔里', 'county': '南投縣', 'iaqi': 55}, {'sitename': '新北(樹林)', 'county': '新北市', 'iaqi': 55}, {'sitename': '土城', 'county': '新北市', 'iaqi': 54}, {'sitename': '頭份', 'county': '苗栗縣', 'iaqi': 54}, {'sitename': '竹山', 'county': '南投縣', 'iaqi': 54}, {'sitename': '富貴角', 'county': '新北市', 'iaqi': 54}, {'sitename': '屏東縣（泰武）', 'county': '屏東縣', 'iaqi': 54}, {'sitename': '平鎮', 'county': '桃園市', 'iaqi': 51}, {'sitename': '南投', 'county': '南投縣', 'iaqi': 51}, {'sitename': '永和', 'county': '新北市', 'iaqi': 51}, {'sitename': '竹東', 'county': '新竹縣', 'iaqi': 49}, {'sitename': '新店', 'county': '新北市', 'iaqi': 47}, {'sitename': '苗栗', 'county': '苗栗縣', 'iaqi': 47}, {'sitename': '汐止', 'county': '新北市', 'iaqi': 46}, {'sitename': '士林', 'county': '臺北市', 'iaqi': 46}, {'sitename': '馬公', 'county': '澎湖縣', 'iaqi': 45}, {'sitename': '萬里', 'county': '新北市', 'iaqi': 43}, {'sitename': '林口', 'county': '新北市', 'iaqi': 43}, {'sitename': '古亭', 'county': '臺北市', 'iaqi': 40}, {'sitename': '龍潭', 'county': '桃園市', 'iaqi': 39}, {'sitename': '三義', 'county': '苗栗縣', 'iaqi': 37}, {'sitename': '陽明', 'county': '臺北市', 'iaqi': 36}, {'sitename': '屏東(枋山)', 'county': '屏東縣', 'iaqi': 32}, {'sitename': '恆春', 'county': '屏東縣', 'iaqi': 31}, {'sitename': '臺東', 'county': '臺東縣', 'iaqi': 26}, {'sitename': '花蓮', 'county': '花蓮縣', 'iaqi': 26}, {'sitename': '宜蘭', 'county': '宜蘭縣', 'iaqi': 26}, {'sitename': '冬山', 'county': '宜蘭縣', 'iaqi': 23}, {'sitename': '關山', 'county': '臺東縣', 'iaqi': 22}]\n"
     ]
    }
   ],
   "source": [
    "import pymongo\n",
    "\n",
    "DATABASE = 'test'\n",
    "COLLECTION = 'opendata'\n",
    "client = pymongo.MongoClient()\n",
    "db = client[DATABASE]\n",
    "\n",
    "pipeline = [\n",
    "    {\n",
    "        '$addFields': {\n",
    "            'iaqi': {\n",
    "                '$toInt': '$aqi'\n",
    "            }\n",
    "        }\n",
    "    }, {\n",
    "        '$project': {\n",
    "            'county': 1, \n",
    "            'iaqi': 1, \n",
    "            '_id': 0, \n",
    "            'sitename': 1\n",
    "        }\n",
    "    }, {\n",
    "        '$sort': {\n",
    "            'iaqi': -1\n",
    "        }\n",
    "    }\n",
    "]\n",
    "docs = db[COLLECTION].aggregate(pipeline)\n",
    "print(list(docs))"
   ]
  },
  {
   "cell_type": "code",
   "execution_count": null,
   "id": "26326e5b",
   "metadata": {},
   "outputs": [],
   "source": [
    "import pandas as pd\n"
   ]
  }
 ],
 "metadata": {
  "kernelspec": {
   "display_name": "Python 3 (ipykernel)",
   "language": "python",
   "name": "python3"
  },
  "language_info": {
   "codemirror_mode": {
    "name": "ipython",
    "version": 3
   },
   "file_extension": ".py",
   "mimetype": "text/x-python",
   "name": "python",
   "nbconvert_exporter": "python",
   "pygments_lexer": "ipython3",
   "version": "3.11.5"
  }
 },
 "nbformat": 4,
 "nbformat_minor": 5
}
